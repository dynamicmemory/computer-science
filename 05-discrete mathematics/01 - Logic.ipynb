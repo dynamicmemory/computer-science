{
 "cells": [
  {
   "cell_type": "markdown",
   "id": "487f8396-2fb9-470b-b469-586d05e5b618",
   "metadata": {},
   "source": [
    "# Week 1 Discrete Mathematics\n",
    "<hr>"
   ]
  },
  {
   "cell_type": "markdown",
   "id": "1b02a2bf-b1df-48c8-a372-7280e3577fd2",
   "metadata": {
    "jp-MarkdownHeadingCollapsed": true
   },
   "source": [
    "# Statements"
   ]
  },
  {
   "cell_type": "markdown",
   "id": "5718c658-a0a6-4ab0-8d54-9c8a4051a437",
   "metadata": {
    "jp-MarkdownHeadingCollapsed": true
   },
   "source": [
    "## A brief History of Symbolic Logic\n",
    "- 384-322 B.C. Aristotle: deductive resoning\n",
    "- 1646-1716 Leibniz: ideas of using symbols for deductive reasoning\n",
    "- 1815-1864 Boole: symbolic logic\n",
    "- 1807-1871 De Morgan: symbolic logic\n",
    "- 1916-2001 Shannon: switching circuits and logical connectives -> DLC"
   ]
  },
  {
   "cell_type": "markdown",
   "id": "4329cbf5-70df-4e8d-b0bc-0912c2ab51c4",
   "metadata": {},
   "source": [
    "## Statements\n",
    "A statement or proposition is a sentence that is either true or false\n",
    "\n",
    "- the sum of two numbers gives another number</ls>\n",
    "- your first name is penelope</ls>\n",
    "- it is sunny today</ls>\n"
   ]
  },
  {
   "cell_type": "markdown",
   "id": "c2f4ced9-2df9-4e06-b9ac-d372cba523d0",
   "metadata": {},
   "source": [
    "## Compound statements\n",
    "^ denotes \"and\", v denotes \"or\" and ~ denotes \"not\"\n",
    "\n",
    "1) I will work hard\n",
    "2) I will do well\n",
    "\n",
    "Compound statements - Conjunction, Disjunction, Negation\n",
    "1) I will work hard and I will do well - This is called a CONJUNCTION\n",
    "2) I will work hard or I will do well - This is called a DISJUNCTION\n",
    "3) I will not work hard - This is called a negation"
   ]
  },
  {
   "cell_type": "markdown",
   "id": "caf855c0-fcc5-461e-9fa4-3079ed2bde20",
   "metadata": {},
   "source": [
    "## Statement variables\n",
    "\n",
    "Abstraction 1 - Take a particular case of something and generalize it in some way.\n",
    "Abstraction 2 - Find an underlying pattern or property, describe it at an appropiate level, then generalize this descripton to give it broader applicability\n",
    "\n",
    "Statement variable - A variable, typically denoted p or q, that represents a statement.\n",
    "- Let p be \"it is hot today\"\n",
    "- Let q be 1+1=2\n",
    "\n"
   ]
  },
  {
   "cell_type": "markdown",
   "id": "5b5be649-43b2-49fe-a6e2-a1f2d8a959d3",
   "metadata": {},
   "source": [
    "## Statement form\n",
    "Statement form iss an expression made up of a staement variable and a logical connective\n",
    "\n",
    "Example:\n",
    "- Let p be I will work hard\n",
    "- Let q be I will do well\n",
    "\n",
    "Then, \n",
    " - I will work hard and I will do well\n",
    "becomes\n",
    "- p^q\n",
    "\n",
    "What is pV(~q)?\n",
    "- I will work hard or I will not do well"
   ]
  },
  {
   "cell_type": "markdown",
   "id": "1f8d0b9d-d1c0-4694-b5ea-f4977c3549f2",
   "metadata": {
    "jp-MarkdownHeadingCollapsed": true
   },
   "source": [
    "# Truth Tables\n",
    "\n",
    "\n",
    "\n",
    "\n"
   ]
  },
  {
   "cell_type": "markdown",
   "id": "f4293e43-debc-4811-9982-cdbf08f079cb",
   "metadata": {},
   "source": [
    "The truth table for a given staemnet form displays the truth values that correspond to all possible combinations of truth values for its component statement variables"
   ]
  },
  {
   "cell_type": "markdown",
   "id": "b41ca2bb-c66c-4878-a2db-f37f0864e34a",
   "metadata": {
    "jp-MarkdownHeadingCollapsed": true
   },
   "source": [
    "## Truth table for negation:\n",
    "\n",
    "| p | ~ p |\n",
    "| :-: | :-: |\n",
    "| T | F |\n",
    "| F | T |\n",
    "~ p is the opposite of p"
   ]
  },
  {
   "cell_type": "markdown",
   "id": "0b3dd132-cab2-4a36-b2c8-920c1875a66d",
   "metadata": {},
   "source": [
    "## The truth table for conjunction is :\n",
    "| p  q | p ^ q |\n",
    "| :-: | :-: |\n",
    "| T  T | T |\n",
    "| T  F | F |\n",
    "| F  T | F |\n",
    "| F  F | F | \n",
    "\n",
    "This is because p^q  is only true when p and q are both true. It is false otherwise\n",
    "\n",
    "IMPORTANT NOTE\n",
    "The number rows of in a truth table grows 2 to the power of the number of statement variable and the rows grow exponentionally as the statement variables are increased."
   ]
  },
  {
   "cell_type": "markdown",
   "id": "742e26c5-ab88-43d1-9c00-521def8e2d41",
   "metadata": {},
   "source": [
    "## The truth table for disjunction is :\n",
    "| p  q | p V q |\n",
    "| :-: | :-: |\n",
    "| T  T | T |\n",
    "| T  F | T |\n",
    "| F  T | T |\n",
    "| F  F | F | \n",
    "\n",
    "\n",
    "This is because p V q is always true if either p or q are true. It is only false if p and q are both false. "
   ]
  },
  {
   "cell_type": "markdown",
   "id": "c82d36e4-4b74-4c36-b11f-8bba528b2aaf",
   "metadata": {},
   "source": [
    "Consider \n",
    "| p q| pVq p^q ~(p^q) | (pVq) ^ ~(p^q)) |\n",
    "| :-: | :-: |:-: |\n",
    "|T T| T T F | F |\n",
    "|T F| T F T | T |\n",
    "|F T| T F T | T |\n",
    "|F F| F F T | F |\n",
    "\n",
    "This is called an XOR value( exclusive or ), used alot in digital circuits"
   ]
  },
  {
   "cell_type": "markdown",
   "id": "6889fcd6-e669-465f-9e95-201433d050f9",
   "metadata": {
    "jp-MarkdownHeadingCollapsed": true
   },
   "source": [
    "# Logical equivalence"
   ]
  },
  {
   "cell_type": "markdown",
   "id": "a850979a-7460-46b9-9c2c-0ab9bff5c1d4",
   "metadata": {},
   "source": [
    "When two statement forms are logically equivalent it means\n",
    "they are either both true, or they are both false."
   ]
  },
  {
   "cell_type": "markdown",
   "id": "07820c95-e964-427b-96fb-ace2e00bdef5",
   "metadata": {},
   "source": [
    "## Truth table for double negation:\n",
    "\n",
    "| p | ~ p | ~ ( ~ p ) |\n",
    "| :-: | :-: | :-: |\n",
    "| T | F | T |\n",
    "| F | T | F |\n",
    "\n",
    "- Notice the first and last columns have the same values\n",
    "\n",
    "- If the two statement forms have the smae truth value in each row of a truth table, then those two statement forms are logically equivalent.\n",
    "\n"
   ]
  },
  {
   "cell_type": "markdown",
   "id": "7d274364-e3bd-443b-92db-8392214c90cb",
   "metadata": {},
   "source": [
    "\"That wont do you no good\"\n",
    "\n",
    "Is the opposite of what it means as it is a double negative"
   ]
  },
  {
   "cell_type": "markdown",
   "id": "adfd37dc-5d32-4956-822c-4ed5e0de51e7",
   "metadata": {},
   "source": [
    "There are two possible ways to show two statement forms are\n",
    "not logically equivalent.\n",
    "1. One or more rows of their truth tables have truth values\n",
    "that differ.\n",
    "2. Find concrete statements for each of the forms, one of\n",
    "which is true and the other which is false."
   ]
  },
  {
   "cell_type": "markdown",
   "id": "6cfd7911-63fd-4de8-8a8e-2941ec91707a",
   "metadata": {},
   "source": [
    "### Method 1\n",
    "|p | q | ~ p | ~ q | p^q | ~ ( p ^ q ) | ~ p ^ ~ q |\n",
    "| :-: | :-: | :-: | :-: | :-: | :-: | :-: |\n",
    "| T |T |F|F|T|F|F|\n",
    "|T|F|F|T|F|T|F|\n",
    "\n",
    "We ddont have to continue because we have already found they differ on the last row\n",
    "\n",
    "Therefore, ~ (p ^ q) and ~p ^ ~q are not logically equivalent by method 1"
   ]
  },
  {
   "cell_type": "markdown",
   "id": "dc22038f-ad95-4ea1-9047-4227a8183879",
   "metadata": {},
   "source": [
    "### Now we look at method 2\n",
    "- Let p be the statement 0 < 1\n",
    "- Let q be the statement 1 < 0\n",
    "\n",
    "Then ~ (p ^ q) is not the case that both 0 < 1 and 1 < 0\n",
    "which is TRUE as 0 is less than 1 and 1 is not less then 0 so ~ (p ^ q) is TRUE\n",
    "\n",
    "However\n",
    "- ~p ^ ~p is 0 not less than 1 and 1 not less than 0\n",
    "- Which is false because 0 is not less than 1 is FALSE as 0 is less than 1...\n",
    "- therefore the staement i s FALSE And so they are no logically eqivelant."
   ]
  },
  {
   "cell_type": "markdown",
   "id": "77bb3501-65c6-41b5-8647-0c73e4c1a2f9",
   "metadata": {},
   "source": [
    "There are concrete statements you can substitute for p and q\n",
    "to make one of the statement forms true and the other false.\n",
    "Therefore, the statement forms ∼ (p ∧ q) and ∼ p ∧ ∼ q are\n",
    "not logically equivalent by Method 2."
   ]
  },
  {
   "cell_type": "markdown",
   "id": "13e153e3-eaf1-40d1-b973-a948ac043d49",
   "metadata": {
    "jp-MarkdownHeadingCollapsed": true
   },
   "source": [
    "# De Morgan's Law\n",
    "\n"
   ]
  },
  {
   "cell_type": "markdown",
   "id": "e36b0994-aad7-4bd4-b789-90c48d22738d",
   "metadata": {},
   "source": [
    "The negation of an \"and\" statement is logically equiv to the \"or\" statement in which each statement virable is negated,\n",
    "- ~ (p ^ q) == ~p V ~q\n",
    "\n",
    "The negation of an \"or\" statement is logically equiv to the \"and\" statement in which each statement variable is negated,\n",
    "- ~ (p V q) == ~p ^ ~q\n"
   ]
  },
  {
   "cell_type": "markdown",
   "id": "9f07c9ea-e80d-46e6-9d31-33e8de0c6e86",
   "metadata": {},
   "source": [
    "### Consider the negation of the following statement,\n",
    "- Jo studies Biology OR Jo studies Computer Science.\n",
    "#### Applying De Morgan’s Laws, the negation becomes:\n",
    "- Jo does NOT study Biology AND Jo does NOT study Computer Science.\n",
    "### Consider the negation of the following statement,\n",
    "- Jim is 6 feet tall AND Jim weighs 100kg.\n",
    "#### Applying De Morgan’s Laws, the negation becomes:\n",
    "- Jim is NOT 6 feet tall OR Jim does NOT weigh 100kg"
   ]
  },
  {
   "cell_type": "markdown",
   "id": "22676ed1-1c55-4f01-879b-dad1fbb6331d",
   "metadata": {},
   "source": [
    "If a statement is true, then its negation is false.\n",
    "On the other hand if its negation is true then the original statement is false."
   ]
  },
  {
   "cell_type": "markdown",
   "id": "19c00fac-d844-4aa2-bc63-388e23a0c687",
   "metadata": {
    "jp-MarkdownHeadingCollapsed": true
   },
   "source": [
    "# Tautologies and contradictions"
   ]
  },
  {
   "cell_type": "markdown",
   "id": "b6961f93-e6e4-4a8c-89f0-68551bd148c4",
   "metadata": {},
   "source": [
    "- A TAUTOLOGY is a statement form that is always true\n",
    "- A CONTRADICTION is a statement form that is always false."
   ]
  },
  {
   "cell_type": "markdown",
   "id": "ccbbd59a-1070-4040-ac63-15dfb43c8e28",
   "metadata": {},
   "source": [
    "Consider the following Truth tables:\n",
    "\n",
    "|p  t| p^t|\n",
    "|:-:|:-:|\n",
    "|T T|T|\n",
    "|F T|F|\n",
    "\n",
    "So p ^ t == p\n",
    "\n",
    "|p  c| p^c|\n",
    "|:-:|:-:|\n",
    "|T F|F|\n",
    "|F F|F|\n",
    "\n",
    "So p ^ c == c"
   ]
  },
  {
   "cell_type": "markdown",
   "id": "3b980a34-6449-44d8-98db-16dc4ef765b9",
   "metadata": {
    "editable": true,
    "jp-MarkdownHeadingCollapsed": true,
    "slideshow": {
     "slide_type": ""
    },
    "tags": []
   },
   "source": [
    "# Summary of logical equivalences\n"
   ]
  },
  {
   "cell_type": "markdown",
   "id": "aa27842f-ef5f-4ab6-949b-9f506664ec84",
   "metadata": {},
   "source": [
    "|#No|Name|first|second|\n",
    "|:-|:-|:-|:-|\n",
    "|1. |Commutative laws | p ∧ q ≡ q ∧ p | p ∨ q ≡ q ∨ p|\n",
    " |2. |Associative laws | (p ∧ q) ∧ r ≡ p ∧ (q ∧ r) | (p ∨ q) ∨ r ≡ p ∨ (q ∨ r)|\n",
    " |3. |Distributive laws | p ∧ (q ∨ r) ≡ (p ∧ q) ∨ (p ∧ r) | p ∨ (q ∧ r) ≡ (p ∨ q) ∧ (p ∨ r)|\n",
    " |4. |Identity laws | p ∧ t ≡ p | p ∨ c ≡ p|\n",
    " |5. |Negation laws | p ∨ ∼ p ≡ t | p ∧ ∼ p ≡ c|\n",
    " |6. |Double negative law | ∼ (∼ p) ≡ p||\n",
    " |7. |Idempotent laws | p ∧ p ≡ p | p ∨ p ≡ p|\n",
    " |8. |Universal bound laws | p ∨ t ≡ t | p ∧ c ≡ c|\n",
    " |9. |De Morgan's laws | ∼ (p ∧ q) ≡ ∼ p ∨ ∼ q | ∼ (p ∨ q) ≡ ∼ p ∧ ∼ q|\n",
    " |10. |Absorption laws | p ∨ (p ∧ q) ≡ p | p ∧ (p ∨ q) ≡ p|\n",
    " |11. |Negations of t and c| ∼ t ≡ c | ∼ c ≡ t|"
   ]
  },
  {
   "cell_type": "markdown",
   "id": "60fd77fd-21cc-4d4e-9855-3d003216b05c",
   "metadata": {},
   "source": [
    "### Use the logical equivalence identities to verify that\n",
    "#### ∼ (∼ p ∧ q) ∧ (p ∨ q) ≡ p.\n",
    "|First|Apply|Law|\n",
    "|:-|:-|:-|\n",
    "|∼ (∼ p ∧ q) ∧ (p ∨ q) |≡ (∼ (∼ p) ∨ ∼ q) ∧ (p ∨ q) |by De Morgan’s laws|\n",
    "||≡ (p ∨ ∼ q) ∧ (p ∨ q) |by double negative law|\n",
    "||≡ p ∨ (∼ q ∧ q) |by the distributive law|\n",
    "||≡ p ∨ (q ∧ ∼ q) |by the commutative law|\n",
    "||≡ p ∨ c |by the negation law|\n",
    "||≡ p |by the identity law|"
   ]
  },
  {
   "cell_type": "markdown",
   "id": "b7120875-6226-47f5-8b3e-e94180272060",
   "metadata": {
    "jp-MarkdownHeadingCollapsed": true
   },
   "source": [
    "# Conditionals"
   ]
  },
  {
   "cell_type": "markdown",
   "id": "0e2adb29-ee63-4387-9248-d5f7e2e4f7b1",
   "metadata": {},
   "source": [
    "An important logical connective is \"if-then\" and it is denoted by ->\n",
    "\n",
    "If p and q are statement variables, the statement form for a <br>\n",
    "conditional statement is <br>\n",
    "- \"if p then q\"\n",
    "#### In symbols, it is\n",
    "- p -> q\n",
    "#### Here p is called the antecendent of the conditional statement form and q is called the consequent"
   ]
  },
  {
   "cell_type": "markdown",
   "id": "44fd658e-9328-4091-88c1-09866b33b659",
   "metadata": {},
   "source": [
    "The truth table for if-then connectors is as follows\n",
    "\n",
    "|p q|p->q|\n",
    "| :-:|:-:|\n",
    "|T T|T|\n",
    "|T F|F|\n",
    "|F T|T|\n",
    "|F F|T|"
   ]
  },
  {
   "cell_type": "markdown",
   "id": "de161a7c-5f22-42b8-8904-5498c8d24a4e",
   "metadata": {},
   "source": [
    "it is always true unless P is TRUE and Q is FALSE\n",
    "<br>\n",
    "Consider the following statement:\n",
    "- If you show up for work on monday morning, then you will get the job.\n",
    "<br>\n",
    "- p = you show up for work on monday morning\n",
    "- q = you will get the job  \n",
    "<br>\n",
    "\n",
    "If you dont show up for work on monday morning then the conditional statement is said to be <b>vacuously true of true by default</b><br>.\n",
    "In other words, if you dont show up for work on monday morning, the statement does not say what will happen, the statement has not been made false."
   ]
  },
  {
   "cell_type": "markdown",
   "id": "a1162813-c5f8-4bb2-a278-6e6ecc5de1ae",
   "metadata": {},
   "source": [
    "There is a useful logical equivalence between \"if-then\" and \"or\" that will be shown:\n",
    "\n",
    "|p q|~ p|~pVq : p->q|\n",
    "|:-:|:-:|:-:|\n",
    "|T T|F|T T|\n",
    "|T F|F|F F|\n",
    "|F T|T|T T|\n",
    "|F F|F|T T|\n",
    "\n",
    "Since the truth values in each row are the same for the last two columns of this truth table, it is the case that <br>\n",
    "- p->q == ~pVq\n",
    "  <br>\n",
    "This logical equivalence will become useful when we look at the negation of if-then.\n",
    "\n",
    "Also \n",
    "- ~(p->q) == p ^ ~q"
   ]
  },
  {
   "cell_type": "markdown",
   "id": "d29705b7-57cd-4d9a-a5fd-7f3e029d5e8f",
   "metadata": {},
   "source": [
    "To see that this logical equivalence accords with our intuition, consider the following example.\n",
    "  - Let ∼ p be you get to work on time\n",
    "  - Let q be you are fired\n",
    "- Then ∼ p ∨ q becomes,\n",
    "- you get to work on time or you are fired.\n",
    "- And p → q gives,\n",
    "- if you do not get to work on time then you are fired.\n",
    "- These two sentences have the same semantics, so their logical equivalence seems sensible."
   ]
  },
  {
   "cell_type": "markdown",
   "id": "3d75c614-77cb-4a8f-aebb-03e8041e1c2b",
   "metadata": {},
   "source": [
    "## Converse, inverse, contrapositive"
   ]
  },
  {
   "cell_type": "markdown",
   "id": "1f281dd2-967f-4378-822e-893cfca22662",
   "metadata": {},
   "source": [
    "The CONVERSE of p -> q is: (Flip)\n",
    "- q -> p<br>\n",
    "\n",
    "The INVERSE of p -> q is: (Negate)\n",
    "-  ~p -> ~q <br>\n",
    "\n",
    "The CONTRAPOSITIVE of p -> q is: (Do both flip and negate)\n",
    "- ~q -> ~p <br>\n",
    "\n",
    "and is the equivalent to taking both the converse and inverse of p -> q. <br>\n",
    "A conditional statement is logically equiv to its contrapositive."
   ]
  },
  {
   "cell_type": "markdown",
   "id": "3c0d2cc2-d437-4172-babf-d249dd31d3fe",
   "metadata": {},
   "source": [
    "## Examples\n",
    "\n",
    "Write the converse, inverse, and contrapositive of the following statement:\n",
    "- if today is Easter Sunday then tomorrow is Monday.\n",
    "\n",
    "The converse is:\n",
    "- if tomorrow is Monday then today is Easter Sunday.\n",
    "\n",
    "The inverse is:\n",
    "- if today is not Easter Sunday the tomorrow is not Monday.\n",
    "\n",
    "The contrapositive is:\n",
    "- if tomorrow is not Monday then today is not Easter Sunday.\n",
    "\n",
    "Only the contrapositive is logically equivalent to the original statement. The converse and inverse are not."
   ]
  },
  {
   "cell_type": "markdown",
   "id": "99a61201-007c-4c69-ba3f-b823e69642d7",
   "metadata": {},
   "source": [
    "## Necessary and sufficient conditions\n",
    "\n",
    "The converse of a condirtional staejment also plasys an important role in mathematical proofs.\n",
    "\n",
    "If p and q are statement variables, then p is a sufficient condition for q if p being true implies\n",
    "that q is true, but p being false does not imply that q is dalse. In symbols, this is simple the \n",
    "conditional statement form:\n",
    "- p -> q\n",
    "\n",
    "Now p is a necessary condition for q if the truth of q guarantees the truth of p. In symbols, this is that converse of the conditional statement form:\n",
    "- q -> p\n",
    "  "
   ]
  },
  {
   "cell_type": "markdown",
   "id": "a0ff7330-0f6b-48d2-a140-e5d4f9d2d5a8",
   "metadata": {},
   "source": [
    "## Example"
   ]
  },
  {
   "cell_type": "markdown",
   "id": "48b097d0-a978-4270-856f-d1f47251f875",
   "metadata": {},
   "source": [
    "if today is easter sunday then tomorrow is monday\n",
    "\n",
    "So if today is easter dunday this is a sufficientr condition for tomorrow to be monday because a monday alwasys follows a sunday.\n",
    "<br>\n",
    "\n",
    "However it is not a necessary condition. In one year, there are at least 52 sundays that lead to mondays, and only one of these is easter sunday.\n",
    "<br><br>\n",
    "A necessary condition for q = tomorrow is monday is that p = today is sunday."
   ]
  },
  {
   "cell_type": "markdown",
   "id": "bb5d82fd-6758-4bc2-a3a3-2294732d2059",
   "metadata": {},
   "source": [
    "if p and q are statement variables, then stating that p is a necessary and sufficent condition for q means\n",
    "- (p -> q)^(q -> p)\n",
    "\n",
    "In words this is stated as \n",
    "- \"p if and only if, q\" or sometims as \"p iff q\""
   ]
  },
  {
   "cell_type": "markdown",
   "id": "bb495d08-6ef6-4df1-a7ad-e73def1265da",
   "metadata": {},
   "source": [
    "A Table to visualize:\n",
    "\n",
    "|p q|p->q : q->p|(p->q)^(q->p)|\n",
    "|:-:|:-:|:-:|\n",
    "|T T|T T|T|\n",
    "|T F|F T|F|\n",
    "|F T|T F|F|\n",
    "|F F|T T|T|\n",
    "\n",
    "Which is true only if p and q both have the same truth value.\n",
    "<br>\n",
    "From the previous example, p = today is sunday is a necessary and sufficent condition for q = tomorrow is monday."
   ]
  },
  {
   "cell_type": "markdown",
   "id": "40218b36-c3cd-4623-b840-3e69d8f247ef",
   "metadata": {
    "jp-MarkdownHeadingCollapsed": true
   },
   "source": [
    "# Arguments"
   ]
  },
  {
   "cell_type": "markdown",
   "id": "ce75cd6b-bbe1-4ec9-ae6f-81e33413ff62",
   "metadata": {},
   "source": [
    "#### Some definitions\n",
    "\n",
    "an argument is a sequence of statements called a promises, followed by a <br>\n",
    "fnial statement called a conclusion.\n",
    "\n",
    "When an argument is valid and its premises are true, the truth of the conclusion <br>\n",
    "is said to be inderred or deduced from the truth of the premises.\n",
    "\n",
    "Argument can be tested for validity using a truth table:\n",
    "<ol>\n",
    "    <li>Construct a truth table showing the truth values of all promises and the conclusion.</li>\n",
    "    <li>A row of the truth tables for which all premises are true is called a critical row. <br>\n",
    "        - If there is a critical row where the conclusion is false, then the argyment form is invalid. <br>\n",
    "        - If the conclusion is true in every critrial row. then the argumrnt form is valid</li>"
   ]
  },
  {
   "cell_type": "markdown",
   "id": "612384de-9a35-4ce9-adde-ca5e242db4d6",
   "metadata": {
    "jp-MarkdownHeadingCollapsed": true
   },
   "source": [
    "### Example: (Converse error)"
   ]
  },
  {
   "cell_type": "markdown",
   "id": "267922fa-11ae-480f-8396-8580fef8cf65",
   "metadata": {},
   "source": [
    "Use the truth table to determins the validity of the following argument form,\n",
    "p -> q\n",
    "q\n",
    ".`. p (three dots in a triangle is THEREFORE)\n",
    "\n",
    "|P  q|p->q | q  p|\n",
    "|:-:|:-:|:-:|\n",
    "|T T|T|T T|\n",
    "|T F|F|F T|\n",
    "|F T|T|T F|\n",
    "|F F|T|F F|\n",
    "\n",
    "There are two critial rows, one of which has a false conclusion. Therefore <br> \n",
    "thi argurment form is invalud (know as a converse error)"
   ]
  },
  {
   "cell_type": "markdown",
   "id": "1c6decbe-db92-4834-afca-f79bc2bb3e2a",
   "metadata": {},
   "source": [
    "## Syllogisms"
   ]
  },
  {
   "cell_type": "markdown",
   "id": "2f11fc24-4d7a-4a3b-abe3-e1d829b174e1",
   "metadata": {},
   "source": [
    "An argument for m consistung of two premises and  a conclusion is called a syllogism\n",
    "\n",
    "The first and second  premises are called the major and minor premises, respectively\n",
    "\n",
    "An Example\n",
    "\n",
    "- major premise: If Socrates is a man, then socrates is mortal.\n",
    "- minor premise: Socrates is a man.\n",
    "- Conclusion: Therefore socrates is mortal."
   ]
  },
  {
   "cell_type": "markdown",
   "id": "2f82c738-711e-4d97-8a01-aa85956d365d",
   "metadata": {
    "jp-MarkdownHeadingCollapsed": true
   },
   "source": [
    "### Modus ponens"
   ]
  },
  {
   "cell_type": "markdown",
   "id": "4bb7f00a-e2db-4003-8825-e96902c8a6da",
   "metadata": {},
   "source": [
    "The most famous syllogism in logic, <i>modus ponens</i>, it means method of affirming in latin.\n",
    "\n",
    "- p -> q\n",
    "- p \n",
    "- .`. q\n",
    "\n",
    "|p q |p -> q|p q|\n",
    "|:-:|:-:|:-:|\n",
    "|T T|T|T T|\n",
    "|T F|F|T F|\n",
    "|F T|T|F T|\n",
    "|F F|T|F F|\n",
    "\n",
    "There is only one critical row and it has a true conclusion. Modus ponens is a valid argument form.\n",
    "\n",
    "#### Example:\n",
    "\n",
    "- If there are more pigeons than there are pigeonsholes, then at least two pigeons roost in the same hole.\n",
    "- There are more pigeons than there are pigeonholes.\n",
    "- Therefore atleast two pigeons roost in the same hole."
   ]
  },
  {
   "cell_type": "markdown",
   "id": "56ce3f3e-3423-4c6e-a253-55a987d4fb95",
   "metadata": {
    "jp-MarkdownHeadingCollapsed": true
   },
   "source": [
    "### Modus Tollens"
   ]
  },
  {
   "cell_type": "markdown",
   "id": "afc70fb9-5a48-4e89-bfee-4182998e1f9a",
   "metadata": {},
   "source": [
    "<i>mouds tollens</i>,  method of denying:\n",
    "\n",
    "- p -> q\n",
    "- ~q\n",
    "- .`. ~p\n",
    "\n",
    "|p q|p->q|~q|~p|\n",
    "|:-:|:-:|:-:|:-:|\n",
    "|T T|T|F|F|\n",
    "|T F|F|T|F|\n",
    "|F T|T|F|T|\n",
    "|F F|T|T|T|\n",
    "\n",
    "There is only one critical row and it hs a true conclusion. Miodus Tollens is a valid argument form.\n",
    "\n",
    "#### Example\n",
    "\n",
    "- if 870232 is divisible by 6, then it is divisible by 3.\n",
    "- 870 232 is not divisble by 3.\n",
    "- Therefore 870 232 is not divisible by 6"
   ]
  },
  {
   "cell_type": "markdown",
   "id": "7011023b-d901-470d-9a19-0a4e90cfcb19",
   "metadata": {},
   "source": [
    "#### A rule of inference is essentially an argument form that is valud."
   ]
  },
  {
   "cell_type": "markdown",
   "id": "56665304-9ca6-4115-a3ee-6606cfee8706",
   "metadata": {
    "jp-MarkdownHeadingCollapsed": true
   },
   "source": [
    "### Generalization"
   ]
  },
  {
   "cell_type": "markdown",
   "id": "58990fde-4804-4d84-b2ed-4e8c0c791427",
   "metadata": {},
   "source": [
    "Both of the following argument forms are seen to be valid\n",
    "- p\n",
    "- .`. p V q\n",
    "\n",
    "- q\n",
    "- .`. p V q\n",
    "\n",
    "An example of generalization is the following. \n",
    "- To gain permanent residence requires a lot of money or unique skills.\n",
    "- Anton has unique skills.\n",
    "- Therefore, Anton has a lot of money or Anton has unique skills.\n",
    "- This means Anton can gain permanent residence"
   ]
  },
  {
   "cell_type": "markdown",
   "id": "3b4f4f3b-f68d-4412-acb7-48789bc436da",
   "metadata": {
    "jp-MarkdownHeadingCollapsed": true
   },
   "source": [
    "### Specialization"
   ]
  },
  {
   "cell_type": "markdown",
   "id": "a8b2aa1f-0a4c-48f2-848b-69fa05cd4675",
   "metadata": {},
   "source": [
    "Both forms of the following argument are seen to be valid:\n",
    "\n",
    "- p ∧ q\n",
    "- ∴ p\n",
    "  \n",
    "- p ∧ q\n",
    "- ∴ q\n",
    "\n",
    "An example of specialization is the following. \n",
    "- Suppose you are looking for someone who can write well.\n",
    "- Kate can write well and Kate plays the violin.\n",
    "- Therefore, Kate can write well.\n",
    "- This means Kate would be a suitable choice."
   ]
  },
  {
   "cell_type": "markdown",
   "id": "1f2f7010-a9a4-4f91-a212-b1f7c8f320cd",
   "metadata": {
    "jp-MarkdownHeadingCollapsed": true
   },
   "source": [
    "### Elimination"
   ]
  },
  {
   "cell_type": "markdown",
   "id": "d91839d7-7d75-40aa-87d0-5219dc01aa76",
   "metadata": {},
   "source": [
    "Both of the following argument forms are seen to be valid.\n",
    "\n",
    "- p ∨ q\n",
    "- ∼q\n",
    "- ∴ p\n",
    "  \n",
    "- p ∨ q\n",
    "- ∼p\n",
    "- ∴ q\n",
    "\n",
    "An example of elimination is the following.\n",
    "- Either you or your friend got first place.\n",
    "- Your friend did not get first place.\n",
    "- Therefore, you got first place."
   ]
  },
  {
   "cell_type": "markdown",
   "id": "a47a4b33-6465-4aa9-95cd-1dbc629c35e3",
   "metadata": {
    "jp-MarkdownHeadingCollapsed": true
   },
   "source": [
    "### Transitivity"
   ]
  },
  {
   "cell_type": "markdown",
   "id": "a1576888-5177-481d-bede-0cd5b4332cfb",
   "metadata": {},
   "source": [
    "The following argument form is seen to be valid.\n",
    "\n",
    "- p → q\n",
    "- q → r\n",
    "- ∴ p → r\n",
    "\n",
    "An example of transitivity is the following.\n",
    "- If Rick is taller than Jane,\n",
    "- and Jane is taller than Pru,\n",
    "- then Rick is taller than Pru."
   ]
  },
  {
   "cell_type": "markdown",
   "id": "5233be24-6167-40e3-b0e0-46b8a95a6731",
   "metadata": {
    "jp-MarkdownHeadingCollapsed": true
   },
   "source": [
    "### Proof by division into cases"
   ]
  },
  {
   "cell_type": "markdown",
   "id": "2b9e0aae-e667-4371-bee7-7b77759ead8f",
   "metadata": {},
   "source": [
    "The following argument form is seen to be valid.\n",
    "\n",
    "- p ∨ q\n",
    "- p → r\n",
    "- q → r\n",
    "- ∴ r\n",
    "    \n",
    "An example of proof by division into cases is the following.\n",
    "\n",
    "- x is positive or x is negative.\n",
    "- If x is positive, then x^2 > 0.\n",
    "- If x is negative, then x^2 > 0.\n",
    "- Therefore, x^2 > 0."
   ]
  },
  {
   "cell_type": "markdown",
   "id": "85720a89-6459-4164-87e7-f47aa8884bfa",
   "metadata": {
    "jp-MarkdownHeadingCollapsed": true
   },
   "source": [
    "### Deductive reasoning"
   ]
  },
  {
   "cell_type": "markdown",
   "id": "bfdf1840-716b-4e18-b383-e47da33623f0",
   "metadata": {},
   "source": [
    "You are about to leave for work in the morning and discover\n",
    "that you don’t have your glasses. However, you know the\n",
    "following statements are true.\n",
    "\n",
    "a) If I was reading the news in the kitchen, then my glasses\n",
    "are on the kitchen table.\n",
    "\n",
    "b) If my glasses are on the kitchen table, then I saw them at\n",
    "breakfast.\n",
    "\n",
    "c) I did not see my glasses at breakfast.\n",
    "\n",
    "d) I was reading the news in the living room or I was reading\n",
    "the news in the kitchen.\n",
    "\n",
    "e) If I was reading the news in the living room, then my\n",
    "glasses are on the coffee table.\n",
    "\n",
    "Where are my glasses?\n",
    "\n",
    "The glasses are on the coffee table."
   ]
  },
  {
   "cell_type": "markdown",
   "id": "579f3717-9fdb-4baa-a5f0-2f7847e3ef76",
   "metadata": {},
   "source": [
    "#### Using logic inference we would proceed as following"
   ]
  },
  {
   "cell_type": "markdown",
   "id": "9486d498-9f8b-433b-bd0c-700ff183fa39",
   "metadata": {},
   "source": [
    "1. RK → GK by a)\n",
    "-  GK → SB by d)\n",
    "- ∴ RK → SB by transitivity\n",
    "2. RK → SB by the conclusion of 1.\n",
    "- ∼SB by c)\n",
    "- ∴ ∼ RK by modus tollens\n",
    "3. RL ∨ RK by d)\n",
    "- ∼RK by the conclusion of 2.\n",
    "- ∴ RL by elimination\n",
    "4. RL → GC by e)\n",
    "- RL by the conclusion of 3.\n",
    "- ∴ GC by modus ponens"
   ]
  },
  {
   "cell_type": "markdown",
   "id": "0e66e44a-d400-4fce-8cfe-a1801f9cd21e",
   "metadata": {},
   "source": [
    "damn that shit is crazy"
   ]
  },
  {
   "cell_type": "markdown",
   "id": "b1d5733a-d9a2-414f-b536-1a8688886abe",
   "metadata": {
    "jp-MarkdownHeadingCollapsed": true
   },
   "source": [
    "### Fallacy"
   ]
  },
  {
   "cell_type": "markdown",
   "id": "927a2993-97a8-4584-842f-f289ba52dc98",
   "metadata": {},
   "source": [
    "There are many logical fallacies. Some of these you may have\n",
    "heard of before, such as “strawman”, “slippery slope”, “the\n",
    "gamblers fallacy”, and so on "
   ]
  },
  {
   "cell_type": "markdown",
   "id": "e0a5201b-e7aa-44f7-83ca-398a9b5c06ec",
   "metadata": {},
   "source": [
    "#### Converse error (truth table found at the beginning of my arguments notes)"
   ]
  },
  {
   "cell_type": "markdown",
   "id": "1c56f005-5a90-4591-9a0e-8b38fc6cb45a",
   "metadata": {},
   "source": [
    "An example of converse error is the following.\n",
    "\n",
    "- If Zeke is a cheater, then Zeke sits in the back row.\n",
    "- Zeke sits in the back row.\n",
    "- ∴ Zeke is a cheater.\n",
    "\n",
    "The first statement (major premise) gives information about\n",
    "Zeke if it is known that he is a cheater. \n",
    "\n",
    "However, this is not known. \n",
    "\n",
    "It is clear that somebody who is not a cheater could\n",
    "happen to sit in the back row.\n",
    "\n",
    "This fallacy is called converse error because it becomes valid by\n",
    "replacing p → q with its converse q → p. \n",
    "\n",
    "However, a statement\n",
    "and its converse are not logically equivalent, so this\n",
    "replacement is not allowed."
   ]
  },
  {
   "cell_type": "markdown",
   "id": "3bb59795-6fc8-43ed-b960-646c6e265fe9",
   "metadata": {},
   "source": [
    "#### Inverse Error"
   ]
  },
  {
   "cell_type": "markdown",
   "id": "431dfd05-e6c8-436d-b19e-ec55aedba8b6",
   "metadata": {},
   "source": [
    "The argument form is:\n",
    "\n",
    "- p → q\n",
    "- ∼p\n",
    "- ∴ ∼ q\n",
    "\n",
    "An example of inverse error is the following.\n",
    "\n",
    "- If interest rates are going up, stock market prices will go down.\n",
    "- Interest rates are not going up.\n",
    "- ∴ Stock market prices will not go down.\n",
    "\n",
    "The major premise gives information about the stock market\n",
    "if interest rates are going up. \n",
    "\n",
    "However, the minor premise states that interest rates are not going up. \n",
    "\n",
    "It is not stated what will happen to the stock market in this case.\n",
    "\n",
    "This fallacy is called inverse error because it becomes valid by replacing <br> \n",
    "p → q with its inverse ∼ p →∼ q. \n",
    "However, a statement and its inverse are not logically equivalent, \n",
    "\n",
    "so this replacement is not allowed."
   ]
  },
  {
   "cell_type": "markdown",
   "id": "84224c0d-d8c2-4b5b-b892-5677a24a7d7a",
   "metadata": {},
   "source": [
    "#### Contradiction rule"
   ]
  },
  {
   "cell_type": "markdown",
   "id": "a9afae54-9438-447c-b6db-4d95871dd74c",
   "metadata": {
    "jupyter": {
     "source_hidden": true
    }
   },
   "source": [
    "Another rule of inference is given by the following valid argument form\n",
    "\n",
    "- ∼ p → c\n",
    "- ∴ p\n",
    "\n",
    "|p ~p c|~p -> c|p|\n",
    "|:-:|:-:|:-:|\n",
    "|T F F|T|T|\n",
    "|F T F|F|F|\n",
    "\n",
    "An example of elimination is the following.\n",
    "\n",
    "- If the earth is flat,\n",
    "- then we will all fall off the edge one day.\n",
    "- Therefore, the earth is not flat."
   ]
  },
  {
   "cell_type": "markdown",
   "id": "103ffd11-4ee2-499b-975c-d97f61af4c71",
   "metadata": {
    "jp-MarkdownHeadingCollapsed": true
   },
   "source": [
    "## Arguments Summary"
   ]
  },
  {
   "cell_type": "markdown",
   "id": "65149269-777c-4042-907c-6438ead312e5",
   "metadata": {},
   "source": [
    "\n",
    "Modus ponens \n",
    "- p → q\n",
    "- p\n",
    "- ∴ q\n",
    "\n",
    "Modus tollens \n",
    "- p → q\n",
    "- ∼q\n",
    "- ∴ ∼ p\n",
    "  \n",
    "Generalization\n",
    "- p\n",
    "- ∴ p V q\n",
    "\n",
    "Specialization \n",
    "- p ∧ q\n",
    "- ∴ p\n",
    "\n",
    "Elimination \n",
    "- p ∨ q\n",
    "- ~q\n",
    "- ∴ p \n",
    "\n",
    "Transitivity \n",
    "- p → q\n",
    "- q → r\n",
    "- ∴ p → r\n",
    "\n",
    "Conjunction \n",
    "- p\n",
    "- q \n",
    "- ∴ p ∧ q\n",
    "  \n",
    "Proof by division into cases \n",
    "- p ∨ q\n",
    "- p → r\n",
    "- q → r\n",
    "- ∴ r\n",
    "\n",
    "Contradiction rule \n",
    "- ~p → c\n",
    "- ∴ p"
   ]
  },
  {
   "cell_type": "markdown",
   "id": "ac2f403b-f2d6-43cb-bf55-b80e6e1cfc9f",
   "metadata": {
    "jp-MarkdownHeadingCollapsed": true
   },
   "source": [
    "# Predicates and Quantifiers"
   ]
  },
  {
   "cell_type": "markdown",
   "id": "67c7fd5b-36f2-4d51-9724-b3e9bb97b9c0",
   "metadata": {},
   "source": [
    "Predicates are obtained by removing one or more nouns from a statement\n",
    "\n",
    "#### Example\n",
    "Katherine is a student at UNE <br>\n",
    "Let P stand for \"is a student of UNE\" Then <br>\n",
    "\"x is a student at UNE\" <br>\n",
    "is denoted by P(x) where P is a predicate symbols and x is a predicate variable\n",
    "\n",
    "If x = Katerine, then <br> \n",
    "P(x) = Katherine is a student at UNE <br>\n",
    "returning the original statement\n",
    "\n",
    "It is also possible to have multiple predicate symbols and variables. <br>\n",
    "Let Q stand for “is a student at”. Then Q(x, y) can represent <br>\n",
    "“x is a student at y”. <br>\n",
    "\n",
    "If x = Katherine, and y = UNE, then <br>\n",
    "Q(x, y) = Katherine is a student at UNE, <br>\n",
    "returning the original statement. <br>\n",
    "\n",
    "But we could also have x = John, and y = USyd, to get <br>\n",
    "Q(x, y) = John is a student at USyd."
   ]
  },
  {
   "cell_type": "markdown",
   "id": "54b8055c-3319-493d-a241-a27a00ad3b2e",
   "metadata": {},
   "source": [
    "#### Dfinition\n",
    "\n",
    "A predicate is a sentence that contains a finite number of <br>\n",
    "variables, and becomes a statement when specific values are <br>\n",
    "substituted for the variables.\n",
    "\n",
    "The domain of a predicate variable is the set of all values that <br>\n",
    "may be substituted in place of the variable."
   ]
  },
  {
   "cell_type": "markdown",
   "id": "e6cad776-e144-4be3-81f6-cf8d2be8dee9",
   "metadata": {},
   "source": [
    "#### Factoring in sets\n",
    "\n",
    "If P(x) is a predicate, and x has domain D, the truth set of P(x) is the set <br>\n",
    "of all elements of D that make P(x) true when they substituted for x.\n",
    "\n",
    "For example <br>\n",
    "Q(n) = n is a factor of 8, <br>\n",
    "has a truth set given by {1,2,4,8} for all positive integers (Z+)\n",
    "\n",
    "But if we extend the set to all integers (z) is would include {-8,-4,-2,-1,1,2,4,8}"
   ]
  },
  {
   "cell_type": "markdown",
   "id": "a6bf921d-4079-4ac2-83a4-81f7a1ce4157",
   "metadata": {},
   "source": [
    "### Universal Quantifier\n",
    "\n",
    "The symbol ∀ denotes “for all” and is called the universal<br>\n",
    "quantifier. Adding quantifiers to predicates turns predicates<br>\n",
    "into statements.\n",
    "\n",
    "Let Q(x) be a predicate, and D be the domain of x. A <br>\n",
    "universal statement is a statement of the form <br>\n",
    "\n",
    "∀x ∈ D, Q(x).\n",
    "\n",
    "It is true if, and only if, Q(x) is true for every x in D.<br>\n",
    "It is false if, and only if, Q(x) is false for at least one x in D. <br>\n",
    "A value of x which makes Q(x) false is called a counterexample."
   ]
  },
  {
   "cell_type": "markdown",
   "id": "30cb2d20-7d6c-4ec2-a50a-e4e53fa90168",
   "metadata": {},
   "source": [
    "### Example\n",
    "\n",
    "Let D = {1, 2, 3, 4, 5} and consider the statement <br>\n",
    "\n",
    "∀x ∈ D, x2 ≥ x.\n",
    "\n",
    "Show that this statement is true.<br>\n",
    "\n",
    "Method of exhaustion: Check that x^2 ≥ x for each x in D.<br>\n",
    "1^2 = 1 ≥ 1, 2^2 ≥ 2, 3^2 ≥ 3, etc <br>\n",
    "Therefore, ∀x ∈ D, x2 ≥ x is true.<br>\n",
    "\n",
    "Note that the method of exhaustion can, in principal, be used whenever the domain is finite."
   ]
  },
  {
   "cell_type": "markdown",
   "id": "35a95648-2fcd-4f11-b5cd-71ac43b4e5c7",
   "metadata": {},
   "source": [
    "### Example (for False)\n",
    "\n",
    "Consider the statement ∀x ∈ R, x2 ≥ x.\n",
    "    \n",
    "Find a counterexample to show that this statement is false. <br>\n",
    "Counterexample: Let x = 1/2 (which is a real number and so is in R). Then, <br>\n",
    "\n",
    "\u0012\n",
    "1/2^2 = 1/4 which is < 1/2 which was x <br>\n",
    "Therefore, ∀x ∈ R, x2 ≥ x is false."
   ]
  },
  {
   "cell_type": "markdown",
   "id": "09713ccf-d85d-4c74-a3fe-ee00702f75a7",
   "metadata": {},
   "source": [
    "### Existential quantifier\n",
    "\n",
    "The symbol ∃ denotes “there exists” and is called the existential quantifier.\n",
    "\n",
    "Definition <br>\n",
    "Let Q(x) be a predicate, and D be the domain of x. A <br>\n",
    "existential statement is a statement of the form<br>\n",
    "\n",
    "∃x ∈ D, Q(x).\n",
    "\n",
    "It is true if, and only if, Q(x) is true for at least one x in D. <br>\n",
    "It is false if, and only if, Q(x) is false for all x in D."
   ]
  },
  {
   "cell_type": "markdown",
   "id": "9cb567bb-5b5f-4261-90cd-730f463a4cf1",
   "metadata": {},
   "source": [
    "### Example (of True and False)\n",
    "\n",
    "Consider the statement ∃x ∈ Z+, x2 = x. <br>\n",
    "Show that this statement is true.\n",
    "\n",
    "Observe that 1^2 = 1. <br>\n",
    "So, x^2 = x is true for at least one positive integer. <br>\n",
    "Therefore, ∃x ∈ Z+, x2 = x is true.\n",
    "\n",
    "False is the inverse of the universal quantifier"
   ]
  },
  {
   "cell_type": "markdown",
   "id": "323cbad0-6528-4608-9721-361289b1ef1e",
   "metadata": {},
   "source": [
    "## Universal conditional Statement"
   ]
  },
  {
   "cell_type": "markdown",
   "id": "6b50a2c9-ea91-4bc4-8452-9bb11fdcdf82",
   "metadata": {},
   "source": [
    "A universal conditional statement is given by ∀x, if P(x) then Q(x), <br>\n",
    "\n",
    "or equivalently,\n",
    "\n",
    "∀x, P(x) → Q(x).\n",
    "\n",
    "A universal conditional statement can also be re-written as a universal statement. <br>\n",
    "Consider ∀x ∈ D, P(x) → Q(x).\n",
    "\n",
    "By narrowing the domain D to a set U given by the truth set of ∀x ∈ D, P(x), we <br>\n",
    "can equivalently write ∀x ∈ U, Q(x)."
   ]
  },
  {
   "cell_type": "markdown",
   "id": "4b59ed1c-4109-4f51-a40f-f7573b825bf0",
   "metadata": {
    "jp-MarkdownHeadingCollapsed": true
   },
   "source": [
    "# Negation of Predicates and Quantifiers"
   ]
  },
  {
   "cell_type": "markdown",
   "id": "81b51191-89e5-40a3-b766-a347d7cc8700",
   "metadata": {},
   "source": [
    "## Universal statements"
   ]
  },
  {
   "cell_type": "markdown",
   "id": "420e3159-1b3e-4147-8482-af8c01e4ecaf",
   "metadata": {},
   "source": [
    "The negation of a universal statement is logically equivalent to an existential statement with the predicate negated: <br>\n",
    "\n",
    "∼ (∀x ∈ D, P(x)) ≡ ∃x ∈ D, ∼ P(x).\n",
    "\n",
    "Write the negation of <br>\n",
    "∀p ∈ primes, p is odd. <br>\n",
    "\n",
    "The negation is: <br>\n",
    "∃p ∈ primes, p is not odd.\n"
   ]
  },
  {
   "cell_type": "markdown",
   "id": "b38555a4-16b3-4a72-b2b8-0ef791074abc",
   "metadata": {
    "jp-MarkdownHeadingCollapsed": true
   },
   "source": [
    "## Existential Statements"
   ]
  },
  {
   "cell_type": "markdown",
   "id": "b8f94a4b-b4a4-479d-b11f-b0d62510ff3e",
   "metadata": {},
   "source": [
    "The negation of an existential statement is logically equivalent to a universal statement with the predicate negated: <br>\n",
    "\n",
    "∼ (∃x ∈ D, P(x)) ≡ ∀x ∈ D, ∼ P(x).\n",
    "\n",
    "Write the negation of <br>\n",
    "∃t ∈ triangles,the sum of the angles of t equals 200◦<br>\n",
    "\n",
    "The negation is: <br>\n",
    "∀t ∈ triangles,the sum of the angles of t is not equal to 200◦\n"
   ]
  },
  {
   "cell_type": "markdown",
   "id": "255e381a-0715-493f-b60f-bd75c152e462",
   "metadata": {
    "jp-MarkdownHeadingCollapsed": true
   },
   "source": [
    "## Universal Conditional statements"
   ]
  },
  {
   "cell_type": "markdown",
   "id": "5ce9b49c-9837-4c08-a94d-8d9d58ef356f",
   "metadata": {},
   "source": [
    "\n",
    "The negation of a universal conditional statement is logically equivalent to an “and” statement: <br>\n",
    "\n",
    "∼ (∀x ∈ D, P(x) → Q(x)) ≡ ∃x ∈ D, P(x)∧ ∼ Q(x).\n",
    "\n",
    "This is similar to what we saw earlier for the case of negation of a conditional statement form. <br>\n",
    "\n",
    "Write the negation of <br>\n",
    "∀p ∈ people, p is blond → p has blue eyes.\n",
    "\n",
    "The negation is: <br>\n",
    "∃p ∈ people, p is blond ∧ p does not have blue eyes."
   ]
  },
  {
   "cell_type": "markdown",
   "id": "dc3c38ad-26a5-4e8d-92ac-afd0d390dc09",
   "metadata": {
    "jp-MarkdownHeadingCollapsed": true
   },
   "source": [
    "## Relation between  ∀, ∃, ∧, and ∨"
   ]
  },
  {
   "cell_type": "markdown",
   "id": "6b274960-7a54-48df-b4fc-231ace89807a",
   "metadata": {},
   "source": [
    "The negation of ∀ gives ∃, and the negation of ∃ gives ∀.\n",
    "\n",
    "Similarly, De Morgan’s laws state that the negation of ∧ gives ∨, and the negation of ∨ gives ∧.<br>\n",
    "\n",
    "This similarity is not accidental. Universal statements are generalizations of “and” statements, <br>\n",
    "and existential statements are generalizations of “or” statements. <br>\n",
    "\n",
    "Given the domain D = {x1, x2, ..., xN }, consider the statement: <br>\n",
    "\n",
    "∀x ∈ D, P(x).\n",
    "\n",
    "This statement is logically equivalent to P(x1) ∧ P(x2) ∧ ... ∧ P(xN ). <br>\n",
    "\n",
    "Similarly, that statement: <br>\n",
    "\n",
    "∃x ∈ D, P(x),\n",
    "\n",
    "is logically equivalent to\n",
    "\n",
    "P(x1) ∨ P(x2) ∨ ... ∨ P(xN )."
   ]
  },
  {
   "cell_type": "markdown",
   "id": "b0a90c82-3375-46b7-83aa-e710fd83aed8",
   "metadata": {
    "jp-MarkdownHeadingCollapsed": true
   },
   "source": [
    "## Universal converse, inverse, and contrapositive"
   ]
  },
  {
   "cell_type": "markdown",
   "id": "4d3efdda-9b8a-409f-937a-1a59c789ced2",
   "metadata": {},
   "source": [
    "Consider the universal conditional statement <br>\n",
    "\n",
    "∀x ∈ D, P(x) → Q(x).<br>\n",
    "The converse is <br>\n",
    "∀x ∈ D, Q(x) → P(x).<br>\n",
    "\n",
    "The inverse is <br>\n",
    "∀x ∈ D, ∼ P(x) → ∼ Q(x). <br>\n",
    "\n",
    "The contrapositive is <br>\n",
    "∀x ∈ D, ∼ Q(x) → ∼ P(x), <br>\n",
    "\n",
    "A universal conditional statement is logically equivalent to its\n",
    "contrapositive. <br>\n",
    "\n",
    "Write the converse, inverse, and contrapositive of the universal\n",
    "statement: <br>\n",
    "\n",
    "∀x ∈ R, x > 2 → x^2 > 4. <br>\n",
    "The converse is (false: x = −3) <br>\n",
    "∀x ∈ R, x^2 > 4 → x > 2. <br>\n",
    "\n",
    "The inverse is (false: x = −3) <br>\n",
    "∀x ∈ R, x ≤ 2 → x^2 ≤ 4. <br>\n",
    "\n",
    "And the contrapositive is (true, try to find a counterexample) <br>\n",
    "∀x ∈ R, x^2 ≤ 4 → x ≤ 2."
   ]
  },
  {
   "cell_type": "markdown",
   "id": "0b5c53a7-e451-4bb2-8184-861c43b7807c",
   "metadata": {
    "jp-MarkdownHeadingCollapsed": true
   },
   "source": [
    "# Quantified argument forms"
   ]
  },
  {
   "cell_type": "markdown",
   "id": "d34be148-f003-45d8-8aa1-07de5d229cd7",
   "metadata": {},
   "source": [
    "The rule of universal instantiation is that if some property is true of everything in a set, then it is  <br>\n",
    "true for any particular thing in that set.\n",
    "\n",
    "It is this rule that allows general theorems in mathematics to be applied to particular cases."
   ]
  },
  {
   "cell_type": "markdown",
   "id": "37b97a73-54d3-48d3-be5b-ffa6d2f57dcc",
   "metadata": {
    "jp-MarkdownHeadingCollapsed": true
   },
   "source": [
    "## Universal modus ponens"
   ]
  },
  {
   "cell_type": "markdown",
   "id": "bcc930ba-e47b-412a-aff1-4b73c49cda7d",
   "metadata": {},
   "source": [
    "Universal modus ponens is given by <br>\n",
    "\n",
    "∀x, P(x) → Q(x) <br>\n",
    "P(a) for a particular a <br>\n",
    "∴ Q(a)\n",
    "\n",
    "Universal modus ponens is modus ponens with the universal conditional statement, and universal instantiation. <br>\n",
    "It is therefore a valid argument form.\n",
    "\n",
    "### Example\n",
    "\n",
    "Rewrite the following argument in terms of quantifiers and predicates. <br>\n",
    "\n",
    "If an integer is even, then its square is even. <br>\n",
    "k is a particular integer that is even. <br>\n",
    "∴ k^2 is even <br>\n",
    "\n",
    "Let E(x) be “x is even”, <br>\n",
    "let S(x) be “x^2 is even”, <br>\n",
    "and let k be a particular integer that is even. <br>\n",
    "Then the argument has the following form: <br>\n",
    "\n",
    "∀x ∈ Z, E(x) → S(x) <br>\n",
    "E(k)<br>\n",
    "∴ S(k)<br>\n",
    "This argument has the form of universal modus ponens and is therefore valid.\n",
    "\n",
    "### Using universal modus ponens in a proof\n",
    "\n",
    "An integer is defined to be “even” if it can be written as twice some integer:<br>\n",
    "\n",
    "∀x ∈ Z, x is even if, and only if, ∃k ∈ Z such that x = 2k.<br>\n",
    "\n",
    "We will see an example of the use of modus ponens in a mathematical proof showing <br>\n",
    "that the sum of any two even integers is even.<br>\n",
    "\n",
    "The proof itself is quite simple. Suppose that m and n are particular but arbitrarily <br>\n",
    "chosen even integers, <br>\n",
    "then m = 2r and n = 2s for some integers r and s. <br>\n",
    "Then m + n = 2r + 2s, = 2(r + s). <br>\n",
    "Now r + s is an integer, so 2(r + s) is even. "
   ]
  },
  {
   "cell_type": "markdown",
   "id": "d5adb25d-c8b6-497e-91bb-6f2d828d927e",
   "metadata": {},
   "source": [
    "The following expansion of the proof shows how each step is justified using arguments that are <br>\n",
    "valid by universal modus ponens. <br>\n",
    "\n",
    "1) If an integer is even, then it equals twice some integer. <br>\n",
    "m is a particular even integer.<br>\n",
    "∴ m equals twice some integer r<br>\n",
    "2) If an integer is even, then it equals twice some integer.<br>\n",
    "n is a particular even integer.<br>\n",
    "∴ n equals twice some integer s<br>\n",
    "3) If a quantity is an integer, then it is a real number.<br>\n",
    "r and s are particular integers.<br>\n",
    "∴ r and s are particular real numbers.<br>\n",
    "4) For all a, b, and c, if a, b, and c are real numbers, <br>\n",
    "then ab + ac = a(b + c).<br>\n",
    "2, r, and s are particular real numbers.<br>\n",
    "∴ 2r + 2s = 2(r + s).<br>\n",
    "5) For all u and v, if u and v are integers, then u + v is an integer.<br>\n",
    "r and s are particular integers.<br>\n",
    "∴ r + s is an integer.<br>\n",
    "6) If a number equals twice some integer, then that number is even.<br>\n",
    "2(r + s) equals twice the integer r + s.<br>\n",
    "∴ 2(r + s) is even."
   ]
  },
  {
   "cell_type": "markdown",
   "id": "1c1d7be3-8a1f-442b-af2e-b7d026a37e64",
   "metadata": {},
   "source": [
    "## Universal modus Tollens"
   ]
  },
  {
   "cell_type": "markdown",
   "id": "5928f1e7-dbf1-4023-b5c0-713287a33d0f",
   "metadata": {},
   "source": [
    "Universal modus tollens is given by <br>\n",
    "∀x, P(x) → Q(x) <br>\n",
    "∼ Q(a) for a particular a <br>\n",
    "∴ ∼ P(a) <br>\n",
    "\n",
    "Universal modus tollens is modus tollens with the universal conditional statement, <br>\n",
    "and universal instantiation. It is therefore a valid argument form.\n",
    "\n",
    "### Example\n",
    "\n",
    "Rewrite the following argument in terms of quantifiers and predicates. <br>\n",
    "\n",
    "All human beings are mortal. <br>\n",
    "Zeus is not mortal. <br>\n",
    "∴ Zeus is not human. <br>\n",
    "\n",
    "Let H(x) be “x is human”, let M(x) be “x is mortal”. <br>\n",
    "Then the argument has the following form: <br>\n",
    "∀x, H(x) → M(x) <br>\n",
    "∼ M(Z) <br>\n",
    "∴ ∼ H(Z) <br>\n",
    "This argument has the form of universal modus tollens and is therefore valid."
   ]
  },
  {
   "cell_type": "markdown",
   "id": "5cf0e740-022e-4973-be47-7f0690b5704c",
   "metadata": {},
   "source": [
    "## Proving validity of Quantified Argument forms"
   ]
  },
  {
   "cell_type": "markdown",
   "id": "cbfef517-5b9a-4088-a19b-be1bb162842a",
   "metadata": {},
   "source": [
    "To say an argument form is valid means that no matter what particular predicates <br>\n",
    "are substituted for the predicate symbols in its premises, if the resulting premises <br>\n",
    "are all true, then the conclusion is also true. <br>\n",
    "\n",
    "If a quantified argument can be written as universal modus ponens or universal <br>\n",
    "modus tollens by defining appropriate predicates, then that argument is valid.\n",
    "\n",
    "### Example\n",
    "\n",
    "Determine whether the following argument is valid. <br>\n",
    "\n",
    "No polynomial functions have horizontal asymptotes. <br>\n",
    "This function has a horizontal asymptote. <br>\n",
    "∴ This function is not a polynomial function. <br>\n",
    "\n",
    "Let P(x) be “x is a polynomial function”, <br>\n",
    "and let Q(x) be “x does not have a horizontal asymptote”. <br>\n",
    "We can then write this argument as <br>\n",
    "∀x, P(x) → Q(x) <br>\n",
    "∼ Q(a) for a particular a <br>\n",
    "∴ ∼ P(a) <br>\n",
    "\n",
    "So this argument is valid by universal modus tollens."
   ]
  },
  {
   "cell_type": "markdown",
   "id": "1b8e5f8e-ebbd-42f7-b6a7-1b0f1674d2f7",
   "metadata": {},
   "source": [
    "### Example of Converse error"
   ]
  },
  {
   "cell_type": "markdown",
   "id": "e9bf4d8f-b038-4d87-a1f9-94721da15b93",
   "metadata": {},
   "source": [
    "All human beings are mortal.<br>\n",
    "Felix is mortal. <br>\n",
    "∴ Felix is a human being. <br>\n",
    "\n",
    "Let P(x) be “x is human”, and let Q(x) be “x is mortal”. <br>\n",
    "We can then write this argument as<br>\n",
    "\n",
    "∀x, P(x) → Q(x) <br>\n",
    "Q(F)<br>\n",
    "∴ P(F)<br>\n",
    "\n",
    "It is clear from this argument form that the original argument is invalid due to <br>\n",
    "converse error.<br>\n",
    "\n",
    "Felix is mortal, but he may or may not be human."
   ]
  },
  {
   "cell_type": "markdown",
   "id": "e4100ee8-11c9-46c3-9764-134e122e0bf0",
   "metadata": {
    "jp-MarkdownHeadingCollapsed": true
   },
   "source": [
    "## A Final note on Abductive Reasoning"
   ]
  },
  {
   "cell_type": "markdown",
   "id": "f3af6dfc-52c8-4712-98c4-5c3debee9dfd",
   "metadata": {},
   "source": [
    "Diagrams may also be used to test argument validity. See the text for details.<br>\n",
    "\n",
    "A variation of converse error is widely used in making diagnoses, and can be a <br>\n",
    "useful reasoning tool if it is used with caution.\n",
    "\n",
    "It relies on considering a few of the most probable P(a) for an observed Q(a). <br>\n",
    "This means there is a reasonable chance that one of these P(a) is responsible. <br>\n",
    "Further tests may be able to narrow down the choice.<br>\n",
    "\n",
    "The closer a set of symptoms is to being a necessary and sufficient condition for <br>\n",
    "a diagnosed problem, the more certain that diagnosis will be. <br>\n",
    "\n",
    "This form of reasoning is called abductive reasoning."
   ]
  },
  {
   "cell_type": "code",
   "execution_count": null,
   "id": "a162e92b-42b7-43d4-9fe8-9be387431ca0",
   "metadata": {},
   "outputs": [],
   "source": []
  }
 ],
 "metadata": {
  "kernelspec": {
   "display_name": "Python 3 (ipykernel)",
   "language": "python",
   "name": "python3"
  },
  "language_info": {
   "codemirror_mode": {
    "name": "ipython",
    "version": 3
   },
   "file_extension": ".py",
   "mimetype": "text/x-python",
   "name": "python",
   "nbconvert_exporter": "python",
   "pygments_lexer": "ipython3",
   "version": "3.11.7"
  }
 },
 "nbformat": 4,
 "nbformat_minor": 5
}
