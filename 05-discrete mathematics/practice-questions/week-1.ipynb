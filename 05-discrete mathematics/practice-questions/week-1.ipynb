{
 "cells": [
  {
   "cell_type": "markdown",
   "id": "5cdbd3cc-bac1-4020-aaa0-79c8112f8f43",
   "metadata": {},
   "source": [
    "# Practice Questions - Week 1"
   ]
  },
  {
   "cell_type": "markdown",
   "id": "d5a6a64f-3c75-4b7d-8c3c-376263d61dd0",
   "metadata": {
    "jp-MarkdownHeadingCollapsed": true
   },
   "source": [
    "## 1. Write the negation of the following:"
   ]
  },
  {
   "cell_type": "markdown",
   "id": "f69c15f5-c09e-4cce-9070-92bcf764eac7",
   "metadata": {},
   "source": [
    "#### (a) The variable S is undeclared or the data are out of order.\n",
    " \n",
    "Using De Morgans Law:\n",
    "- The variable S is NOT undeclared AND the data are NOT out of order.\n",
    "\n",
    "#### (b) -5 <= x < 2, where x is a real number.\n",
    "\n",
    "In english this reads as - \"negative 5 is less than or equal to x which is less than 2\"\n",
    "- -5 is NOT less than or equal to x which is NOT less than 2\n",
    "  \n",
    "which could be algebraically written like so: -5 > x > 2 ? \n",
    "\n",
    "I am unsure about this\n",
    "\n"
   ]
  },
  {
   "cell_type": "markdown",
   "id": "7f37592f-2875-43f7-a982-292e34b1d4f3",
   "metadata": {
    "jp-MarkdownHeadingCollapsed": true
   },
   "source": [
    "## 2. State what it means for two statement forms to be logically equivalent."
   ]
  },
  {
   "cell_type": "markdown",
   "id": "0d1bfb99-8025-411a-b298-db1da99333f3",
   "metadata": {},
   "source": [
    "- When two statements are logically equivelant it means both statements are True or both statements are False <br>\n",
    "they are equal to one another in terms of valid logic."
   ]
  },
  {
   "cell_type": "markdown",
   "id": "1e95e148-95fd-49f0-b958-7bde3a0ba7be",
   "metadata": {},
   "source": [
    "#### b) Use a truth table to determine whether the following statement forms are logically equivalent: \n",
    "- ~(p^q) and ~p ^ ~q"
   ]
  },
  {
   "cell_type": "markdown",
   "id": "b84e4a34-76f2-4697-98a0-c9ab66fe2dde",
   "metadata": {},
   "source": [
    "|p q|~(p^q)| ~ p^~ q|\n",
    "|:-:|:-:|:-:|\n",
    "|T T|F|T|\n",
    "|T F|T|F|\n",
    "|F T|T|F|\n",
    "|F F|T|T|\n",
    "\n",
    "Because no two columns have the same values on every row, these two statements are not logically equivalent."
   ]
  },
  {
   "cell_type": "markdown",
   "id": "f0654d5c-76a7-4c93-b8d0-ef1159c8a1d3",
   "metadata": {},
   "source": [
    "#### c) Use a truth table to determine whether the following statement forms are logically equivalent: \n",
    "- ~(p->q) and p ^ ~q"
   ]
  },
  {
   "cell_type": "markdown",
   "id": "5c3d77b4-f4cf-4756-b26b-8d769a831648",
   "metadata": {},
   "source": [
    "|p q|~(p->q)| p ^ ~q|\n",
    "|:-:|:-:|:-:|\n",
    "|T T|F|F|\n",
    "|T F|T|T|\n",
    "|F T|F|F|\n",
    "|F F|F|F|\n",
    "\n",
    "if not p then q is equivalant to p and not q, therefore these two statements are logically equivalent "
   ]
  },
  {
   "cell_type": "markdown",
   "id": "340323b8-6b1b-4e6c-859d-a037ed8eef49",
   "metadata": {
    "jp-MarkdownHeadingCollapsed": true
   },
   "source": [
    "## 3. Write the following two statement s in symbolic form and determine whether they are logically equivalent "
   ]
  },
  {
   "cell_type": "markdown",
   "id": "515b6cad-81e4-4064-882e-9751222906b6",
   "metadata": {},
   "source": [
    "If Sam bought it at Crown Books, then Sam didn't pay full price. <br>\n",
    "Sam bought it at Crown Books or Sam paid full price.\n",
    "\n",
    "- p -> q\n",
    "- p V ~q\n",
    "\n",
    "|p q|~q|p -> q| p V ~q|\n",
    "|:-:|:-:|:-:|:-:|\n",
    "|T T|F|T|T|\n",
    "|T F|T|F|T|\n",
    "|F T|F|T|F|\n",
    "|F F|T|T|T|\n",
    "\n",
    "They are not logically equivalent.... according to the math, but intuitively they are equivalent... so im doing something wrong.\n"
   ]
  },
  {
   "cell_type": "markdown",
   "id": "7c831422-12e4-4fa6-8d5a-e81859cd790b",
   "metadata": {
    "jp-MarkdownHeadingCollapsed": true
   },
   "source": [
    "## 4. Rewrite the following statement as a conjunction of two \"if-then\" statements:"
   ]
  },
  {
   "cell_type": "markdown",
   "id": "da9a3f23-ded5-4603-a404-2d6a9b324151",
   "metadata": {},
   "source": [
    "This integer is even if, and only if, it equals twice some integer\n",
    "\n",
    "- if this integer is even, then it eqauals twice some integer\n",
    "- and\n",
    "- if this integer equals twicw some integer, then it is even"
   ]
  },
  {
   "cell_type": "markdown",
   "id": "7422aa3d-0fcc-4d5c-8047-492eecb38476",
   "metadata": {
    "jp-MarkdownHeadingCollapsed": true
   },
   "source": [
    "## 5. Write the converse, inversem and contrapositivie of:"
   ]
  },
  {
   "cell_type": "markdown",
   "id": "7c609e22-a8ad-4e88-961f-7f6b5a93912e",
   "metadata": {},
   "source": [
    "\"If Ann is Jan's mother, then Jose is Jan's cousin\"\n",
    "\n",
    "- Converse - \"If Jose is Jan's cousin, then Ann is Jan's mother\"\n",
    "- Inverse - \"If Ann is not Jan's mother, then Jose is not Jan's counsin\"\n",
    "- Contrapositive - \"If Jose is not Jan's cousin, then Ann is not Jan's mother\" "
   ]
  },
  {
   "cell_type": "markdown",
   "id": "1d07bbda-4f33-4ac1-9892-28440fcfe493",
   "metadata": {
    "jp-MarkdownHeadingCollapsed": true
   },
   "source": [
    "## 6. Use Theorem 2.1.1 (Logival equivalances) to verify the logic of:"
   ]
  },
  {
   "cell_type": "markdown",
   "id": "cf7def09-66c9-4383-80c7-ec55ead236ca",
   "metadata": {},
   "source": [
    "(p^(~( ~pVq ))) V (p^q) == p\n",
    "\n",
    "- (p^(~ ~p^ ~q)) V (p^q) - Using De morgans law we distribute the ~\n",
    "- (p^( p^~q)) V (p^q) - Using double negative law to remove the ~ ~ p to just p\n",
    "- p^~q V p^q - Using Idempotent law we can remove the p^p to just p^\n",
    "- p ^ (~qVq) - Using distributive\n",
    "- p ^ t - Using negation ~q V q\n",
    "- p - Using idenity law "
   ]
  },
  {
   "cell_type": "code",
   "execution_count": null,
   "id": "4f9e4e3c-f906-4ede-b5c7-7953c8347037",
   "metadata": {},
   "outputs": [],
   "source": []
  }
 ],
 "metadata": {
  "kernelspec": {
   "display_name": "Python 3 (ipykernel)",
   "language": "python",
   "name": "python3"
  },
  "language_info": {
   "codemirror_mode": {
    "name": "ipython",
    "version": 3
   },
   "file_extension": ".py",
   "mimetype": "text/x-python",
   "name": "python",
   "nbconvert_exporter": "python",
   "pygments_lexer": "ipython3",
   "version": "3.11.7"
  }
 },
 "nbformat": 4,
 "nbformat_minor": 5
}
