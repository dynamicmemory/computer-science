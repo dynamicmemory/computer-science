{
 "cells": [
  {
   "cell_type": "markdown",
   "id": "3bf4db3d-0756-4806-995e-de3c529ca814",
   "metadata": {},
   "source": [
    "# Week 6 Practice Questions"
   ]
  },
  {
   "cell_type": "markdown",
   "id": "8ac786cd-48d6-4657-a9a3-d1c220272921",
   "metadata": {},
   "source": [
    "## Question 1"
   ]
  },
  {
   "cell_type": "markdown",
   "id": "cd7f6948-7a6c-4007-ac00-bcfc219b9aa8",
   "metadata": {},
   "source": [
    "Consider the partition of the set {0, 1, 2, 3, 4} given by {0}, {1, 3, 4}, {2}. This parition induces <br>\n",
    "a relation R on the set. Write down the elements of R."
   ]
  },
  {
   "cell_type": "markdown",
   "id": "b3b1c411-a987-491a-817f-e91d9ab0ae36",
   "metadata": {},
   "source": [
    "R = {(0,0), (2,2), (1,1), (1,3), (1,4), (3,1), (3,3), (3,4), (4,1), (4,3), (4,4)}"
   ]
  },
  {
   "cell_type": "markdown",
   "id": "99e2dd04-3626-4afa-b315-e9aaff2d930d",
   "metadata": {},
   "source": [
    "## Question 2"
   ]
  },
  {
   "cell_type": "markdown",
   "id": "cf6c635c-8011-422a-902b-89806a5cd896",
   "metadata": {},
   "source": [
    "None of the relations are reflexive. <br>\n",
    "None of the relations are transitive. <br>\n",
    "0, 2 and 2, 0 are symetric, but that doesnt matter <br>\n",
    "None are reflexive as none loop back to themself <br>\n",
    "None are symetric as for any relation a and b, there is not a relation from b to a for every element<br>\n",
    "None are transitive because for any relation a and b and b and c, there is no relation from a to c <br>"
   ]
  },
  {
   "cell_type": "markdown",
   "id": "f2e9c507-08ad-4e92-8f85-a7712b3ed44f",
   "metadata": {},
   "source": [
    "## Question 3"
   ]
  },
  {
   "cell_type": "markdown",
   "id": "c2c8fbac-c773-49e9-bae4-1798253576c9",
   "metadata": {},
   "source": [
    "The relation is reflecive as for every element x and y 3| x - y results in 3 | 0 and three divides 0, therefore the Relation is reflexive. <br>\n",
    "The relation is symetric as for all x and y, when x - y the value is either -1 or 1 which are both <br>divable by 3. Also for the special case of x = 2 or 8 and y = 2 or 8, there results is -6 or 6 and 3 <br> divides both, therefore every relation is symetric. <br>\n",
    "It is transitive because for every relation from a to b and from b to c there is a relation from a to c\n"
   ]
  },
  {
   "cell_type": "markdown",
   "id": "cd7ab245-6871-431f-8786-4e869dc80050",
   "metadata": {},
   "source": [
    "## Question 4"
   ]
  },
  {
   "cell_type": "markdown",
   "id": "c104f6cf-1f1b-4b73-b4ea-e44f7db8a1c3",
   "metadata": {},
   "source": [
    "R is reflexive: <br>\n",
    "suppose x, y are two particular but arbitrary choosen integers <br>\n",
    "then for R to be reflexive by definition means that <br>\n",
    "3 | x - x <br>\n",
    "3 | 0 <br>\n",
    "3 indeed divides 0, therefore for all elements in the set Z, the set is reflexive <br>\n",
    "R is symetric: <br>\n",
    "for this to be true Suppose x and y are two particular but arbitrarily choosen integers such that <br>\n",
    "3 | (x - y). It must follow that 3 | (n - m). In other words can we find an integer so that <br>\n",
    "n - m = 3*(that integer). By the definition of divides, since <br>\n",
    "3 | m - n <br>\n",
    "then <br>\n",
    "m - n = 3k for some integer k <br>\n",
    "* by -1, -(m - n) = -3k =<br>\n",
    "-m + n = 3*(-k) = <br>\n",
    "n - n = 3*(-k) <br>\n",
    "and we have done it, we have found an integer k such that m - n = 3k and n - m = 3k <br>\n",
    "therefore 3 | both m - n and n - m <br>\n",
    "R is transitive: <br>\n",
    "to show transitiity we must show that <br>\n",
    "- 3 | m - n\n",
    "- 3 | n - p\n",
    "- 3 | m - p\n",
    "- m - n = 3r\n",
    "- n - p = 3s\n",
    "- (m - n) + (n - p) = 3r + 3s\n",
    "- m - p = 3(r + s)\n",
    "- therefore 3 | m - p\n",
    "- thus we a genie and provie it. "
   ]
  },
  {
   "cell_type": "markdown",
   "id": "5dce7d8e-195e-491c-bc45-94db80feea3d",
   "metadata": {},
   "source": [
    "## Question 5"
   ]
  },
  {
   "cell_type": "markdown",
   "id": "dda66a2e-6040-4402-9beb-9f2833ce6946",
   "metadata": {},
   "source": [
    "- [1] = {x ∈ A | x R 0} = {1,3,4}\n",
    "- [2] = {x ∈ A | x R 2} = {2}"
   ]
  },
  {
   "cell_type": "markdown",
   "id": "5a0f135f-bd59-4381-ba40-46e05cf6c42d",
   "metadata": {},
   "source": [
    "## Question 6"
   ]
  },
  {
   "cell_type": "markdown",
   "id": "835b7e92-8ba5-4774-8f7d-bfa9da3362ca",
   "metadata": {},
   "source": [
    "- A = {000, 001, 110, 111, 101, 100, 010, 011}\n",
    "- 00 = {000, 001}\n",
    "- 11 = {111, 110}\n",
    "- 10 = {101, 100}\n",
    "- 01 = {010, 011} <br>\n",
    "\n",
    "Reflecxive because for each string s, s has the same two left chas as s.  <br>\n",
    "Symetric because for all strings s,t, if s has the same two left most chars as <br>\n",
    "t then t has the same two left chars as s <br>\n",
    "transitive because for all strings s,t,v if s,t has the same two left hand strings and <br>\n",
    "t, v has the same two left hand strings then s,v has the same two left hand strings"
   ]
  },
  {
   "cell_type": "markdown",
   "id": "7e1b2fca-0b9b-4088-b38c-0cd9e9516824",
   "metadata": {},
   "source": [
    "## Question 7"
   ]
  },
  {
   "cell_type": "markdown",
   "id": "8c4493d1-f0c1-4928-98d9-bce657c482c5",
   "metadata": {},
   "source": [
    "No its not a partial order relation due to not haing antisymetry <br>\n",
    "Let x, y be two real numbers with x = 2 and y = 3 <br>\n",
    "for R to be a partial orders relation x^2 <= y^2 <br>\n",
    "but since x = 2 = 2^2 = 4 and y = 3 = 3^2 = 9 <br>\n",
    "and y^2 <= x^2 = 9 <=4 is not true, there is no antisymetric<br>\n",
    "therefore it did not have partial orders relations with that element."
   ]
  },
  {
   "cell_type": "code",
   "execution_count": null,
   "id": "c8d7e8fc-3e9a-4812-bd8d-d59296f3e538",
   "metadata": {},
   "outputs": [],
   "source": []
  }
 ],
 "metadata": {
  "kernelspec": {
   "display_name": "Python 3 (ipykernel)",
   "language": "python",
   "name": "python3"
  },
  "language_info": {
   "codemirror_mode": {
    "name": "ipython",
    "version": 3
   },
   "file_extension": ".py",
   "mimetype": "text/x-python",
   "name": "python",
   "nbconvert_exporter": "python",
   "pygments_lexer": "ipython3",
   "version": "3.11.7"
  }
 },
 "nbformat": 4,
 "nbformat_minor": 5
}
