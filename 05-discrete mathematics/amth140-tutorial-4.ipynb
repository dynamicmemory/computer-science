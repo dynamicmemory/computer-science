{
 "cells": [
  {
   "cell_type": "markdown",
   "id": "ef7b1fe3-0152-4db1-830a-9b150980468e",
   "metadata": {},
   "source": [
    "# Tutorial 4"
   ]
  },
  {
   "cell_type": "markdown",
   "id": "33b60427-e036-4043-a510-75b283a37b5d",
   "metadata": {},
   "source": [
    "## Question 1 - Encrypt"
   ]
  },
  {
   "cell_type": "markdown",
   "id": "4c3fb194-ea06-45b5-99fd-dc087a2a0b2f",
   "metadata": {},
   "source": [
    "Variables <br>\n",
    "- p = 23, q = 29, pq = 667, e = 43\n",
    "- H = 08, I = 09 <br>\n",
    "\n",
    "Encryption formula <br>\n",
    "- C = m^e mod pq <br>\n",
    "\n",
    "Process <br>\n",
    "- C = 8^43 mod 667\n",
    "- 43= 32 + 8 + 2 + 1\n",
    "- 8^1 mod 667 = 8\n",
    "- 8^2 mod 667 = 64\n",
    "- 8^4 mod 667 = 94\n",
    "- 8^8 mod 667 = 165\n",
    "- 8^16 mod 667 = 545\n",
    "- 8^32 mod 667 = 210\n",
    "- 210 * 165 * 64 * 8\n",
    "- 17740800 mod 667 =\n",
    "- 601 mod 667\n",
    "- C = 601 <br>\n",
    "\n",
    "Follow the same process for I which equals 9 and you will find the <br>\n",
    "ciphertext for 9"
   ]
  },
  {
   "cell_type": "markdown",
   "id": "8abb4a8f-ad4c-4153-94d6-7af18fbb18b0",
   "metadata": {},
   "source": [
    "## Question 2 - Decrypt"
   ]
  },
  {
   "cell_type": "markdown",
   "id": "5c75e9aa-4c16-4e00-a004-2f983a3b996c",
   "metadata": {},
   "source": [
    "Variables <br>\n",
    "p = 23, q = 29, pq = 667, e = 43, C = 601 d = decrypt key given as inverse e mod (p-1) (q-1)<br>\n",
    "\n",
    "Decrypting formula <br>\n",
    "M = C^d mod pq <br>\n",
    "\n",
    "First find decrpyt key, we can only do this because p and q are given <br>\n",
    "- e inverse mod (p-1)(q-1)\n",
    "- 43 inverse mod 22 * 28\n",
    "- 43 inverse mod 616\n",
    "- eclucids extended algo using gcd(616, 43)\n",
    "- 616 = 43 * 14 + 14 gcf(43, 14)\n",
    "- 43 = 14 * 3 + 1 gcf(14, 1)\n",
    "- Now reverse the process to find s and t for the inverse\n",
    "- 1 = 43 - 14 * 3\n",
    "- = 43 - (616 - 43 * 14) * 3\n",
    "- = 43 * 43 - 3 * 616\n",
    "- 43*43 == 1 mod 616\n",
    "- d = 43 <br>\n",
    "Now we decrpt the message <br>\n",
    "- M = C^d mod pq\n",
    "- = 601^43 mod 667\n",
    "- 32 + 8 + 2 + 1\n",
    "- 601^1 mod 667 = 601\n",
    "- 601^2 mod 667 = 354\n",
    "- 601^4 mod 667 = 587\n",
    "- 601^8 mod 667 = 397\n",
    "- 601^16 mod 667 = 197\n",
    "- 601^32 mod 667 = 123\n",
    "- 123*397*354*601\n",
    "- Error in the calculator, meaning this question is wrong and cannot be answered... dumb fucking lecturer.\n",
    "\n",
    "  \n"
   ]
  },
  {
   "cell_type": "code",
   "execution_count": null,
   "id": "9510b6b8-f468-4263-b572-2f38c72f2582",
   "metadata": {},
   "outputs": [],
   "source": []
  }
 ],
 "metadata": {
  "kernelspec": {
   "display_name": "Python 3 (ipykernel)",
   "language": "python",
   "name": "python3"
  },
  "language_info": {
   "codemirror_mode": {
    "name": "ipython",
    "version": 3
   },
   "file_extension": ".py",
   "mimetype": "text/x-python",
   "name": "python",
   "nbconvert_exporter": "python",
   "pygments_lexer": "ipython3",
   "version": "3.11.7"
  }
 },
 "nbformat": 4,
 "nbformat_minor": 5
}
