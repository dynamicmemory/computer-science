{
 "cells": [
  {
   "cell_type": "markdown",
   "id": "216183e2-6439-4137-bf0f-78e194813d30",
   "metadata": {},
   "source": [
    "# Tutorial 2: number Bases and Circuits for Addition"
   ]
  },
  {
   "cell_type": "markdown",
   "id": "9bdd4abe-709e-4bbc-a52e-42b4a14b0d49",
   "metadata": {
    "editable": true,
    "jp-MarkdownHeadingCollapsed": true,
    "slideshow": {
     "slide_type": ""
    },
    "tags": []
   },
   "source": [
    "## Question 1"
   ]
  },
  {
   "cell_type": "markdown",
   "id": "5ac9d871-beb5-420d-bff1-b7e5df566280",
   "metadata": {},
   "source": [
    "Convert the binary number 110110 to decimal notation\n",
    "\n",
    "- 32 + 16 + 4 + 2 = 54"
   ]
  },
  {
   "cell_type": "markdown",
   "id": "c672da20-4035-4a23-8c3a-90672b3ee529",
   "metadata": {
    "jp-MarkdownHeadingCollapsed": true
   },
   "source": [
    "## Question 2"
   ]
  },
  {
   "cell_type": "markdown",
   "id": "00f58591-47b6-4808-9b5e-b1b0c3116d86",
   "metadata": {},
   "source": [
    "Convert the decimal number 287 to binary\n",
    "\n",
    "- 287 / 2 = 143 + 1\n",
    "- 143 / 2 = 71 + 1\n",
    "- 71 / 2 = 35 + 1\n",
    "- 35 / 2 = 17 + 1\n",
    "- 17 / 2 = 8 + 1\n",
    "- 8 / 2 = 4 + 0\n",
    "- 4 / 2 = 2 + 0\n",
    "- 2 / 2 = 1 + 0\n",
    "- 1 / 2 = + 1\n",
    "- 100011111"
   ]
  },
  {
   "cell_type": "markdown",
   "id": "28db2183-f5d3-43a9-8a42-6d3f0fdd9f14",
   "metadata": {
    "jp-MarkdownHeadingCollapsed": true
   },
   "source": [
    "## Question 3"
   ]
  },
  {
   "cell_type": "markdown",
   "id": "b7b9c311-f82b-449b-9a61-4447168c731e",
   "metadata": {},
   "source": [
    "Convert the hexadecimal number E0D to decimal notation\n",
    "\n",
    "- 14 x 16^2 = 3584\n",
    "- 16 x 16^1 = 256\n",
    "- 13 x 16^0 = 13\n",
    "- 3853\n",
    "\n",
    "The real answer is 3597 because its 0 x 16^1 = 0, not 16 x 16^1, which is what I wrote an actually makes no sense.\n",
    "\n",
    "Correct answer\n",
    "- 14 x 16^2 = 3584\n",
    "- 0 x 16^1 = 0\n",
    "- 13 x 16^0 = 13\n",
    "- 3597\n"
   ]
  },
  {
   "cell_type": "markdown",
   "id": "4442b25b-1ffb-4c63-9a26-1d952bf2a5aa",
   "metadata": {
    "jp-MarkdownHeadingCollapsed": true
   },
   "source": [
    "## Question 4 "
   ]
  },
  {
   "cell_type": "markdown",
   "id": "e66774fa-21b6-4a47-b86f-90abf7a3d321",
   "metadata": {},
   "source": [
    "Convert the decimal number 14827 to hexadecimal notation\n",
    "\n",
    "- 14827 / 16 = 926 + B\n",
    "- 926 / 16 = 57 + E\n",
    "- 57 / 16 = 3 + 9\n",
    "- 3 / 16 = + 3\n",
    "- 39EB"
   ]
  },
  {
   "cell_type": "markdown",
   "id": "4449fb1f-ec2b-428c-820a-3da210983e7d",
   "metadata": {
    "jp-MarkdownHeadingCollapsed": true
   },
   "source": [
    "## Question 5 "
   ]
  },
  {
   "cell_type": "markdown",
   "id": "ab243742-a07b-4a91-a0f0-f65780fabfce",
   "metadata": {},
   "source": [
    "Add the two binary numbers 1001 and 1011. Now add the two binary numbers 110111011 and 1001011010\n",
    "\n",
    "- 1001 = 9\n",
    "- 1011 = 11\n",
    "\n",
    "9 + 11 = 20\n",
    "\n",
    "- 110111011 = 1 + 2 + 8 + 16 + 32 + 128 + 256 = 443\n",
    "- 1001011010 = 2 + 8 + 16 + 64 + 512 = 602\n",
    "\n",
    "443 + 602 = 1045"
   ]
  },
  {
   "cell_type": "markdown",
   "id": "3c06cef9-8860-4ed8-8c14-cabd28d6460e",
   "metadata": {
    "jp-MarkdownHeadingCollapsed": true
   },
   "source": [
    "## Question 6"
   ]
  },
  {
   "cell_type": "markdown",
   "id": "59c6575e-6d24-4a6a-be90-1b4d887d17f9",
   "metadata": {},
   "source": [
    "Consider adding two binary numbers P and Q, each with just one digit (i.e, each could be either 0 or 1) <br>\n",
    "and expressing their sum as a two-digit binary number CS (C as in Carry, S as in Sum).\n",
    "\n",
    "a) Draw up the table that represents the sum and carry\n",
    "|P|Q|C|S|\n",
    "|:-:|:-:|:-:|:-:|\n",
    "|1|1|1|0|\n",
    "|1|0|0|1|\n",
    "|0|1|0|1|\n",
    "|0|0|0|0|\n",
    "\n",
    "b) Give the digital circuit implementations for outputs Sum and Carry.\n",
    "\n",
    "Sum\n",
    "- Sum is P going into an AND GATE and q going into a NOT Gate , then both going into an OR gate at the end\n",
    "- Now before the above occurs, both have wire splits that sees the P go through a NOT gate, and then an AND gate <br>\n",
    "and the Q go straight into the AND gate, then into the OR gate at the end.\n",
    "\n",
    "My implementation is not correct here, this truth table is known as an XOR cicuit, exclusive or, look it up child\n",
    "\n",
    "Carry\n",
    "- is just Both P and Q going into an AND gate, then to the ouput.\n",
    "\n",
    "c) Give a digital circuit implementation that inputs P and Q, and outputs sum and Carry. <br>\n",
    "This circuit is called a half-adder\n",
    "\n",
    "Go look at page 97 in the text, it provides good reasoning and understanding of this question, plus it just answers it straight away in examplw"
   ]
  },
  {
   "cell_type": "code",
   "execution_count": null,
   "id": "5cc10696-1b33-4943-95c1-e8589f2164c4",
   "metadata": {
    "editable": true,
    "slideshow": {
     "slide_type": ""
    },
    "tags": []
   },
   "outputs": [],
   "source": []
  }
 ],
 "metadata": {
  "kernelspec": {
   "display_name": "Python 3 (ipykernel)",
   "language": "python",
   "name": "python3"
  },
  "language_info": {
   "codemirror_mode": {
    "name": "ipython",
    "version": 3
   },
   "file_extension": ".py",
   "mimetype": "text/x-python",
   "name": "python",
   "nbconvert_exporter": "python",
   "pygments_lexer": "ipython3",
   "version": "3.11.7"
  }
 },
 "nbformat": 4,
 "nbformat_minor": 5
}
