{
 "cells": [
  {
   "cell_type": "markdown",
   "id": "10a497b8-6afa-4b6b-9940-999f8167f56a",
   "metadata": {},
   "source": [
    "# AMTH140 Tutorial 1: Digital Logic Circuits"
   ]
  },
  {
   "cell_type": "markdown",
   "id": "a4e89354-e9d9-4047-8170-2f525661d17c",
   "metadata": {},
   "source": [
    "## Question 1"
   ]
  },
  {
   "cell_type": "markdown",
   "id": "9f130409-5412-4636-8c27-ffb80b841124",
   "metadata": {
    "editable": true,
    "slideshow": {
     "slide_type": ""
    },
    "tags": []
   },
   "source": [
    "Find the ouput of the circuit in figure 1 corresponding to the input:\n",
    "- p = 1\n",
    "- q = 0\n",
    "- r = 1\n",
    "\n",
    "P and Q going into an AND, Q being soldered off to go into an OR with R <br>\n",
    "The P and Q outcome goes into a NOT gate and then into the final AND <br>\n",
    "The soldered off Q and R  that go into the OR go straight to the same AND above <br>\n",
    "To the output.\n",
    "\n",
    "|input|output|\n",
    "|:-:|:-:|\n",
    "|P Q R|S|\n",
    "|1 1 1|0|\n",
    "|1 1 0|0|\n",
    "|1 0 1|1|\n",
    "|1 0 0|0|\n",
    "|0 1 0|1|\n",
    "|0 1 1|1|\n",
    "|0 0 0|0|\n",
    "\n",
    "Answer - the signal would be 1 "
   ]
  },
  {
   "cell_type": "markdown",
   "id": "2cb7fce0-e043-40ce-a814-c81c9859d8e6",
   "metadata": {},
   "source": [
    "## Question 2"
   ]
  },
  {
   "cell_type": "markdown",
   "id": "272e7c88-8d62-4038-93ac-60b548c87015",
   "metadata": {
    "editable": true,
    "slideshow": {
     "slide_type": ""
    },
    "tags": []
   },
   "source": [
    "Write the Boolean expression corresponding to the circuit in Question 1\n",
    "\n",
    "~ (P ^ Q) ^ (Q v R)"
   ]
  },
  {
   "cell_type": "markdown",
   "id": "d935d56a-e9b0-4294-a0a2-125ef2ff2983",
   "metadata": {},
   "source": [
    "## Question 3"
   ]
  },
  {
   "cell_type": "markdown",
   "id": "ea1b5a81-4f0f-41f7-8ec3-5ce20f5195fc",
   "metadata": {},
   "source": [
    "Draw a circuit that corresponds to the following Boolean expression:\n",
    "\n",
    "(P ^ Q) v (~P ^ ~Q)\n",
    "\n",
    "You would have P and Q going into an AND-Gate, then splitting off into two wires afterwards <br>\n",
    "with one wire going straight to an OR-Gate at the end and the second wire going through a <br>\n",
    "NOT-Gate, then too that final OR-Gate.\n",
    "\n",
    "This is incorrect, You want to make a split of p and q before the AND gate, then feed the split into a NOT gate each, then into an AND gate. Then both the original and split lines into the  OR gate<br>\n"
   ]
  },
  {
   "cell_type": "markdown",
   "id": "43031a48-f43b-4acf-a357-a9a9018e3c00",
   "metadata": {},
   "source": [
    "## Question 4"
   ]
  },
  {
   "cell_type": "markdown",
   "id": "549e3705-e2d3-4188-9d70-21c1c7d0171e",
   "metadata": {
    "editable": true,
    "slideshow": {
     "slide_type": ""
    },
    "tags": []
   },
   "source": [
    "Find a circuit with the following in/output table:\n",
    "\n",
    "|input|output|\n",
    "|:-:|:-:|\n",
    "|P Q R|S|\n",
    "|1 1 1|0|\n",
    "|1 1 0|0|\n",
    "|1 0 1|1|\n",
    "|1 0 0|0|\n",
    "|0 1 1|1|\n",
    "|0 1 0|0|\n",
    "|0 0 1|0|\n",
    "|0 0 0|0|\n",
    "\n",
    "Row 3 - P ^ ~Q ^ R\n",
    "Row 5 - ~P ^ Q ^ R\n",
    "\n",
    "Combined then using an OR\n",
    "\n",
    "(P ^ ~ Q ^ R) v (~ P ^ Q ^ R)\n",
    "\n",
    "- PQR all goin into an AND gate but the Q passes through a NOT-Gate just prior\n",
    "- The output of those three lead to the final OR-Gate\n",
    "- Back at the start we have all the wires split before any of the gates with the <br>\n",
    "P, Q and R going straight into an AND-Gate but the P going through a NOT-Gate prior\n",
    "- The output then goes into the Final OR-Gate and that is the signal."
   ]
  },
  {
   "cell_type": "markdown",
   "id": "5806bb45-29ca-4a4a-a98f-477ec7868118",
   "metadata": {
    "editable": true,
    "slideshow": {
     "slide_type": ""
    },
    "tags": []
   },
   "source": [
    "## Question 5"
   ]
  },
  {
   "cell_type": "markdown",
   "id": "25bb90ed-b68a-4e07-8f79-58f5f45992ad",
   "metadata": {},
   "source": [
    "Find boolean expressions for the two circuits\n",
    "\n",
    "First is:\n",
    "- ~ (~P ^ Q) ^ ~P\n",
    "\n",
    "|input|output|\n",
    "|:-:|:-:|        \n",
    "|P Q|S|\n",
    "|1 1|0|\n",
    "|1 0|1|\n",
    "|0 1|1|\n",
    "|0 0|1|\n",
    "\n",
    "Second is:\n",
    "- ~ (P v Q)\n",
    "\n",
    "|input|output|\n",
    "|:-:|:-:|        \n",
    "|P Q|S|\n",
    "|1 1|0|\n",
    "|1 0|0|\n",
    "|0 1|0|\n",
    "|0 0|1|\n",
    "\n",
    "Show their logical equivalence"
   ]
  },
  {
   "cell_type": "markdown",
   "id": "0d811f8c-871d-44a7-8194-66883f1e5088",
   "metadata": {},
   "source": [
    "- (~ ~P ^ ~q) ^ ~P  : De Morgans law\n",
    "- (P ^ ~q) ^ ~P : Double negative law\n",
    "- ~P ^ (P ^ ~Q) : commutative law\n",
    "- C ^ ~Q : negation law\n",
    "\n",
    "I do not think they are logically equivalentm even though they can be in a scenario?\n",
    "\n",
    "\n",
    "I was wrong and the correct answer:\n",
    "\n",
    "- ∼ P ∧ (∼ (∼ P ∧ Q)) ≡∼ P ∧ (∼ (∼ P)∨ ∼ Q) by De Morgan’s law,\n",
    "- ∼ P ∧ (P ∨ ∼ Q) by double negative law,\n",
    "-  (∼ P ∧ P) ∨ (∼ P ∧ ∼ Q) by distributive law,\n",
    "- c ∨ (∼ P ∧ ∼ Q) by negation law for ∧,\n",
    "- ∼ P ∧ ∼ Q by identity law for ∨,\n",
    "- ∼ (P ∨ Q) by De Morgan’s law."
   ]
  },
  {
   "cell_type": "markdown",
   "id": "8e9dd038-0573-436f-93a0-3b78c4fe2089",
   "metadata": {},
   "source": [
    "## Question 6"
   ]
  },
  {
   "cell_type": "markdown",
   "id": "33472e3f-cd02-4872-8852-eb77768f2622",
   "metadata": {},
   "source": [
    "Find a circuit with at most two logic gates that is equivalent to the <br>\n",
    "circcuit corressponging to the boolean expression : <br>\n",
    "(~P ^ ~Q) v (~P ^ Q) v (P ^ ~Q)\n",
    "\n",
    "|input|ouptut|\n",
    "|:-:|:-:|\n",
    "|1 1|0|\n",
    "|1 0|1|\n",
    "|0 1|1|\n",
    "|0 0|1|\n",
    "\n",
    "That is what the truth table should look like. <br>\n",
    "But i genuinely cannot answer the question.. wait a minute <br>\n",
    "\n",
    "its just p and q going into and AND gate then into a NOT gate afterwards.... that would be logically equivalent."
   ]
  },
  {
   "cell_type": "markdown",
   "id": "95b9de86-a031-45cc-b27d-aaf99390db5c",
   "metadata": {},
   "source": [
    "The smart person answer is this:\n",
    "\n",
    "- (∼ P ∧ (∼ Q ∨ Q)) ∨ (P ∧ ∼ Q) by distributive law,\n",
    "- (∼ P ∧ (Q ∨ ∼ Q)) ∨ (P ∧ ∼ Q) by commutative law,\n",
    "- (∼ P ∧ t) ∨ (P ∧ ∼ Q) by negation law,\n",
    "- ∼ P ∨ (P ∧ ∼ Q) by identity law,\n",
    "- (∼ P ∨ P) ∧ (∼ P ∨ ∼ Q) by distributive law,\n",
    "- (P ∨ ∼ P) ∧ (∼ P ∨ ∼ Q) by commutative law,\n",
    "- t ∧ (∼ P ∨ ∼ Q) by negation law,\n",
    "- (∼ P ∨ ∼ Q) ∧ t by commutative law,\n",
    "- ∼ P ∨ ∼ Q by identity law,\n",
    "- ∼ (P ∧ Q) by De Morgan’s law."
   ]
  },
  {
   "cell_type": "code",
   "execution_count": null,
   "id": "4a00a2ee-49c4-4c0e-83ab-a673342b5943",
   "metadata": {},
   "outputs": [],
   "source": []
  }
 ],
 "metadata": {
  "kernelspec": {
   "display_name": "Python 3 (ipykernel)",
   "language": "python",
   "name": "python3"
  },
  "language_info": {
   "codemirror_mode": {
    "name": "ipython",
    "version": 3
   },
   "file_extension": ".py",
   "mimetype": "text/x-python",
   "name": "python",
   "nbconvert_exporter": "python",
   "pygments_lexer": "ipython3",
   "version": "3.11.7"
  }
 },
 "nbformat": 4,
 "nbformat_minor": 5
}
