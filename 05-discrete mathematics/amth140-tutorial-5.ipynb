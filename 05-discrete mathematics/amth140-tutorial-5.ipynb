{
 "cells": [
  {
   "cell_type": "markdown",
   "id": "149f136b-351c-45c9-af7d-ee1056b0c8d8",
   "metadata": {},
   "source": [
    "# Tutorial 5"
   ]
  },
  {
   "cell_type": "markdown",
   "id": "1da43a79-9e32-4619-b619-75f8841220f7",
   "metadata": {},
   "source": [
    "## Question 1"
   ]
  },
  {
   "cell_type": "markdown",
   "id": "bc565dce-ddb0-44f0-aaa2-049408bd5537",
   "metadata": {},
   "source": [
    "{emptry}, {0}, {1}, {2}, {0, 1}, {0, 2}, {1, 2}, {0,1,2}"
   ]
  },
  {
   "cell_type": "markdown",
   "id": "ce11f73c-b817-46b6-b859-ffba4446c0b8",
   "metadata": {},
   "source": [
    "## Question 2"
   ]
  },
  {
   "cell_type": "markdown",
   "id": "6cd3c1b4-f8cd-415e-86af-f649f9d5e560",
   "metadata": {},
   "source": [
    "I drew things on lenny jr"
   ]
  },
  {
   "cell_type": "markdown",
   "id": "97bb5554-13bf-4993-ab36-8d7a2fde3acd",
   "metadata": {},
   "source": [
    "## Question 3"
   ]
  },
  {
   "cell_type": "markdown",
   "id": "3dbb6d0d-ad33-4e69-ae82-fae5651bd8ce",
   "metadata": {},
   "source": [
    "{empty} = least and min, {0,1,2} is max and great"
   ]
  },
  {
   "cell_type": "markdown",
   "id": "3459c319-b5ca-403d-844a-1777a983b979",
   "metadata": {},
   "source": [
    "## Question 4"
   ]
  },
  {
   "cell_type": "markdown",
   "id": "10cba756-49a6-40a3-9b1b-d5c228aee288",
   "metadata": {},
   "source": [
    "{emptry}, {0}, {1}, {2}, {0, 1}, {0, 2}, {1, 2}, {0,1,2}"
   ]
  },
  {
   "cell_type": "markdown",
   "id": "910b64ce-7033-4257-986c-ef855ce3b3f9",
   "metadata": {},
   "source": [
    "## Question 5"
   ]
  },
  {
   "cell_type": "markdown",
   "id": "07def53d-f2a4-4cb8-8490-0fb66df6355d",
   "metadata": {},
   "source": [
    "9 <br>\n",
    "6, 8 <br>\n",
    "4, 5, 7 <br>\n",
    "2, 3 <br>\n",
    "1 <br>\n",
    "none <br>\n",
    "You have to use your imagination andk nowlegde of asse diagrams to see the connection"
   ]
  },
  {
   "cell_type": "markdown",
   "id": "79816681-5295-4201-95e6-a66b370abd33",
   "metadata": {},
   "source": [
    "33hrs and crit path is 1,2,5,8,9"
   ]
  },
  {
   "cell_type": "code",
   "execution_count": null,
   "id": "722c4077-2cbc-4987-b774-5ce48899f803",
   "metadata": {},
   "outputs": [],
   "source": []
  }
 ],
 "metadata": {
  "kernelspec": {
   "display_name": "Python 3 (ipykernel)",
   "language": "python",
   "name": "python3"
  },
  "language_info": {
   "codemirror_mode": {
    "name": "ipython",
    "version": 3
   },
   "file_extension": ".py",
   "mimetype": "text/x-python",
   "name": "python",
   "nbconvert_exporter": "python",
   "pygments_lexer": "ipython3",
   "version": "3.11.7"
  }
 },
 "nbformat": 4,
 "nbformat_minor": 5
}
