{
 "cells": [
  {
   "cell_type": "markdown",
   "id": "7bbc765b-df2c-4512-9828-101d615e14fb",
   "metadata": {},
   "source": [
    "# Digital Logic Circuits"
   ]
  },
  {
   "cell_type": "markdown",
   "id": "86ee7011-fa45-47a5-a5b6-7c91b2d31254",
   "metadata": {},
   "source": [
    "A simple circuit\n",
    "\n",
    "- The light bulb turns of if, and only if, current flows through it.\n",
    "- And this happens\n",
    "- If and only if the switch is closed"
   ]
  },
  {
   "cell_type": "markdown",
   "id": "e10368e3-599d-4587-9d48-4b4db91e6254",
   "metadata": {
    "jp-MarkdownHeadingCollapsed": true
   },
   "source": [
    "## Switches in series (and)"
   ]
  },
  {
   "cell_type": "markdown",
   "id": "bd3a8559-ee61-4724-8618-83d3f4b245a9",
   "metadata": {},
   "source": [
    "Current flows and the light bulb turns on:\n",
    "- If and only if both switches P and Q are closed.\n",
    "\n",
    "The switches in this circuit are said to be in series.\n",
    "\n",
    "|Switches| Light Bulb|\n",
    "|:-:|:-:|\n",
    "|p q | state |\n",
    "|closed closed | on |\n",
    "|closed open|off|\n",
    "|open closed|off|\n",
    "|open open|off|"
   ]
  },
  {
   "cell_type": "markdown",
   "id": "07f96887-da67-4bae-977d-cb0fdbbe62c3",
   "metadata": {
    "jp-MarkdownHeadingCollapsed": true
   },
   "source": [
    "## Switches in Parallel (or)"
   ]
  },
  {
   "cell_type": "markdown",
   "id": "c497b322-9857-4cf8-8423-5863278b2400",
   "metadata": {},
   "source": [
    "Current flows and the light bulb turns on:\n",
    "- If either switch p or switch q is closed.\n",
    "\n",
    "The switches in this circuit are said to be in parallel\n",
    "\n",
    "|Switches| Light Bulb|\n",
    "|:-:|:-:|\n",
    "|p q | state |\n",
    "|closed closed | on |\n",
    "|closed open|on|\n",
    "|open closed|on|\n",
    "|open open|off|"
   ]
  },
  {
   "cell_type": "markdown",
   "id": "0c75cafe-ccdd-4ff4-9ddc-fead26b0beb0",
   "metadata": {
    "jp-MarkdownHeadingCollapsed": true
   },
   "source": [
    "## Black Boxes and Gates"
   ]
  },
  {
   "cell_type": "markdown",
   "id": "3e89d47e-bc65-4d55-af54-5d4bf1d9461a",
   "metadata": {},
   "source": [
    "We will not worry about the details of the low level details of what happens in a black box\n",
    "\n",
    "The inside of a black box contains the detailed implementation of the circuit and is often <br>\n",
    "ignored while attention is focused on the relation between the input and the output signals.\n",
    "\n",
    "We will stay at the level of logic for the black boxes, we are onlyconcerned with what bits are <br>\n",
    "going and and what bits are coming out.\n",
    "\n",
    "One possilbe correspondence of input to output signals is as follows:\n",
    "\n",
    "|Input|Output|\n",
    "|:-:|:-:|\n",
    "|P Q R| S|\n",
    "|1 1 1|1|\n",
    "|1 1 0|0|\n",
    "|1 0 1|0|\n",
    "|1 0 0|1|\n",
    "|0 1 1|0|\n",
    "|0 1 0|1|\n",
    "|0 0 1|1|\n",
    "|0 0 0|0|"
   ]
  },
  {
   "cell_type": "markdown",
   "id": "09f22326-4e0c-434d-8276-a31b57f7fbf6",
   "metadata": {},
   "source": [
    "To build up more complicated curcuits we connect less commplicated curiuts <br>\n",
    "black box circuits together."
   ]
  },
  {
   "cell_type": "markdown",
   "id": "cf3e0ac8-8a59-4fd0-bf8a-dae522247a10",
   "metadata": {
    "editable": true,
    "jp-MarkdownHeadingCollapsed": true,
    "slideshow": {
     "slide_type": ""
    },
    "tags": []
   },
   "source": [
    "## Gates"
   ]
  },
  {
   "cell_type": "markdown",
   "id": "9c7d61df-b311-4b9e-8067-bbdd5b737d05",
   "metadata": {},
   "source": [
    "- A NOT-gate (INVERTER) is a curcuit with one input signal and one output signal. If the input sifnal is 1, the output is 0\n",
    "|Input|Output|\n",
    "|:-:|:-:|\n",
    "|P|R|\n",
    "|1|0|\n",
    "|0|1|\n",
    "\n",
    "<hr>\n",
    "\n",
    "- An AND-gate, is a curcuit with two input signals and one output signal, if both input signals are 1 then the output signal is 1\n",
    "|Input|Output|\n",
    "|:-:|:-:|\n",
    "|P Q|R|\n",
    "|1 1|1|\n",
    "|1 0|0|\n",
    "|0 1|0|\n",
    "|0 0|0|\n",
    "\n",
    "<hr>\n",
    "  \n",
    "- An OR-gate, also has two input signals an one output signals. If both input signals are 0 then the output signal is 0. otherwise the signal is 1\n",
    "|Input|Output|\n",
    "|:-:|:-:|\n",
    "|P Q|R|\n",
    "|1 1|1|\n",
    "|1 0|1|\n",
    "|0 1|1|\n",
    "|0 0|0|\n",
    "\n",
    "<hr>"
   ]
  },
  {
   "cell_type": "markdown",
   "id": "ee6296dc-3a29-4b67-9b69-1ea319ba137d",
   "metadata": {},
   "source": [
    "NOT, AND and ORs equate to ~ ^ and V and T and Fs are the same as 1, 0\n",
    "\n",
    "Gates can be combined into circuits in a variety of ways. If the rules shown on the next page are obeyed, the result is<br>\n",
    "a combinational circuit, one whose output at any time is determined entirely by its input at that time without regard <br>\n",
    "to previous inputs.\n"
   ]
  },
  {
   "cell_type": "markdown",
   "id": "d5f0875e-289e-415e-b4f8-ca0c26918310",
   "metadata": {},
   "source": [
    "## Boolean Expressions"
   ]
  },
  {
   "cell_type": "markdown",
   "id": "346b4cba-18fc-4f56-ac08-0619829f5863",
   "metadata": {},
   "source": [
    "In logic, variables such as p, q and r represent statements, <br>\n",
    "and a statement can have one of only two truth values: <br>\n",
    "T(true) or F(false).\n",
    "\n",
    "A statement form is an expression, such as p ∧ (∼q ∨ r),\n",
    "composed of statement variables and logical connectives.<br>\n",
    "As noted earlier, one of the founders of symbolic logic was\n",
    "the English mathematician George Boole. In his honor, any<br>\n",
    "variable, such as a statement variable or an input signal,\n",
    "that can take one of only two values is called a Boolean<br>\n",
    "variable. An expression composed of Boolean variables\n",
    "and the connectives ∼, ∧, and ∨ is called a Boolean<br>\n",
    "expression."
   ]
  },
  {
   "cell_type": "markdown",
   "id": "0f71a5ae-ac67-4e88-b305-1e87fc60f1c3",
   "metadata": {},
   "source": [
    "REFER TO PAGE 25 onwards from digital logic lecutre slides for diagrams"
   ]
  },
  {
   "cell_type": "markdown",
   "id": "fe682b89-c093-479f-bf5f-5d7b7571d85e",
   "metadata": {},
   "source": [
    "Design a circuit for the following in/out table:\n",
    "\n",
    "|inout|output|\n",
    "|:-:|:-:|\n",
    "|p q r|s|\n",
    "|1 1 1|1|\n",
    "|1 1 0|0|\n",
    "|1 0 1|1|\n",
    "|1 0 0|1|\n",
    "|0 1 1|0|\n",
    "|0 1 0|0|\n",
    "|0 0 1|0|\n",
    "|0 0 0|0|"
   ]
  },
  {
   "cell_type": "markdown",
   "id": "14132039-9510-47fe-b9ac-6ea108c152b3",
   "metadata": {},
   "source": [
    "First construct a Boolean expression with this table as its truth table. To do this, identify each row for which the <br>\n",
    "output is 1—in this case, the first, third, and fourth rows.\n",
    "\n",
    "For each such row, construct an and expression that produces a 1 (or true) for the exact combination of input values for <br>\n",
    "that row and a 0 (or false) for all other combinations of input values.\n",
    "\n",
    "row 1 - p ^ q ^ r = 1\n",
    "row 3 - p ^ q ^ ~r = 1\n",
    "row 4 - p ^ ~q ^ ~r = 1\n",
    "\n",
    "now connect thses statements up with disjunctions or  OR connectors\n",
    "\n",
    "(p^q^r) V (p^q^~r) V (p^ ~q ^ ~r)\n",
    "\n",
    "Visual answer of the circuit is on page 44 of digital-logic pdf"
   ]
  },
  {
   "cell_type": "markdown",
   "id": "a23d9e2a-e6ad-4f0f-8fa3-a13801d79d90",
   "metadata": {},
   "source": [
    "## Simplifying combinational circuits"
   ]
  },
  {
   "cell_type": "markdown",
   "id": "6c26d927-74c3-46fb-8a87-ab9a4d82a21c",
   "metadata": {},
   "source": [
    "Two digital logic circuits are equvilent if and only if their in/output tables are identical."
   ]
  },
  {
   "cell_type": "markdown",
   "id": "5b7a79a5-8d0d-4d7c-9bdb-d54ea0a355e6",
   "metadata": {},
   "source": [
    "### Showing that two cicuits are equalivalent\n",
    "\n",
    "- Find the Boolean expressions for each circuit \n",
    "- Use Theorem 2.1.1 to show that these expressions are logically equivalent<br>\n",
    "when regarded as statement forms."
   ]
  },
  {
   "cell_type": "markdown",
   "id": "4c5d48fb-e404-4d72-bb85-99f42c420a0d",
   "metadata": {},
   "source": [
    "The Boolean expressions that correspond to circuits (a) and (b) are:\n",
    "- ((P ∧ ∼Q) ∨ (P ∧ Q)) ∧ Q\n",
    "\n",
    "  and\n",
    "  \n",
    "- P ∧ Q\n",
    "<hr>\n",
    "\n",
    "- ((P ^ ~Q) v (P ^ Q))  ^ Q\n",
    "- (p ^ (~Q v Q)) ^ Q - distributive law, the two P^ are factored out\n",
    "- (P ^ (Q v ~Q)) ^ Q - communtative law for v, we switch the ~q and q around\n",
    "- (P ^ t) ^ Q - negation law, the qs were a tautology\n",
    "- p ^ q - Identity law, p and a t == p\n",
    "- ta daaa"
   ]
  },
  {
   "cell_type": "code",
   "execution_count": null,
   "id": "89e997c7-c61f-41de-a71e-40dff8f9a9b4",
   "metadata": {
    "editable": true,
    "slideshow": {
     "slide_type": ""
    },
    "tags": []
   },
   "outputs": [],
   "source": []
  }
 ],
 "metadata": {
  "kernelspec": {
   "display_name": "Python 3 (ipykernel)",
   "language": "python",
   "name": "python3"
  },
  "language_info": {
   "codemirror_mode": {
    "name": "ipython",
    "version": 3
   },
   "file_extension": ".py",
   "mimetype": "text/x-python",
   "name": "python",
   "nbconvert_exporter": "python",
   "pygments_lexer": "ipython3",
   "version": "3.11.7"
  }
 },
 "nbformat": 4,
 "nbformat_minor": 5
}
