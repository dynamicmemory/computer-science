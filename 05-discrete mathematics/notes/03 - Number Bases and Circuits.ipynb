{
 "cells": [
  {
   "cell_type": "markdown",
   "id": "0da6299c-c09e-4dad-8de9-1513c0f83bea",
   "metadata": {},
   "source": [
    "# NUMBER BASES AND CIRCUITS"
   ]
  },
  {
   "cell_type": "markdown",
   "id": "62dffad1-2330-4af3-b233-2ab4cce6d084",
   "metadata": {},
   "source": [
    "In computer science, base 2 notation, or binary notation, is of special importance because <br>\n",
    "the signals used in modern electronics are always in one of only two states.<br>\n",
    "(The Latin root bi means “two.”)<br>\n",
    "We can show that any integer can be represented uniquely as a sum of products of the form <br>\n",
    " d ⚫ 2n\n",
    ",\n",
    "\n",
    "where each n is an integer and each d is one of the binary\n",
    "digits (or bits) 0 or 1."
   ]
  },
  {
   "cell_type": "markdown",
   "id": "bd99c44f-135f-46d1-ac59-06ed6b83d951",
   "metadata": {},
   "source": [
    "#### Example"
   ]
  },
  {
   "cell_type": "markdown",
   "id": "6ce6d7f7-f614-4ed4-8334-24612aa1aef0",
   "metadata": {},
   "source": [
    "27 = 16 + 8 + 2 + 1\n",
    "\n",
    "= 1*2^4 + 1*2^3 + 0*2^2 + 1*2^1 + 1*2^0\n",
    "\n",
    "The places in binary notation correspond to the various powers of 2."
   ]
  },
  {
   "cell_type": "markdown",
   "id": "3302ab67-9343-4836-8558-3156a50c076c",
   "metadata": {},
   "source": [
    "The right most position is the ones place (or 2^0 place), to the left of that <br>\n",
    "is the twos place (or 2^1 place), to the left that is the fours place (or 2^2 place), <br>\n",
    "and so forth, as illustrated below.\n",
    "\n",
    "|Place|2^4 (16s)|2^3 (8s)|2^2 (4s)|2^1 (2s)|2^0 (1s)|\n",
    "|:-:|:-:|:-:|:-:|:-:|:-:|\n",
    "|Binary Digital|1|1|0|1|1|\n",
    "\n",
    "As in the decimal notation, leading zeros may be added or dropped as desired. For example <br>\n",
    "BASE 10: 003 = 3 = BINARY NOTATION: 1*2^1 + 1*2^0 = 11 = 011"
   ]
  },
  {
   "cell_type": "markdown",
   "id": "f446929b-9d29-4da9-aec3-d084829428af",
   "metadata": {},
   "source": [
    "A list of powers of 2 is useful for bin to deci conversion\n",
    "\n",
    "|Powers of 2|2^10|2^9|2^8|2^7|2^6|2^5|2^4|2^3|2^2|2^1|2^0|\n",
    "|:-:|:-:|:-:|:-:|:-:|:-:|:-:|:-:|:-:|:-:|:-:|:-:|\n",
    "|Decimal form|1024|512|256|128|64|32|16|8|4|2|1|"
   ]
  },
  {
   "cell_type": "markdown",
   "id": "06537e5e-94b2-4eb5-b8bd-471d38f2aa9f",
   "metadata": {},
   "source": [
    "## Algorithm to Conveert BASE 10 to BASE 2"
   ]
  },
  {
   "cell_type": "markdown",
   "id": "1a026490-ff87-42f2-b6c4-f6690425a4e6",
   "metadata": {},
   "source": [
    "### Quotient-Remainder theorem"
   ]
  },
  {
   "cell_type": "markdown",
   "id": "7348633c-7700-48f0-ab6e-043d99b93856",
   "metadata": {},
   "source": [
    "Given any integer n and positive integer d. There exists unique integers q and r such that<br>\n",
    "n = dq + r and 0 ≤ r < d"
   ]
  },
  {
   "cell_type": "markdown",
   "id": "d3fea8b0-e3fb-45e1-abae-54b6720d9726",
   "metadata": {},
   "source": [
    "#### Example\n",
    "- 29 = 2 x 14 + 1\n",
    "- 14 = 2 x 7 + 0\n",
    "- 7 = 2 x 3 + 1\n",
    "- 3 = 2 x 1 + 1\n",
    "- 1 = 2 x 0 + 1\n",
    "- 29 == 11101"
   ]
  },
  {
   "cell_type": "markdown",
   "id": "f2bb2831-ff78-439d-ab12-345bd61f40c9",
   "metadata": {},
   "source": [
    "## Binary Addition"
   ]
  },
  {
   "cell_type": "markdown",
   "id": "d9366a64-be2a-4139-880f-3dbf43d431b4",
   "metadata": {},
   "source": [
    "Add 1101 and 111 using binary notation.\n",
    "\n",
    "solution:\n",
    "- Because 2(in base ten) = 10(in base two) and 1(in base ten) = 1(in base two), <br>\n",
    "the translation of 1 + 1 =2 to binary notation is as follows:\n",
    "-  1\n",
    "-  1 +\n",
    "- _\n",
    "- 10\n",
    "\n",
    "Basically it means carry the one, if adding two 1s together, carry the one to the next column\n",
    "\n",
    "Adding three 1's together also results in a carry of the one, but also that column becomes a 1 as well.<br>\n",
    "3(in base ten) = 11 in base 2\n",
    "-  1\n",
    "-  1 +\n",
    "-  1 +\n",
    "- __\n",
    "- 11\n",
    "\n",
    "Thus it follows that: \n",
    "-  1 1 0 1\n",
    "-  1 1 1 +\n",
    "- 1 0 1 0 0\n",
    "\n",
    "The math lines up"
   ]
  },
  {
   "cell_type": "markdown",
   "id": "3c0b9e5e-4231-4d50-9cae-3a0fce14e821",
   "metadata": {},
   "source": [
    "## Hexadecimal "
   ]
  },
  {
   "cell_type": "markdown",
   "id": "7c0a7295-6b91-4ecf-9c03-b5f6cbd4270c",
   "metadata": {},
   "source": [
    "The base of hexadecimal has a base of 16\n",
    "\n",
    "Hexadecimal notation is based on thee fact that any integer can be uniquely <br>\n",
    "expressed as a sum of numbers of the form. <br><br>\n",
    "d*16^n\n",
    "\n",
    "- Where each n is a non-negative integer and each d is one of the integers from 0 to 15.\n",
    "- In order to avoid ambiguity, each hexadecimal digit must be represented by a single symbol\n",
    "- The integers 10 through 15 are represented by the symbols A, B, C, D, E and F.\n"
   ]
  },
  {
   "cell_type": "markdown",
   "id": "1d66b524-50c4-4a47-b83f-8c932ee3d6a8",
   "metadata": {},
   "source": [
    "Convert 3CF to decimal notation: <br>\n",
    "Solution:<br>\n",
    "Consider the following schema <br>\n",
    "- F = 16^0 = 1 = 15*1 = 15\n",
    "- C = 16^1 = 16 = 12*16 = 192\n",
    "- 3 = 16^2 = 256 = 3*256 = 768\n",
    "- = 15 + 192 + 768 = 975\n",
    "\n",
    "## HEXADECIMAL to BINARY\n",
    "- Write each hexadecimal digit of the integer in 4-bit binary notation\n",
    "- Juxtapose the results\n",
    "\n",
    "Convert B09F to binary notation: \n",
    "|Hexa|Deci|Binary|\n",
    "|:-:|:-:|:-:|\n",
    "|B|11|1011|\n",
    "|0|0|0000|\n",
    "|9|9|1001|\n",
    "|F|15|1111|\n",
    "\n",
    "Then you just put them together like so:<br>\n",
    "1011000010011111"
   ]
  },
  {
   "cell_type": "markdown",
   "id": "c6014c08-a50b-4a41-af8d-c36504a3b23c",
   "metadata": {},
   "source": [
    "## BINARY TO HEXADECIMAL"
   ]
  },
  {
   "cell_type": "markdown",
   "id": "9e56580d-56bb-4804-98d3-59cd6ce1347d",
   "metadata": {},
   "source": [
    "To convert back the other way you first split the number into 4 bit chunks\n",
    "\n",
    "Convert 100110110101001 to hexadecimal <br>\n",
    "First group the binary digits in sets of four, working from right to left and adding leading 0 ids needed<br>\n",
    "0100 1101 1010 1001\n",
    "\n",
    "- 0100 = 4  = 4\n",
    "- 1101 = 13 = D\n",
    "- 1010 = 10 = A\n",
    "- 1001 = 9 = B\n",
    "- = 4DA9\n",
    "\n",
    "and finally \n",
    "## DECIMAL TO HEXADECIMAL\n",
    "makes use of the previous quotient-remainder theorem, and carry out repeated division by 16"
   ]
  },
  {
   "cell_type": "code",
   "execution_count": null,
   "id": "a183836d-25a3-4b12-8045-2c0b1dca48eb",
   "metadata": {},
   "outputs": [],
   "source": []
  }
 ],
 "metadata": {
  "kernelspec": {
   "display_name": "Python 3 (ipykernel)",
   "language": "python",
   "name": "python3"
  },
  "language_info": {
   "codemirror_mode": {
    "name": "ipython",
    "version": 3
   },
   "file_extension": ".py",
   "mimetype": "text/x-python",
   "name": "python",
   "nbconvert_exporter": "python",
   "pygments_lexer": "ipython3",
   "version": "3.11.7"
  }
 },
 "nbformat": 4,
 "nbformat_minor": 5
}
