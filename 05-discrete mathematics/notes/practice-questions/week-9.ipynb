{
 "cells": [
  {
   "cell_type": "markdown",
   "id": "bba20a5a-751e-4832-86b6-5252c843c633",
   "metadata": {},
   "source": [
    "# Practise Questions"
   ]
  },
  {
   "cell_type": "markdown",
   "id": "fa0f445c-559c-48d4-aee4-85ccaf015323",
   "metadata": {},
   "source": [
    "## Question 1"
   ]
  },
  {
   "cell_type": "markdown",
   "id": "7ecb7d52-43f0-44ce-aef6-f94e7fbdfd35",
   "metadata": {},
   "source": []
  }
 ],
 "metadata": {
  "kernelspec": {
   "display_name": "Python 3 (ipykernel)",
   "language": "python",
   "name": "python3"
  },
  "language_info": {
   "codemirror_mode": {
    "name": "ipython",
    "version": 3
   },
   "file_extension": ".py",
   "mimetype": "text/x-python",
   "name": "python",
   "nbconvert_exporter": "python",
   "pygments_lexer": "ipython3",
   "version": "3.11.7"
  }
 },
 "nbformat": 4,
 "nbformat_minor": 5
}
