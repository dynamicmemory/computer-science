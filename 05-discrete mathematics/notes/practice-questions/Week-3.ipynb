{
 "cells": [
  {
   "cell_type": "markdown",
   "id": "93470c70-e76d-4f32-bb80-4c945748add7",
   "metadata": {},
   "source": [
    "# Practice Questions - Week 3"
   ]
  },
  {
   "cell_type": "markdown",
   "id": "766f4d95-7409-46a9-ba94-f5eef64a8bc4",
   "metadata": {
    "jp-MarkdownHeadingCollapsed": true
   },
   "source": [
    "## 1. Rewrite the following statement formally."
   ]
  },
  {
   "cell_type": "markdown",
   "id": "d96ec497-c8fe-4cbd-8f99-c0124365f0e7",
   "metadata": {},
   "source": [
    "Using variables, and include both quantifiers ∀ and ∃ in your answer:\n",
    "<br>\n",
    "Every rational number can be written as a ratio of two integers <br>\n",
    "\n",
    "p(x) = \"can be written as a ratio of two integers\"\n",
    "∀x ∈ Q, p(x)\n",
    "\n",
    "p(x) = \n",
    "∃x ∈ Q, p(x)\n",
    "\n",
    "I was wrong.... and the answer is something I never would have thought....<br>\n",
    "\n",
    "∀p ∈ Q, ∃m, n ∈ zsuch that p = m/n <br>\n",
    "\n",
    "I am so screwed in this class\n"
   ]
  },
  {
   "cell_type": "markdown",
   "id": "8a77591b-2767-4a9b-8844-16630fa41b64",
   "metadata": {
    "jp-MarkdownHeadingCollapsed": true
   },
   "source": [
    "## 2. Write the negation of the statement:"
   ]
  },
  {
   "cell_type": "markdown",
   "id": "8327d720-586b-4b61-b5ce-6b7d825c1521",
   "metadata": {},
   "source": [
    "All dogs are loyal <br>\n",
    "\n",
    "by defining an appropriate predicate and using quantifiers\n",
    "\n",
    "d = all dogs\n",
    "x = dog\n",
    "y = loyal\n",
    "\n",
    "1. ∃x ∈ d, ~P(x) === ~(∀x ∈ d, p(x))\n",
    "2. ∃x ∈ d, x is not loyal\n",
    "\n"
   ]
  },
  {
   "cell_type": "markdown",
   "id": "7d11f31c-6937-4355-9ddc-d20000fe8d49",
   "metadata": {
    "jp-MarkdownHeadingCollapsed": true
   },
   "source": [
    "## 3. Write the negation of the following statement:"
   ]
  },
  {
   "cell_type": "markdown",
   "id": "a8d95607-fb35-44d0-81c5-00e320d9987c",
   "metadata": {},
   "source": [
    "For all real numbers x, if x < 1 then 1/x > 1\n",
    "\n",
    "∃x ∈ R P(x)^ ~Q(x)"
   ]
  },
  {
   "cell_type": "markdown",
   "id": "4273b95e-8213-4877-9744-c17d30bb5a33",
   "metadata": {
    "jp-MarkdownHeadingCollapsed": true
   },
   "source": [
    "## 4. Write a) the converse, and b) the contrapositive of the statement"
   ]
  },
  {
   "cell_type": "markdown",
   "id": "b4837107-044f-4d76-81ec-afa43f55ff30",
   "metadata": {},
   "source": [
    "For all real numbers x, if -1 < x ≤ 0 then x + 1 > 0\n",
    "\n",
    "a) \n",
    "- For all real number x, if x + 1 > 0 then -1 < x ≤ 0\n",
    "- ∀x ∈ R, Q(x) --> P(x)\n",
    "\n",
    "b) \n",
    "- For all real numbers x, if not x + 1 > 0 then not -1 < x ≤ 0\n",
    "- ∀x ∈ R, ~Q(x) --> ~P(x)"
   ]
  },
  {
   "cell_type": "markdown",
   "id": "59b3c80c-e91e-4785-9649-80098903608a",
   "metadata": {
    "jp-MarkdownHeadingCollapsed": true
   },
   "source": [
    "## 5. Use predicates and quantifiters to write the negation of the statement:"
   ]
  },
  {
   "cell_type": "markdown",
   "id": "8ad180cb-3061-401d-9ad5-60abe9a6c7b5",
   "metadata": {},
   "source": [
    "Having a large income is a neccessary condition for a person to be happy\n",
    "\n",
    "So, the statement written with preds and quants\n",
    "- ∀x ∈ Q, P(x) But im uncomfortable with ths... doesnt seem right, this isnt negated i know.\n",
    "- ∀x ∈ Q, P(x) --> Q(x) p = if someone is happy, q = they have a large income... that doesnt<br> feel right either.\n",
    "<br>\n",
    "Ok lets try for realz\n",
    "- ∃x ∈ D, P(x)^~Q(x)"
   ]
  },
  {
   "cell_type": "markdown",
   "id": "a46cfc1f-6ecf-45d3-9b6b-c2f624034423",
   "metadata": {
    "jp-MarkdownHeadingCollapsed": true
   },
   "source": [
    "## 6. Question to long for title"
   ]
  },
  {
   "cell_type": "markdown",
   "id": "0fc178be-450a-4b40-b447-58a2ce26dac5",
   "metadata": {},
   "source": [
    "Let S be the set of students at UNE, <br>\n",
    "let M be the set of movies that have ever been released, <br> \n",
    "let V (x, y) be x has seen movie y. <br>\n",
    "\n",
    "Rewrite the following statement informally:<br>\n",
    "∃s ∈ S and ∃t ∈ S such that s ≠ t and ∀m ∈ M, V (s, m) → V (t, m). <br>\n",
    "\n",
    "Therre exist a student s at UNE and student t at UNE that are not the same student...lets change this <br>\n",
    "There exists two different students s and t at UNE that if s has seen a movie, then t has also seen that movie <br> \n",
    "\n",
    "Lets try once more.... but with power <br>\n",
    "\n",
    "There exists two students at UNE who have seen every movie ever released."
   ]
  },
  {
   "cell_type": "markdown",
   "id": "2ca1783d-724e-4747-a7b9-366af6813053",
   "metadata": {
    "jp-MarkdownHeadingCollapsed": true
   },
   "source": [
    "## 7. Rewrite the following argument formally GREAT Q TO REVIEW"
   ]
  },
  {
   "cell_type": "markdown",
   "id": "143ec51f-7c10-445f-8a42-344002ef95c3",
   "metadata": {},
   "source": [
    "Using Universal conditional statement, quantifiers and predicates (in argument form)\n",
    "\n",
    "- All cheaters sit in the back row\n",
    "- Monty sits in the back row\n",
    "- ∴ Monty is a cheater.\n",
    "\n",
    "- Let C(x) be \"x is a cheater\"\n",
    "- Let B(x) be \"x sits in the back row\"\n",
    "- ∀x, C(x) --> B(x)\n",
    "- B(x)\n",
    "- ∴ C(x)\n",
    "\n",
    "a) This is an invalid argument as it the converse error of modus ponens, for example\n",
    " - ∀x P(x) -> Q(x)\n",
    " - Q(x)\n",
    " - ∴ P(x)\n",
    "\n",
    "Is the same as our arguement above, and the second arguement is the converse error\n",
    "\n",
    "b) I think it changes to\n",
    "- x is a cheater if and only if x sits in the back row\n",
    "- monty sits in the back row\n",
    "- therefore monty is a cheater.....<br>\n",
    "\n",
    "Wait wait wait... what if <br>\n",
    "- You sit in the back if and only if you are a cheater\n",
    "- monty sits in the back row\n",
    "- therefore monty is a cheater\n",
    "\n",
    "- ∀x, P(x) <-> Q(x)\n",
    "- p(x)\n",
    "- ∴ q(x)\n",
    "\n",
    "which is modus ponens and a valid arguement, therefore the answer does change. <br>\n",
    "\n",
    "Ok I was correct, but not exactly right in the way I should have been <br>\n",
    "\n",
    "The language doesnt change, it stays the same, but the condition does go two ways<br>\n",
    "You use logical equivalence of: <br>\n",
    "\n",
    "= P(m) <-> Q(m) == (P(m) -> Q(m) ^ Q(m) -> P(m)) <br>\n",
    "\n",
    "Therefore we can flib the statement to read \n",
    "- Q(m) -> P(m)\n",
    "- Q(m)\n",
    "- therefore P(m)\n",
    "<br>\n",
    "\n",
    "Which is indeed modus ponens and makes this statement a valid arguement."
   ]
  },
  {
   "cell_type": "code",
   "execution_count": null,
   "id": "919ab446-575a-41d6-bbb4-8e3fcab152e3",
   "metadata": {},
   "outputs": [],
   "source": []
  }
 ],
 "metadata": {
  "kernelspec": {
   "display_name": "Python 3 (ipykernel)",
   "language": "python",
   "name": "python3"
  },
  "language_info": {
   "codemirror_mode": {
    "name": "ipython",
    "version": 3
   },
   "file_extension": ".py",
   "mimetype": "text/x-python",
   "name": "python",
   "nbconvert_exporter": "python",
   "pygments_lexer": "ipython3",
   "version": "3.11.7"
  }
 },
 "nbformat": 4,
 "nbformat_minor": 5
}
