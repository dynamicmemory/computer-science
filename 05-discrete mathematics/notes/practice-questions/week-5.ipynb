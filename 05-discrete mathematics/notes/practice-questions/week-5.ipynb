{
 "cells": [
  {
   "cell_type": "markdown",
   "id": "d4d6db43-16af-432b-8352-d92ebfd87e30",
   "metadata": {},
   "source": [
    "# Week 5 Questions"
   ]
  },
  {
   "cell_type": "markdown",
   "id": "306e8cdf-f394-4f43-b629-bd6ee4dab704",
   "metadata": {},
   "source": [
    "## 1."
   ]
  },
  {
   "cell_type": "markdown",
   "id": "020fba0c-b562-43ea-a5b2-a9d805fcd845",
   "metadata": {},
   "source": [
    "If A = {a,b}, what is the power set of A? <br>\n",
    "\n",
    "Power set = {ø, {a}, {b}, {a,b}}\n",
    "\n",
    "Let A1 = {1,2,3} A2 = {u,v} and A3 = {m,n}. <br>\n",
    "Find A1 x A2 <br>\n",
    "\n",
    "{(1,u), (1,v), (2,u), (2,v), (3,u), (3,v)} <br>\n",
    "\n",
    "Find A1 x A2 x A3 <br>\n",
    "\n",
    "{(1,u,m), (1,u,n), (1,v,m), (1,v,n), (2,u,m), (2,u,n), (2,v,m), (2,v,n), (3,u,m), (3,u,n), (3,v,m), (3,v,n)}"
   ]
  },
  {
   "cell_type": "markdown",
   "id": "7c64df1a-53a9-4d5d-b9b4-3157bb32b779",
   "metadata": {},
   "source": [
    "## 2."
   ]
  },
  {
   "cell_type": "markdown",
   "id": "99487606-dcf7-4099-932e-ac318917c516",
   "metadata": {},
   "source": [
    "Find 18^29 mod 65 <br>\n",
    "- 29 = 16 + 8 + 4 + 1\n",
    "- 18^1 mod 65 = 18\n",
    "- 18^2 mod 65 = 324 mod 65 = 64\n",
    "- 18^4 mod 65 = 64^2 mod 65 = 1\n",
    "- 18^8 mod 65 = 1^2 mod 65 = 1\n",
    "- 18^16 mod 65 = 1^2 mod 65 = 1\n",
    "- 1 * 1 * 1 * 18 = 18\n",
    "- 18^29 mod 65 = 18"
   ]
  },
  {
   "cell_type": "markdown",
   "id": "89c2d94c-62cb-41ab-94b3-6420ced70aab",
   "metadata": {},
   "source": [
    "## 3."
   ]
  },
  {
   "cell_type": "markdown",
   "id": "9a79597a-d76f-46e1-b5a4-b8d896774fc2",
   "metadata": {},
   "source": [
    "Euclidean Algo to find gcd(4158,1568) & express it as a linear combo! <br>\n",
    "\n",
    "- 4158 = 1568 * 2 + 1022  gcd(1568, 1022)\n",
    "- 1568 = 1022 * 1 + 546   gcd(1022, 546)\n",
    "- 1022 = 546  * 1 + 476   gcd(546, 476)\n",
    "- 546 = 476 * 1 + 70      gcd(476, 70)\n",
    "- 476 = 70 * 6 + 56       gcd(70, 56)\n",
    "- 70 = 56 * 1 + 14        gcd(56, 14)\n",
    "- 56 = 14 * 4 + 0         gcd(14, 0)\n",
    "<br>\n",
    "- 14 = 70 - 56 * 1\n",
    "- = 70 - (476 - 70 * 6)\n",
    "- = 70 * 7 - 476\n",
    "- = (546 - 476 * 1) * 7 - 476\n",
    "- = 546 * 7 - 476 * 8\n",
    "- = 546 * 7 - (1022 - 546 * 1) * 8\n",
    "- = 546 * 15 - 1022 * 8\n",
    "- = (1568 - 1022 * 1) * 15 - 1022 * 8\n",
    "- = 1568 * 15 - 1022 * 23\n",
    "- = 1568 * 15 - (4158 - 1568 * 2) * 23\n",
    "- = 1568 * 61 - 4158 * 23\n"
   ]
  },
  {
   "cell_type": "markdown",
   "id": "097fc7fb-7151-41a3-a21e-448bfd76991d",
   "metadata": {},
   "source": [
    "## 4."
   ]
  },
  {
   "cell_type": "markdown",
   "id": "1357739d-a72b-4087-a30b-a7cbcd35647c",
   "metadata": {},
   "source": [
    "Find the inverse for 41 modulo 660<br>\n",
    "\n",
    "- 660 = 41 * 16 + 4 gcd(41, 4)\n",
    "- 41 = 4 * 10 + 1 gcd(4, 1)\n",
    "- 4 = 1 * 4 + 0 gcd(1, 0)\n",
    "<br>\n",
    "\n",
    "- 1 = 41 - 4 * 10\n",
    "- = 41 - (660 - 41 * 16) * 10\n",
    "- = 41 * 161 - 660\n",
    "\n",
    "<br>\n",
    "\n",
    "- 41 modulo 660\n",
    "- 41s == 1 (mod 660)\n",
    "- 41 * 161 == 1 (mod 660)\n",
    "- 161"
   ]
  },
  {
   "cell_type": "markdown",
   "id": "9390491e-10a4-4501-98d8-ab163175b08a",
   "metadata": {},
   "source": [
    "M = C^d mod pq\n",
    "- p = 23\n",
    "- q = 31\n",
    "- e = 43\n",
    "- C = 28 <br>\n",
    "\n",
    "- d = gcd( (p-1)(q-1) , e)\n",
    "- = 43, 22*30 = 660\n",
    "- 660, 43\n",
    "- 660 = 43 * 15 + 15\n",
    "- 43 = 15 * 2 + 13\n",
    "- 15 = 13 * 1 + 2\n",
    "- 13 = 2 * 6 + 1\n",
    "- 2 = 1 * 2 + 0\n",
    "- <br> reverse that bitch\n",
    "- 1 = 13 - 2 * 6\n",
    "- 13 - (15 - 13 * 1) * 6\n",
    "- 13 * 7 - 15 * 6\n",
    "- (43 - 15 * 2) * 7 - 15 * 6\n",
    "- 43 * 7 - 15 * 20\n",
    "- 43 * 7 - (660 - 43 * 15) * 20\n",
    "- 43 * 307 - 660 * 20\n",
    "- 43 * 307 == 20 mod 660\n",
    "\n",
    "<br> No we decrypto <br>\n",
    "- M = 28^307 mod 713\n",
    "- 307 = 256 + 32 + 16 + 2 + 1\n",
    "- 28 mod 713 = 28\n",
    "- 28^2 mod 713 = 71\n",
    "- 28^4 mod 713 = 50\n",
    "- 28^8 mod 713 = 361\n",
    "- 28^16 mod 713 = 555\n",
    "- 28^32 mod 713 = 9\n",
    "- 28^64 mod 713 = 81\n",
    "- 28^128 mod 713 = 144\n",
    "- 28^256 mod 713 = 59\n",
    "- 59 * 9 * 555 * 71 * 28\n",
    "- 585873540 mod 713 = 14"
   ]
  },
  {
   "cell_type": "code",
   "execution_count": null,
   "id": "39a63853-4190-435c-8781-1fcbfe05e70d",
   "metadata": {},
   "outputs": [],
   "source": []
  }
 ],
 "metadata": {
  "kernelspec": {
   "display_name": "Python 3 (ipykernel)",
   "language": "python",
   "name": "python3"
  },
  "language_info": {
   "codemirror_mode": {
    "name": "ipython",
    "version": 3
   },
   "file_extension": ".py",
   "mimetype": "text/x-python",
   "name": "python",
   "nbconvert_exporter": "python",
   "pygments_lexer": "ipython3",
   "version": "3.11.7"
  }
 },
 "nbformat": 4,
 "nbformat_minor": 5
}
