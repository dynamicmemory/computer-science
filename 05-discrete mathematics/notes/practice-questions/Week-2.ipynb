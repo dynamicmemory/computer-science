{
 "cells": [
  {
   "cell_type": "markdown",
   "id": "b1e02e72-1006-4497-b9d3-69befb655532",
   "metadata": {},
   "source": [
    "# Practice Questions - Week 2"
   ]
  },
  {
   "cell_type": "markdown",
   "id": "3bdfa41d-7182-4ab1-a82b-9785e0fe32ac",
   "metadata": {
    "jp-MarkdownHeadingCollapsed": true
   },
   "source": [
    "## 1. Use a truth table to determine whether the following argument form is valid or invalid:"
   ]
  },
  {
   "cell_type": "markdown",
   "id": "d32fbcf6-243e-4b78-b952-6fa5b9ffcb7f",
   "metadata": {},
   "source": [
    "\n",
    "\n",
    "- p -> ~q\n",
    "- q -> ~p\n",
    "- .'. p V q\n",
    "\n",
    "- If im white, then im not black\n",
    "- If im black, then im not white\n",
    "- Therefore im white or black\n",
    "\n",
    "This is a valid argument accroding to my skin colour.\n",
    "\n",
    "|p|q|p->~q|q->~p|pVq|\n",
    "|:-:|:-:|:-:|:-:|:-:|\n",
    "|T|T|F|F|T|\n",
    "|T|F|T|F|T|\n",
    "|F|T|F|T|T|\n",
    "|F|F|T|T|F|\n",
    "\n",
    "This is an invalid arguement according to the truth table, Ill revist this question at the end to rethink"
   ]
  },
  {
   "cell_type": "markdown",
   "id": "475233f0-9d40-4853-b542-67a647e71d9b",
   "metadata": {
    "jp-MarkdownHeadingCollapsed": true
   },
   "source": [
    "## 2. Write the form of each following argument. Is each argument valid or invalid? Why?"
   ]
  },
  {
   "cell_type": "markdown",
   "id": "cdb5bae1-5889-4cce-b28c-e8cf4b8c11fa",
   "metadata": {
    "editable": true,
    "slideshow": {
     "slide_type": ""
    },
    "tags": []
   },
   "source": [
    "a) \n",
    "- If ann has the flu, then Ann has a fever\n",
    "- Ann has a fever\n",
    "- Therefor, Ann has the flu\n",
    "\n",
    "|P Q|P -> Q|Q|P|\n",
    "|:-:|:-:|:-:|:-:|\n",
    "|T T|T|T|T|\n",
    "|T F|F|F|T|\n",
    "|F T|T|T|F|\n",
    "|F F|T|F|F|\n",
    "\n",
    "According to the truth table this is an invalid argument due to only one of the two critial rows equalling True, since one of the critical rows equals to false, this argument is invalid and is known as the converse error.\n",
    "\n",
    "b) \n",
    "- if 54,587 is a prime number, then 17 is not a divisor of 54,587\n",
    "- 17 is a divisor of 54,587\n",
    "- Therefore, 54,587 is not a prime number\n",
    "\n",
    "this is modus tollens, therefore the argument is valid, if p then q, not q so not p.\n",
    "\n",
    "|P Q|P -> Q|~Q| ~P|\n",
    "|:-:|:-:|:-:|:-:|\n",
    "|T T|T|F|F|\n",
    "|T F|F|T|F|\n",
    "|F T|T|F|T|\n",
    "|F F|T|T|T|"
   ]
  },
  {
   "cell_type": "markdown",
   "id": "3dbc8d91-d648-4d77-81ef-95cfe5f063a9",
   "metadata": {
    "jp-MarkdownHeadingCollapsed": true
   },
   "source": [
    "## 3. Who killed Sharky, Only one of the following statements is true:"
   ]
  },
  {
   "cell_type": "markdown",
   "id": "0ff04d0a-2659-483a-876e-50e11376ab27",
   "metadata": {},
   "source": [
    "- Socko: Lefty killed Sharky\n",
    "- Fats: Muscles didn't kill Sharky\n",
    "- Lefty: Muscles was shooting craps with Socko when Sharky was knocked off\n",
    "- Muscles: Lefty didn't kill Sharky\n",
    "\n",
    "|S F L M|\n",
    "|:-:|\n",
    "|T F F F|\n",
    "|F T F F|\n",
    "|F F T F|\n",
    "|F F F T|\n",
    "\n",
    "Muscles killed shary but I can't tell you why, just that the not statements only work if his statement is correct"
   ]
  },
  {
   "cell_type": "markdown",
   "id": "07e58442-d253-4812-94ed-923b36adffc4",
   "metadata": {
    "jp-MarkdownHeadingCollapsed": true
   },
   "source": [
    "## 4. Consider the following binary and decimal number base conversions"
   ]
  },
  {
   "cell_type": "markdown",
   "id": "f94e45fd-3a3f-456b-aa54-b144b0371d03",
   "metadata": {},
   "source": [
    "a) Write 110101 in decimal notation:\n",
    "- 32 + 16 + 4 + 1 = 53\n",
    "\n",
    "b) Write 75 in binary notation:\n",
    "- 75 = 2 x 37 + 1\n",
    "- 37 = 2 x 18 + 1\n",
    "- 18 = 2 x 9 + 0\n",
    "- 9 = 2 x 4 + 1\n",
    "- 4 = 2 x 2 + 0\n",
    "- 2 = 2 x 1 + 0\n",
    "- 1 = 2 x 0 + 1\n",
    "- 1001011\n",
    "\n",
    "c) Write 42 in binary notation:\n",
    "- 42 = 2 x 21 + 0\n",
    "- 21 = 2 x 10 + 1\n",
    "- 10 = 2 x 5 + 0\n",
    "- 5 = 2 x 2 + 1\n",
    "- 2 = 2 x 1 + 0\n",
    "- 1 = 2 x 0 + 1\n",
    "- 101010"
   ]
  },
  {
   "cell_type": "markdown",
   "id": "46dfe1b4-b202-42d2-8ae7-5b94cc3e086f",
   "metadata": {
    "jp-MarkdownHeadingCollapsed": true
   },
   "source": [
    "## 5. Consider the following hexadecimal and decimal number base conversions:"
   ]
  },
  {
   "cell_type": "markdown",
   "id": "69a23735-8fef-474b-a28d-625ad57c0623",
   "metadata": {},
   "source": [
    "a) Write 256 in hexadecimal notation:\n",
    "- 256 /16 = 16 + 0\n",
    "- 16 / 16 = 1 + 0\n",
    "- 1  / 16 = 1\n",
    "- 100\n",
    "\n",
    "b) Write 123 in hexadecimal notation:\n",
    "- 123 = 7 + B\n",
    "- 7 = 7\n",
    "- 7B\n",
    "- Lets check this answer\n",
    "- 7 x 16^1 = 112\n",
    "- B = 11 * 16^0 = 11\n",
    "- 112 + 11 = 123\n",
    "\n",
    "c) Write 4AE in decimal notation:\n",
    "- 4 x 16^2 = 1024\n",
    "- 10 x 16^1 = 160\n",
    "- 14 x 16^0 = 14\n",
    "- 1024 + 160 + 14 = 1198"
   ]
  },
  {
   "cell_type": "code",
   "execution_count": null,
   "id": "983de995-bee7-4069-98c6-4a93dd75ab19",
   "metadata": {},
   "outputs": [],
   "source": []
  }
 ],
 "metadata": {
  "kernelspec": {
   "display_name": "Python 3 (ipykernel)",
   "language": "python",
   "name": "python3"
  },
  "language_info": {
   "codemirror_mode": {
    "name": "ipython",
    "version": 3
   },
   "file_extension": ".py",
   "mimetype": "text/x-python",
   "name": "python",
   "nbconvert_exporter": "python",
   "pygments_lexer": "ipython3",
   "version": "3.11.7"
  }
 },
 "nbformat": 4,
 "nbformat_minor": 5
}
