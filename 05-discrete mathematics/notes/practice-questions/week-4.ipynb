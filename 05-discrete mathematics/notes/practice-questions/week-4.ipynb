{
 "cells": [
  {
   "cell_type": "markdown",
   "id": "d7001d0b-66b3-45f8-b937-4bac07305ba6",
   "metadata": {},
   "source": [
    "# Practice Questions week 4\n"
   ]
  },
  {
   "cell_type": "markdown",
   "id": "921f27db-8fec-4c2c-9d4a-fc3d959c8119",
   "metadata": {
    "jp-MarkdownHeadingCollapsed": true
   },
   "source": [
    "## 1. Disprove the statemente"
   ]
  },
  {
   "cell_type": "markdown",
   "id": "faca7bf3-e77f-46a3-9e65-c9dbdcbe04e4",
   "metadata": {},
   "source": [
    "For all real numbers x, if x < 1 then 1/x > 1 by finding a counterexample <br>\n",
    "\n",
    "The question written formally:\n",
    "∀x ∈ R, x < 1 → 1/x > 1<br>\n",
    "\n",
    "Now we replace x with our counter example: -1<br>\n",
    "\n",
    "-1 < 1 Which is True, then, 1/-1 > 1 which is false.\n"
   ]
  },
  {
   "cell_type": "markdown",
   "id": "69276780-c9e9-4b2d-bade-57e28076c6a5",
   "metadata": {
    "jp-MarkdownHeadingCollapsed": true
   },
   "source": [
    "## 2. Method of Exhaustion\r"
   ]
  },
  {
   "cell_type": "markdown",
   "id": "8f463873-137c-437a-ad62-26bc8ba0d7ad",
   "metadata": {},
   "source": [
    "Use the method of exhaustion to prove the following statement:<br>\n",
    "for each integer n with 1 ≤ n ≤ 10, n^2 − n + 11 is a prime number. <br>\n",
    "\n",
    "Our possible inputs are 1,2,3,4,5,6,7,8,9,10 <br>\n",
    "\n",
    "1^2 = 1, 1-1 = 0, 0 + 11 = 11, 11 IS prime <br>\n",
    "2^2 = 4, 4-2 = 2, 2 + 11 = 13, 13 IS prime <br>\n",
    "3^2 = 9, 9-3 = 6, 6 + 11 = 17, 17 IS prime <br>\n",
    "4^2 = 16, 16-4 = 12, 12 + 11 = 23, 23 IS prime <br>\n",
    "5^2 = 25, 25-5 = 20, 20 + 11 = 31, 31 IS prime <br>\n",
    "6^2 = 36, 36-6 = 30, 30 + 11 = 41, 41 IS prime <br>\n",
    "7^2 = 49, 49-7 = 42, 42 + 11 = 53, 53 IS prime <br>\n",
    "8^2 = 64, 64-8 = 56, 56 + 11 = 67, 67 IS prime <br>\n",
    "9^2 = 81, 81-9 = 72, 72 + 11 = 83, 83 IS Prime <br>\n",
    "10^2 = 100, 100-10 = 90, 90 + 11 = 101, 101 IS Prime <br>\n",
    "\n",
    "Therefore the statement is true on the closed set of numbers from 1-10."
   ]
  },
  {
   "cell_type": "markdown",
   "id": "717865be-de20-4f0d-ac2b-d27f6cef9f09",
   "metadata": {
    "jp-MarkdownHeadingCollapsed": true
   },
   "source": [
    "## 3. Method of Generalizing"
   ]
  },
  {
   "cell_type": "markdown",
   "id": "bb47b6f5-31c8-4a1e-a45c-35986bd7f4c1",
   "metadata": {},
   "source": [
    "Use the method of generalizing from the generic particular in a direct proof to prove the\r\n",
    "following universal statement <br>\n",
    ":\r\n",
    "For all integers a, b, and c, if a|b and a|c, then a|(5b + 3c\n",
    "\n",
    "a = 5, b = 50, c = 70, then <br>\n",
    "50/5 = 10, 70/5 = 14, then 5*50 + 3*70 = 250 + 210 = 460/5 = 92. )."
   ]
  },
  {
   "cell_type": "markdown",
   "id": "60f2dd95-e694-42cb-a8aa-74c7a298190b",
   "metadata": {
    "jp-MarkdownHeadingCollapsed": true
   },
   "source": [
    "## 4. Write the rational Number"
   ]
  },
  {
   "cell_type": "markdown",
   "id": "886dd1da-7b7f-4d90-b1cc-45b0d9b3c0f0",
   "metadata": {},
   "source": [
    "52.467216721... as a ratio of two integers\n",
    "\n",
    "- first we do 52.467216721 * 100,000 = 5,246,721.6721\n",
    "- then we do 52.467216721 * 10 = 524.67216721\n",
    "- then we subtract the second number from the first number\n",
    "- 5,246,721.6721 - 524.67216721 = 5,246,197\n",
    "- then we make original number = x and subtract our multipled terms\n",
    "- 100,000x - 10x = 99,990x\n",
    "- therefore\n",
    "- 5,246,197/99,990\n",
    "- are our two integers"
   ]
  },
  {
   "cell_type": "markdown",
   "id": "21b4199b-8931-488f-9d07-02f9c26d9cf3",
   "metadata": {
    "jp-MarkdownHeadingCollapsed": true
   },
   "source": [
    "## 5. Use the method of contradiction (Indirect proof)"
   ]
  },
  {
   "cell_type": "markdown",
   "id": "0b9d567b-d690-4b96-8c9a-d95901048914",
   "metadata": {},
   "source": [
    "to prove the following statement: <br>\n",
    "\n",
    "For all real numbers r and s, if r is rational and s is irrational, then r + 2s is irrational. <br>\n",
    "\n",
    "Suppose that there is a rational number r and an irrational s such that r + 2s is raiontal <br>\n",
    "We know that the quotient of two integers is a rational number <br>\n",
    "So r = a/b and lets say 2s = k as the product of two integers is two integers, such that r + k = r + 2s = c/b <br>\n",
    "now we can substitute r into r + k = c/d to equal a/b + c/d <br>\n",
    "therefore ad + bc / bd, well ad is an integer as the product of two ints is an int, this is the same for bc and bd <br>\n",
    "and ad + bc is an int as we established the products are ints and the sum of two ints is an int <br>\n",
    "Therefore k = 2s = the quotient of two ints which by definition means 2s is a rational number <br>\n",
    "So 2s is an irrational number and a rational number, which is a contractidion of the supposition <br>\n",
    "that 2s is irrational, hence the supposition is false and 2s isnt a rational number, proving it is irrational"
   ]
  },
  {
   "cell_type": "markdown",
   "id": "e9035a11-d503-416f-ad85-f4ecdb24df70",
   "metadata": {
    "jp-MarkdownHeadingCollapsed": true
   },
   "source": [
    "## 6. Use the Euclidean algorithm"
   ]
  },
  {
   "cell_type": "markdown",
   "id": "dd8fa1c3-0571-4ef9-8cf4-cdc2780ed31a",
   "metadata": {},
   "source": [
    "to find the greatest common divisor of 284 and 168 <br>\n",
    "\n",
    "a = 284 <br>\n",
    "b = 168 <br>\n",
    "\n",
    "quotient remainder theorum <br>\n",
    "- 284 = 168 * 1 + 116 = gcd(168, 116)\n",
    "- 168 = 116 * 1 + 52 = gcd(116, 52)\n",
    "- 116 = 52 * 2 + 12 = gcd(52, 12)\n",
    "- 52 = 12 * 4 + 4 = gcd(12, 4)\n",
    "- 12 = 4 * 3 + 0 = gcd(4, 0)\n",
    "- Therefore 4 is the gcd"
   ]
  },
  {
   "cell_type": "markdown",
   "id": "05e5f407-5930-470b-b07d-4ad140f91f1a",
   "metadata": {
    "jp-MarkdownHeadingCollapsed": true
   },
   "source": [
    "## 7. Find 28 div 5 and 28 mod 5."
   ]
  },
  {
   "cell_type": "markdown",
   "id": "462738c2-c622-4264-8b69-8e7e27b407d9",
   "metadata": {},
   "source": [
    "- 28 / 5 = 5 + 3\n",
    "- div = 5\n",
    "- mod = 3"
   ]
  },
  {
   "cell_type": "code",
   "execution_count": null,
   "id": "4d96391a-7910-477d-87ff-c4df2b84f1bd",
   "metadata": {},
   "outputs": [],
   "source": []
  }
 ],
 "metadata": {
  "kernelspec": {
   "display_name": "Python 3 (ipykernel)",
   "language": "python",
   "name": "python3"
  },
  "language_info": {
   "codemirror_mode": {
    "name": "ipython",
    "version": 3
   },
   "file_extension": ".py",
   "mimetype": "text/x-python",
   "name": "python",
   "nbconvert_exporter": "python",
   "pygments_lexer": "ipython3",
   "version": "3.11.7"
  }
 },
 "nbformat": 4,
 "nbformat_minor": 5
}
