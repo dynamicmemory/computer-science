{
 "cells": [
  {
   "cell_type": "markdown",
   "id": "0557fb8e-a460-445f-a96a-187fa611c483",
   "metadata": {},
   "source": [
    "# Methods of Proof & Number Theory"
   ]
  },
  {
   "cell_type": "markdown",
   "id": "f94ef234-7664-4a24-b189-d94a32aa977f",
   "metadata": {
    "jp-MarkdownHeadingCollapsed": true
   },
   "source": [
    "## Exhustive Explanation of proofs"
   ]
  },
  {
   "cell_type": "markdown",
   "id": "9a403ebe-be7c-4f1c-a5d5-669d1a5599f0",
   "metadata": {
    "jp-MarkdownHeadingCollapsed": true
   },
   "source": [
    "### The how to proof guide"
   ]
  },
  {
   "cell_type": "markdown",
   "id": "d78b5b80-95cf-41c1-84f1-eb646ff874dd",
   "metadata": {},
   "source": [
    "Proving existential statements turns out to be the same as disproving universal statements. <br>\n",
    "\n",
    "for proving, it's called a direct proof, and for disproving, it's called finding a counterexample. <br>\n",
    "\n",
    "We know that a statement such as <br>\n",
    "∃x ∈ D, P(x), <br>\n",
    "is true if, and only if, P(x) is true for at least one. <br>\n",
    "\n",
    "One way to prove this is to find an x in D that makes P(x) true. Another way is to give a set of <br>\n",
    "directions for finding such an x, Both of these methods are called constructuve proofs."
   ]
  },
  {
   "cell_type": "markdown",
   "id": "14e408a8-379a-45d7-b546-6455fac555a2",
   "metadata": {},
   "source": [
    "To disprove a statement means to show it is false. Consider disproving the statement <br>\n",
    "\n",
    "∀x ∈ D, P(x). <br>\n",
    "\n",
    "Showing that this statement is false is equivalent to showing that its negation is true. <br>\n",
    "We know its negation is the existential statement: <br>\n",
    "\n",
    "∃x ∈ D, ∼ P(x).<br>\n",
    "\n",
    "So to disprove the original universal statement we need to prove this negated statement, <br>\n",
    "which is existential. To do this, we find an x in D that makes ∼ P(x) true. <br>\n",
    "\n",
    "Because we are using this example to disprove the original statement, we call it a counterexample. <br>"
   ]
  },
  {
   "cell_type": "markdown",
   "id": "69d567d1-0886-4a96-b5f1-50174a6c6409",
   "metadata": {
    "jp-MarkdownHeadingCollapsed": true
   },
   "source": [
    "### Disproving by counter example"
   ]
  },
  {
   "cell_type": "markdown",
   "id": "ec154876-6b35-4e16-9960-e71c2efd6da7",
   "metadata": {},
   "source": [
    "A disproof by counterexample can also be done for a universal conditional statement: <br>\n",
    "\n",
    "∀x ∈ D, P(x) → Q(x).<br>\n",
    "\n",
    "The negation gives, <br>\n",
    "\n",
    "∃x ∈ D, P(x)∧ ∼ Q(x). <br>\n",
    "\n",
    "So the counterexample must make P(x) true, and Q(x) false.\n",
    "\n",
    "#### Example\n",
    "\n",
    "Disprove the following statement by finding a counterexample <br>\n",
    "\n",
    "∀a, b ∈ Z, a^2 = b^2 → a = b.  <br>\n",
    "\n",
    "So we need to find two integers such that a^2 = b^2 and a ≠ b. <br>\n",
    "\n",
    "Negative numbers have positive squares, so we could just choose a = −1 and b = 1 for <br>\n",
    "our counterexample. <br>\n",
    "\n",
    "Then, (−1)2 = 12, and −1 6= 1."
   ]
  },
  {
   "cell_type": "markdown",
   "id": "cdf6bf39-3d03-4859-bf88-b3a2e8c216ca",
   "metadata": {
    "jp-MarkdownHeadingCollapsed": true
   },
   "source": [
    "### Proving \"for all\" and disproving \"there exists\""
   ]
  },
  {
   "cell_type": "markdown",
   "id": "03e133c6-4cae-430a-b1e1-281bed75cf04",
   "metadata": {},
   "source": [
    "Most statements to be proved are universal statements, such as <br>\n",
    "\n",
    "∀x ∈ D, P(x), <br>\n",
    "\n",
    "or <br>\n",
    "\n",
    "∀x ∈ D, P(x) → Q(x). <br>\n",
    "\n",
    "Disproving an existential statement also takes this form, Consider <br>\n",
    "disproving the statement: <br>\n",
    "\n",
    "∃x ∈ D, P(x). <br>\n",
    "\n",
    "Its negation is given by <br>\n",
    "\n",
    "∀x ∈ D, ∼ P(x). <br>\n",
    "\n",
    "So disproving an existential statement requires proving a universal <br>\n",
    "statement.\n",
    "<br>\n",
    "When the domain D is finite, or when only a finite number of elements make P(x) true, <br>\n",
    "then the method of exhaustion can be used to prove a universal statement. We have  <br>\n",
    "seen examples of using this technique previously <br>\n",
    "\n",
    "The most powerful method for proving universal statements is one that works regardless <br>\n",
    "of the size of the domain over which the statement is quantified. <br>"
   ]
  },
  {
   "cell_type": "markdown",
   "id": "a2ebc31b-9885-4016-96a3-2cfb06b88e46",
   "metadata": {
    "jp-MarkdownHeadingCollapsed": true
   },
   "source": [
    "### Method of direct Proof"
   ]
  },
  {
   "cell_type": "markdown",
   "id": "6d4b712b-15a6-4289-9b4a-09fa9c9814df",
   "metadata": {},
   "source": [
    "1. Write the statement to be proved in the form of a universal conditional statement: <br>\n",
    "\n",
    "∀x ∈ D, P(x) → Q(x).<br>\n",
    "\n",
    "2. Apply the method of generalizing from the generic particular: suppose x is a particular <br>\n",
    "but arbitrarily chosen element of D for which P(x) is true. <br>\n",
    "\n",
    "3. Show that Q(x) is true using definitions, previously established results, and the <br>\n",
    "rules for logical inference."
   ]
  },
  {
   "cell_type": "markdown",
   "id": "d77c8db2-95a9-4fb0-b8c7-61c224788dbe",
   "metadata": {
    "jp-MarkdownHeadingCollapsed": true
   },
   "source": [
    "### Elementary number theory proofs"
   ]
  },
  {
   "cell_type": "markdown",
   "id": "786ffa00-9c0a-4476-af51-ba44638ace54",
   "metadata": {},
   "source": [
    "We now turn to some examples of direct proof found in elementary number theory.<br>\n",
    "\n",
    "The number theory we will cover includes: even and odd numbers, prime and composite <br> \n",
    "numbers, rational numbers, and divisibility.<br>\n",
    "\n",
    "Later, we will look at methods of indirect proof, as well as an algorithm for <br>\n",
    "finding greatest common divisors."
   ]
  },
  {
   "cell_type": "markdown",
   "id": "8ec00c21-2d36-4ab3-bddc-a293d8caf718",
   "metadata": {
    "jp-MarkdownHeadingCollapsed": true
   },
   "source": [
    "## Even and Odd"
   ]
  },
  {
   "cell_type": "markdown",
   "id": "827de001-9c0c-432d-a422-0a0aff9b44cd",
   "metadata": {},
   "source": [
    "A number n is even if and only if n equals twice some integer. <br>\n",
    "An integer is odd if and only if, n equals twice some integer plus one. <br>\n",
    "\n",
    "n is even ↔ ∃k ∈ Z, n = 2k.<br>\n",
    "n is odd ↔ ∃k ∈ Z, n = 2k + 1."
   ]
  },
  {
   "cell_type": "markdown",
   "id": "26550024-63f3-4da2-9794-a1a5b071fe92",
   "metadata": {},
   "source": [
    "### Examples\n",
    "\n",
    "a) Is 0 even?<br>\n",
    "\n",
    "Yes, 0 = 2 × 0 and 0 is an integer. <br>\n",
    "\n",
    "b) If a and b are integers, is 6a^2b even?<br>\n",
    "\n",
    "Yes, 6a^2b = 2(3a^2b), and since a and b are integers, so is 3a^2b\n",
    "\n",
    "c) Is -301 odd? <br>\n",
    "\n",
    "Yes, −301 = 2(−151) + 1, and −151 is an integer. <br>\n",
    "\n",
    "d) Is 10a + 8b + 1 odd? <br>\n",
    "\n",
    "Yes, 10a + 8b + 1 = 2(5a + 4b) + 1, where 5a + 4b is an integer. <br>\n",
    "\n",
    "e) Is every integer either even or odd? <br>\n",
    "\n",
    "Yes. We will prove this later."
   ]
  },
  {
   "cell_type": "markdown",
   "id": "3ef207a3-bcf0-4f91-b2bc-47b50a5c2586",
   "metadata": {},
   "source": [
    "### Even proof\n",
    "\n",
    "Informal statement:<br>\n",
    "The sum of any two even integers is even. <br>\n",
    "\n",
    "Formal statement: <br>\n",
    "\n",
    "∀m, n ∈ Z, m and n even → m + n even. <br>\n",
    "\n",
    "The domain of this universal statement is infinite (and is given by the set of integers). <br>\n",
    "\n",
    "This means a direct proof requires use of the method of generalizing from the generic particular.\n",
    "\n",
    "\n",
    "Proof:\n",
    "\n",
    "Suppose m and n are (particular but arbitrarily chosen) even integers. Then m = 2r and n = 2s  <br>\n",
    "for some integers r and s. So <br>\n",
    "\n",
    "- m + n = 2r + 2s,\n",
    "- = 2(r+s)\n",
    "- = 2t,\n",
    "\n",
    "Where t = (r+s) is an integer, therefore m+n is an even integer <br>\n",
    "\n",
    "fin<br>"
   ]
  },
  {
   "cell_type": "markdown",
   "id": "9c95e94a-e0d4-4bd1-8875-0439c40d874e",
   "metadata": {
    "jp-MarkdownHeadingCollapsed": true
   },
   "source": [
    "## Prime and composite numbers"
   ]
  },
  {
   "cell_type": "markdown",
   "id": "e6f828b9-9b23-440d-8351-8717c03408a5",
   "metadata": {},
   "source": [
    "n > 1\n",
    "\n",
    "n is prime ↔ n > 1, ∀r, s ∈ Z+, <br>\n",
    "\n",
    "n = rs → (r = 1, s = n or r = n, s = 1).<br>\n",
    "\n",
    "In other words, a prime number is a positive integer that cannot be written as a product  <br>\n",
    "of two smaller integers. Their only factors are 1 and the number itself. <br>\n",
    "\n",
    "n is composite ↔ n > 1, ∃r, s ∈ Z+,<br>\n",
    "\n",
    "n = rs and 1 < r < n and 1 < s < n.<br>\n",
    "\n",
    "Composite numbers are all the other positive integers. <br>\n",
    "\n",
    "#### Example\n",
    "\n",
    "a) Is 1 prime? <br>\n",
    "\n",
    "No. A prime number must be greater than 1. <br>\n",
    "\n",
    "b) Write the first six prime numbers. <br>\n",
    "\n",
    "2, 3, 5, 7, 11, 13. <br>\n",
    "\n",
    "c) Write the first six composite numbers.<br>\n",
    "\n",
    "4, 6, 8, 9, 10, 12. <br>\n",
    "\n",
    "d) Is every integer greater than 1 either prime or composite? <br>\n",
    "Yes. Consider all pairs of positive integers r and s such that n = rs. <br>\n",
    "There exist at least two such pairs: r = n and s = 1, or r = 1 and s = n. <br>\n",
    "Also, all pairs must satisfy 1 ≤ r ≤ n and 1 ≤ s ≤ n, since n = rs. <br>\n",
    "So either 1 < r < n and 1 < s < n, or one must be n and the other must be 1.<br>\n",
    "In the first case, n is composite; and in the second, n is prime."
   ]
  },
  {
   "cell_type": "markdown",
   "id": "1bf850a7-8559-44a2-9c22-dd1489139430",
   "metadata": {},
   "source": [
    "#### Example - Disproving an existential statement"
   ]
  },
  {
   "cell_type": "markdown",
   "id": "ef6e7e59-ea3d-46d9-a224-c24af44f30d2",
   "metadata": {},
   "source": [
    "Disprove the following statement. <br>\n",
    "\n",
    "∃n ∈ Z+, n^2 + 3n + 2 is prime.<br>\n",
    "\n",
    "This is equivalent to proving the negation:<br>\n",
    "\n",
    "∀n ∈ Z+, n2 + 3n + 2 is not prime.<br>\n",
    "\n",
    "As this is a universal statement, and must be proved using the <br>\n",
    "method of generalizing from the generic particular.<br>\n",
    "\n",
    "Proof <br>\n",
    "\n",
    "Suppose n is any (particular but arbitrarily chosen) positive integer. It is possible to write <br>\n",
    "\n",
    "n^2 + 3n + 2 = (n + 1)(n + 2), <br>\n",
    "\n",
    "and both n + 1 and n + 2 are integers. Therefore, n^2 + 3n + 2 is a product of two integers, <br>\n",
    "each greater than 1, and so n^2 + 3n + 2 is not prime.<br>\n",
    "\n",
    "End of proof"
   ]
  },
  {
   "cell_type": "markdown",
   "id": "27198a27-30c3-493b-8b84-969f33421a18",
   "metadata": {
    "jp-MarkdownHeadingCollapsed": true
   },
   "source": [
    "## Divisibility"
   ]
  },
  {
   "cell_type": "markdown",
   "id": "81552d1c-60fd-4c84-b56a-300ceeaed8a1",
   "metadata": {},
   "source": [
    "The notation d|n reads d divides n. If n and d are integers, and d≠=, then <br>\n",
    "\n",
    "d|n <-> ∃k ∈ Z, n = dk <br>\n",
    "\n",
    "A more familiar way of writing this is n/d = k, <br>\n",
    "\n",
    "Where n is the integer we are diciding. d is the divisor, and k is the <br>\n",
    "integer result we get if d \"divides\" n. <br>\n",
    "\n",
    "#### Example\n",
    "\n",
    "a) Is 21 divisible by 3? <br>\n",
    "\n",
    "Yes. 21 = 3 × 7, and 7 is an integer. <br>\n",
    "\n",
    "b) Does 7 | 42? <br>\n",
    "\n",
    "Yes. 42 = 7 × 6, and 6 is an integer. <br>\n",
    "\n",
    "c) Is 32 a multiple of −16? <br>\n",
    "\n",
    "Yes. 32 = (−16) × (−2), and −2 is an integer. <br>\n",
    "\n",
    "d) Is 6 a factor of 54? <br>\n",
    "\n",
    "Yes. 54 = 6 × 9, and 9 is an integer. <br>\n",
    "\n",
    "e) Is 7 a factor of −7? <br>\n",
    "\n",
    "Yes. −7 = 7 × (−1), and −1 is an integer."
   ]
  },
  {
   "cell_type": "markdown",
   "id": "d9c16ccc-7095-434e-a684-dc792a09b9be",
   "metadata": {
    "jp-MarkdownHeadingCollapsed": true
   },
   "source": [
    "## The unique factorization of integers theorem"
   ]
  },
  {
   "cell_type": "markdown",
   "id": "49da355d-9b6a-4eed-8bf4-52023d31a68b",
   "metadata": {},
   "source": [
    "This is the most significant statement about the divisibility of integers. It states that <br>\n",
    "every integer greater than 1 is either prime, or can be written as a product of prime <br>\n",
    "numbers in a way that is unique. <br>\n",
    "\n",
    "The unique factorization of integers theorem <br>\n",
    "Given any integer n > 1, there exist a positive integer k, distinct prime numbers p1, ..., pk, <br>\n",
    "and positive integers e1, ..., ek <br>\n",
    "such that<br>\n",
    "n = p1^e1*p2^e2....pk^ek, <br>\n",
    "\n",
    "and any other expression for n as a product of prime numbers is identical to this except, perhaps, <br>\n",
    "for the order in which the factors are written. <br>\n",
    "\n",
    "#### Example\n",
    "\n",
    "a) 12 = 2^2 × 3.\n",
    "b) 24 = 2^3 × 3.\n",
    "c) 10 = 2 × 5.\n",
    "d) 1001 = 7 × 11 × 13."
   ]
  },
  {
   "cell_type": "markdown",
   "id": "8018b670-64ee-4811-9348-b226faf7c7e7",
   "metadata": {
    "jp-MarkdownHeadingCollapsed": true
   },
   "source": [
    "## The Quotient-remainder Theorem"
   ]
  },
  {
   "cell_type": "markdown",
   "id": "7180299d-5ab5-4b14-a3a9-4006ba6d5558",
   "metadata": {},
   "source": [
    "Given any n ∈ Z and d ∈ Z+, there exist unique q, r ∈ Z such that <br>\n",
    "\n",
    "n = dq + r where 0 ≤ r < d. <br>\n",
    "\n",
    "This theorem extends the definition for “divides” to include the possibility of having a remainder after division. <br>\n",
    "This remainder will always be less than the divisor. <br>\n",
    "\n",
    "For each of the following values of n and d, find integers q and r satisfying the quotient-remainder theorem. <br>\n",
    "\n",
    "a) n = 54, d = 4. <br>\n",
    "54 = 4 × 13 + 2. So q = 13, and r = 2. <br>\n",
    "\n",
    "b) n = −54, d = 4. <br>\n",
    "−54 = 4 × (−14) + 2. So q = −14, and r = 2. <br>\n",
    "\n",
    "c) n = 54, d = 70. <br>\n",
    "54 = 70 × 0 + 54. So q = 0, and r = 54. <br>"
   ]
  },
  {
   "cell_type": "markdown",
   "id": "fa630289-f677-4ce4-9683-4710d2e69d7d",
   "metadata": {
    "jp-MarkdownHeadingCollapsed": true
   },
   "source": [
    "## DivMod"
   ]
  },
  {
   "cell_type": "markdown",
   "id": "c2c8584c-ef39-4b38-b9af-c24752f69a89",
   "metadata": {},
   "source": [
    "Many programming languages have  built-in functions for finding q and r from the quotient-remainder therorem <br>\n",
    "We refer to these functions as div and mod <br>\n",
    "\n",
    "Given, n = dq + r and 0 ≤ r < d, <br>\n",
    "the functions div and mod are defined as <br>\n",
    "n div d = q,<br>\n",
    "n mod d = r. <br>\n",
    "\n",
    "There is a simple way to find div and mod by hand. <br>\n",
    "To find n div d, divide n by d and ignore the digits to the right of the decimal point. <br>\n",
    "You can now use your result for n div d in n = dq + r to find<br>\n",
    "n mod d as<br>\n",
    "n mod d = n − d × (n div d).<br>\n",
    "For example,<br>\n",
    "32 div 9 = 3,<br>\n",
    "as 32 ÷ 9 = 3.5556.<br>\n",
    "Then,<br>\n",
    "32 mod 9 = 32 − 9 × 3 = 5.\n"
   ]
  },
  {
   "cell_type": "markdown",
   "id": "99c457fe-7d59-466f-b9e1-0a246d1441ad",
   "metadata": {
    "jp-MarkdownHeadingCollapsed": true
   },
   "source": [
    "## Parity Property"
   ]
  },
  {
   "cell_type": "markdown",
   "id": "833d2986-4391-45b8-8d94-208ace5fa724",
   "metadata": {},
   "source": [
    "Theorem: Every integer is either even or odd <br>\n",
    "\n",
    "This is called the parity property, an integer has either even parity or odd parity <br>\n",
    "\n",
    "#### Proof <br>\n",
    "\n",
    "Suppose n is any (particular but arbitrarily chosen) integer. Divide n by two. By the <br>\n",
    "quotient-remainder theorem, there exist unique integers q and r such that <br>\n",
    "\n",
    "n = 2q+r, 0 ≤ r ≤ 2 <br>\n",
    "but the only integers that satisfy 0 ≤ r ≤ 2 are r = 0 and r = 1. It follows that there <br>\n",
    "exists an integer q with n = 2q or  n = 2q+1. <br>\n",
    "\n",
    "In the case that n = 2q, n is even. In the case that n = 2q+1, n is odd. Therefore, n <br>\n",
    "is either even or odd."
   ]
  },
  {
   "cell_type": "markdown",
   "id": "45ee01ae-35d9-486e-b3de-8b3b3c0cf082",
   "metadata": {
    "jp-MarkdownHeadingCollapsed": true
   },
   "source": [
    "## The Greatest Common Divisor"
   ]
  },
  {
   "cell_type": "markdown",
   "id": "a2d76fed-ae94-431d-86f9-55a9f9e54d6c",
   "metadata": {},
   "source": [
    "The greatest common divisor of two intergers a and b is the largest integer that divides both a and b <br>\n",
    "\n",
    "Let a and b be integers that are not both zero. The greatest common divisor of a and b, denoted gcd(a, b), <br>\n",
    "is that integer d with the following properties: <br>\n",
    "\n",
    "1. d is a common divisor of a and b,\n",
    "d | a,  d | b.\n",
    "2. For all integers c, if c is a common divisor of both a and b, then c is less than or equal to d, <br>\n",
    "∀c, c | a and c | b → c ≤ d. <br>\n",
    "\n",
    "### Example VERY IMPORTANT CUZ MY BRAIN GOO\n",
    "\n",
    "a. Find gcd(72,63) <br>\n",
    "72 = 9x8 and 63 = 9x7. So 9|72 and 9|63, and no integer larger than 9 divides 72 and 63. <br>\n",
    "\n",
    "b. Find gcd(10^20, 6^30) <br>\n",
    "10^20 = (2x5)^20  = 2^20*5^20<br>\n",
    "6^30 = (2x3)^30 = 2^30*3^30 = 2^20*2^10*3^30<br>\n",
    "so 2^20|10^20 and 2^20|6^30 <br>\n",
    "\n",
    "By the unique factorization of intergers theorem, no integer larger then 2^20 divides both 10^20 and 6 ^30. <br>\n",
    "Hence gcd(10^20, 6^30) = 2^20"
   ]
  },
  {
   "cell_type": "markdown",
   "id": "c1e93cf8-7db4-4d33-94e8-03e460cb30d3",
   "metadata": {
    "jp-MarkdownHeadingCollapsed": true
   },
   "source": [
    "## Euclidean algorithm"
   ]
  },
  {
   "cell_type": "markdown",
   "id": "e97336cf-58cf-4729-bb8d-7b622d2418d8",
   "metadata": {},
   "source": [
    "Over 2000 years ago, Euclid devised a method for finding gcds<br>\n",
    "that is easy to use and is much more efficient than either<br>\n",
    "factoring the numbers, or repeatedly testing both numbers for<br>\n",
    "divisibility by successively larger integers.<br>\n",
    "\n",
    "To understand the Euclidean algorithm requires the following <br>\n",
    "two lemmas (a lemma is a “helping theorem” to help get to a<br>\n",
    "larger result, in this case the Euclidean algorithm). <br>\n",
    "\n",
    "#### Lemma\n",
    "\n",
    "If r ∈ Z+, then gcd(r, 0) = r. <br>\n",
    " \n",
    "### Lemma\n",
    "\n",
    "If a, b ∈ Z are not both zero, and if q, r ∈ Z such that a = bq + r, <br>\n",
    "\n",
    "then <br>\n",
    "\n",
    "gcd(a, b) = gcd(b, r)."
   ]
  },
  {
   "cell_type": "markdown",
   "id": "f1c4c6e3-0434-434b-bbb3-a97c60d77316",
   "metadata": {},
   "source": [
    "The Euclidean algorithm <br>\n",
    "\n",
    "To find gcd(a, b) with a > b ≥ 0, perform the following steps <br>\n",
    "\n",
    "1. if b = 0, then gfc(a, b) = a by the first lemma <br>\n",
    "if b > 0, then the quotient-remainder theorem can be used to <br>\n",
    "divide a by b to obtain a quotient q and a remainder r: <br>\n",
    "\n",
    "a = bq+r, where 0 ≤ r < b. <br>\n",
    "\n",
    "By the second lemma, gcd(a,b) = gcd(b,r) <br>\n",
    "\n",
    "2. while r > 0, repeat step 1 using b instead of a and re instead of b <br>\n",
    "\n",
    "### Convergence of the Algo\n",
    "\n",
    "In Step 1 of the Euclidean algorithm, finding gcd(a, b) is reduced to finding gcd(b, r). <br>\n",
    "\n",
    "What makes this useful is that b and r are smaller numbers than a and b, so the problem <br>\n",
    "has been reduced.<br>\n",
    "\n",
    "To see this, note that a > b ≥ 0 by assumption, and 0 ≤ r < b from the quotient-remainder theorem. <br>\n",
    "Combining these inequalities gives a > b > r ≥ 0. <br>\n",
    "Step 2 is then guaranteed to terminate as each remainder will be smaller than the previous <br>\n",
    "remainder, and so eventually we will have r = 0.\n",
    "\n",
    "### Examples\n",
    "\n",
    "Use the Euclidean algorithm to find gcd(330, 156). <br>\n",
    "330 = 156 × 2 + 18, ∴ gcd(330, 156) = gcd(156, 18),<br>\n",
    "156 = 18 × 8 + 12, ∴ gcd(156, 18) = gcd(18, 12),<br>\n",
    "18 = 12 × 1 + 6, ∴ gcd(18, 12) = gcd(12, 6),<br>\n",
    "12 = 6 × 2 + 0, ∴ gcd(12, 6) = gcd(6, 0).<br>\n",
    "Since r = 0, the algorithm now terminates.<br>\n",
    "We therefore have that,<br>\n",
    "gcd(330, 156) = gcd(6, 0),<br>\n",
    "= 6."
   ]
  },
  {
   "cell_type": "markdown",
   "id": "87565f99-ea58-429a-99c7-5f08cefcd70b",
   "metadata": {
    "jp-MarkdownHeadingCollapsed": true
   },
   "source": [
    "## Proof of contradiction"
   ]
  },
  {
   "cell_type": "markdown",
   "id": "2b089e77-6ea6-49fb-a89a-f7d827485a7f",
   "metadata": {},
   "source": [
    "Proof by contradicition is a method if indirect proof <br>\n",
    "\n",
    "It uses the fact that a statement is either true or false. <br>\n",
    "\n",
    "So if you can show that  the assumption that a guven statement is not true leads to <br>\n",
    "a contradiction, impossibility or absurdity, then that assumption must be false. Therefore<br>\n",
    "statement must be true.\n",
    "\n",
    "### The method\n",
    "\n",
    "1. Suppose the statement to be proved is false. That is, suppose that the negation of the statement is true.\n",
    "2. Show that this supposition leads logically to a contradiction.\n",
    "3. Conclude that the statement to be proved is true.\n",
    "\n",
    "### Example\n",
    "\n",
    "There is no greatest integer\n",
    "\n",
    "Proof <br>\n",
    "Suppose not. That is, suppose there is a greatest integer N. <br>\n",
    "This means ∀p ∈ Z, N > p. <br>\n",
    "Let M = N + 1. Now M is an integer since it is the sum of two integers. <br>\n",
    "Also, M > N since M = N + 1. <br>\n",
    "So M is an integer that is greater than N. <br>\n",
    "So N is the greatest integer and N is not the greatest integer, which is a contradiction. <br>\n",
    "Therefore, the theorem is true. <br>\n",
    "End of Proof"
   ]
  },
  {
   "cell_type": "markdown",
   "id": "0d77561e-3d9f-478d-b27d-50688562f019",
   "metadata": {
    "jp-MarkdownHeadingCollapsed": true
   },
   "source": [
    "## Rational Numbers"
   ]
  },
  {
   "cell_type": "markdown",
   "id": "924d35ba-d195-42e1-8b25-56c7ef16bf33",
   "metadata": {},
   "source": [
    "r ∈ R is rational ↔ ∃a, b ∈ Z, r = a/b and b ≠ 0. <br>\n",
    "\n",
    "A real number that is not rational is called irrational <br>\n",
    "\n",
    "The word rational contains the word ratio, which is another word for quotient or fraction <br>\n",
    "\n",
    "So a rational number is a fraction (a ratio of integers) <br>\n",
    "\n",
    "a) Is 10/3 a rational number? <br>\n",
    "Yes, it is a ratio of the integers 10 and 3 (it is a fraction). <br>\n",
    "\n",
    "b) Is 0.281 a rational number? <br>\n",
    "Yes, 0.281 = 281/1000.<br>\n",
    "\n",
    "Note that all decimal numbers displayed on a calculator or <br>\n",
    "a computer are rational numbers because they are have a <br>\n",
    "finite number of decimals and can therefore be written as <br>\n",
    "a fraction. <br>\n",
    "\n",
    "c) Is 7 a rational number?<br>\n",
    "Yes, 7 = 7/1.<br>\n",
    "\n",
    "d) Is 0 a rational number? <br>\n",
    "Yes, 0 = 0/1.\n",
    "\n",
    "e) Is 2/0 a rational number? <br>\n",
    "No, 2/0 is not a number (division by 0 is not allowed).<br>\n",
    "\n",
    "f) Is 0.12121212... a rational number? <br>\n",
    "Yes. Let x = 0.12121212... Then 100x = 12.12121212... <br>\n",
    "\n",
    "So, <br>\n",
    "\n",
    "100x − x = 12.12121212... − 0.12121212... = 12. <br>\n",
    "But also,<br>\n",
    "100x − x = 99x. <br>\n",
    "This means <br>\n",
    "99x = 12.<br>\n",
    "Solving for x gives, <br>\n",
    "x =12/99 <br>\n",
    "\n",
    "Hence, 0.12121212... = 12/99, <br>\n",
    "\n",
    "which is a rational number. <br>\n",
    "A similar argument can be applied to show that any repeating <br>\n",
    "decimal number is a rational number."
   ]
  },
  {
   "cell_type": "code",
   "execution_count": null,
   "id": "f53ff06c-6f90-4649-a35a-a81928f16421",
   "metadata": {},
   "outputs": [],
   "source": []
  }
 ],
 "metadata": {
  "kernelspec": {
   "display_name": "Python 3 (ipykernel)",
   "language": "python",
   "name": "python3"
  },
  "language_info": {
   "codemirror_mode": {
    "name": "ipython",
    "version": 3
   },
   "file_extension": ".py",
   "mimetype": "text/x-python",
   "name": "python",
   "nbconvert_exporter": "python",
   "pygments_lexer": "ipython3",
   "version": "3.11.7"
  }
 },
 "nbformat": 4,
 "nbformat_minor": 5
}
