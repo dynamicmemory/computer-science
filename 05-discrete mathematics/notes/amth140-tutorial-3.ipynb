{
 "cells": [
  {
   "cell_type": "markdown",
   "id": "d4b28648-6209-436d-a16e-cdad2a2862a3",
   "metadata": {},
   "source": [
    "# Tutorial 3 - Modular Arithmetic and Modular Inverses"
   ]
  },
  {
   "cell_type": "markdown",
   "id": "84652576-2e2b-4787-beef-9f53a850b9e2",
   "metadata": {},
   "source": [
    "## Question 1 "
   ]
  },
  {
   "cell_type": "markdown",
   "id": "cc1b1893-01ae-4cb3-92bd-634a9bf5b112",
   "metadata": {},
   "source": [
    "a = qn + r\n",
    "b = pn + r\n",
    "\n"
   ]
  }
 ],
 "metadata": {
  "kernelspec": {
   "display_name": "Python 3 (ipykernel)",
   "language": "python",
   "name": "python3"
  },
  "language_info": {
   "codemirror_mode": {
    "name": "ipython",
    "version": 3
   },
   "file_extension": ".py",
   "mimetype": "text/x-python",
   "name": "python",
   "nbconvert_exporter": "python",
   "pygments_lexer": "ipython3",
   "version": "3.11.7"
  }
 },
 "nbformat": 4,
 "nbformat_minor": 5
}
