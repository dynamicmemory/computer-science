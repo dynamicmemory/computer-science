{
 "cells": [
  {
   "cell_type": "markdown",
   "id": "51e5697d-b52d-45be-a800-e6c21f05442b",
   "metadata": {
    "editable": true,
    "slideshow": {
     "slide_type": ""
    },
    "tags": []
   },
   "source": [
    "Tutorial 1"
   ]
  },
  {
   "cell_type": "markdown",
   "id": "ac7f539e-3d03-4f39-a0cd-c996f3fa7529",
   "metadata": {
    "jp-MarkdownHeadingCollapsed": true
   },
   "source": [
    "# Question 1 "
   ]
  },
  {
   "cell_type": "markdown",
   "id": "1627470d-6de5-4544-a8a0-a9754caf36ed",
   "metadata": {},
   "source": [
    "Write out and find the cardinality of the sets A×B, A∪B, A∩B, A \\ B, where\n",
    "\n",
    "|AxB| = 10\n",
    "|A∪B| = 6\n",
    "|A∩B| = 1\n",
    "|A\\B| = 4\n",
    "\n",
    "- A = {−2, −1, 0, 1, 2}\n",
    "- B = {1, 3}.\n",
    "\n",
    "AxB = {(-2,1), (-2,3), (-1,1), (-1,3), (0,-1), (0,3), (1,1), (1,3), (2,1), (2,3)}\n",
    "A∪B = {-2,-1,0,1,2,3}\n",
    "A∩B = {1}\n",
    "A \\ B = {-2. -1, 0, 2}\n",
    "\n",
    "Mark all elements from A × B in the Cartesian plane."
   ]
  },
  {
   "cell_type": "markdown",
   "id": "4f2ef190-b58a-43bc-9484-0c87029cddfa",
   "metadata": {
    "jp-MarkdownHeadingCollapsed": true
   },
   "source": [
    "# Question 2"
   ]
  },
  {
   "cell_type": "markdown",
   "id": "25ac152a-fd1b-4046-82d7-24838680ad22",
   "metadata": {},
   "source": [
    "For each function below, decude if it is injectivem surjectivem bijectivem or neither. Justidu you anseers\n",
    "\n",
    "a) is bijective as it maps all elements in the domain to the codomain and each element is unique.\n",
    "\n",
    "b) is injective as each element maps to a unique element but not every element in the Range of all real numbers is represented, so its not surjective.\n",
    "\n",
    "c) is surjective and not injective as there is more then one output mapped to some inputs, but every output is represented by an input."
   ]
  },
  {
   "cell_type": "markdown",
   "id": "111403d4-e977-4f09-9482-556246b22643",
   "metadata": {
    "jp-MarkdownHeadingCollapsed": true
   },
   "source": [
    "# Question 3"
   ]
  },
  {
   "cell_type": "markdown",
   "id": "04b364e9-e157-4701-9d1d-b4c051918b3d",
   "metadata": {
    "editable": true,
    "slideshow": {
     "slide_type": ""
    },
    "tags": []
   },
   "source": [
    "By definition a > b for a, b ∈ R if a − b > 0. <br>\n",
    "Prove that a > b =⇒ a^2 > b^2 for all a, b ∈ [0,∞). <br> \n",
    "Is the statement “a > b =⇒ a^2 > b^2 for all a, b ∈ R” true? Justify your answer. <br>\n",
    "Hint. Use the properties of real numbers on page 12 of the lecture notes. <br>\n",
    "\n",
    "Given that a >b for all a,b in the set [0, ∞), then we can say that a + b ≥ 0 <br>\n",
    "therefore, starting with the inequality a > b, we can plus a+b to both sides <br>\n",
    "preserving the inequality, giving us a(a+b) > b(a+b) which = a^2 + ab > b^2 + ab <br>\n",
    "Canceling out the +ab from both sides we are left with a^2 > b^2, part 1 complete.\n",
    "\n",
    "So for all real numbers is a^2 > b^2, for us to show whether this is false <br>\n",
    "we just need to find one example where it is indeed false. Since we are using <br>\n",
    "the set of all real numbers, including negative numbers, lets make \n",
    "- a = -1\n",
    "- b = -2\n",
    "\n",
    "It is obvious that a > b as -1 > -2, now lets apply the square\n",
    "- a^2 = -1^2 = 1\n",
    "- b^2 = -2^2 = 4\n",
    "\n",
    "And just like that we see that a > b for all real numbers a^2 > b^2 is infact not true <br>"
   ]
  },
  {
   "cell_type": "markdown",
   "id": "34d64171-2cd9-4408-bf3a-85f54aff185b",
   "metadata": {
    "jp-MarkdownHeadingCollapsed": true
   },
   "source": [
    "# Question 4"
   ]
  },
  {
   "cell_type": "markdown",
   "id": "d298db2c-4971-45a1-8cc9-c52e5a77d856",
   "metadata": {},
   "source": [
    "Shade the set of points (x, y) in the Cartesian plane, which satisfy <br>\n",
    "|x − 1| < 0.2 and |y − 1.5| < 0.4.\n",
    "\n",
    "|x - 1| < 0.2 = \n",
    "- 1 - 0.2 = 0.8\n",
    "- 1 + 0.2 = 1.2\n",
    "\n",
    "|y - 1.5| < 0.4 = \n",
    "- 1.5 - 0.4 = 1.1\n",
    "- 1.5 + 0.4 = 1.9\n",
    "\n",
    "so x equals 0.8 < x < 1.2\n",
    "and y equals 1.1 < y < 1.9\n",
    "\n",
    "So you would shade 0.8 to 1.2 on the x axis <br>\n",
    "and from 1.1 to 1.9 on the y axis, which would make a recatangle."
   ]
  },
  {
   "cell_type": "markdown",
   "id": "de20c076-7a8e-4164-8e5e-688a796a5810",
   "metadata": {
    "jp-MarkdownHeadingCollapsed": true
   },
   "source": [
    "# Question 5"
   ]
  },
  {
   "cell_type": "markdown",
   "id": "b2358d00-b670-48a0-a34c-cf792473734a",
   "metadata": {
    "editable": true,
    "slideshow": {
     "slide_type": ""
    },
    "tags": []
   },
   "source": [
    "Which of the sets listed below are bounded? Give some lower <br>\n",
    "or upper bounds if they exist. Find the infimum and the supremum if they exist. <br>\n",
    "Does the infimum or the supremum belong to the set? Justify your answers.\n",
    "\n",
    "a) The set of all real numbers x : -100 < x < 100\n",
    "- Yes this is a bounded set\n",
    "- -100, 100 are the upper and lower bounds\n",
    "- -100 is the infinum and it does not belong to the set\n",
    "- 100 is the suprenum and does not belong to the set\n",
    "\n",
    "So a set is bounded if it has both and upper and lower bopunds. The set -100 < x < 100 <br>\n",
    "has both an upper and lower bound, each being 100 and -100, therefore the set is bounded.<br>\n",
    "The set does not include the points -100 and 100 thought as it is a strictly open set. <br>This measns the that infimum which is -100 is not apart of the set and the suprenum <br> which is 100 is also not apart of the set.\n",
    "\n",
    "b) The set of all even counting numbers:\n",
    "The set of all counting numbers are all the positive integers, therefore\n",
    "- This set is unbounded but also bounded below\n",
    "- The lower bounds is 2\n",
    "- The infinum is 2 and it is aprat of the set\n",
    "\n",
    "c) The set of all positive rational numbers x such that x^2 > 2, as a subset <br>\n",
    "of Q and a subset of R.\n",
    "\n",
    "So the set of all positive reationa numbers, meaing we start above 0 <br>\n",
    "Such that x^2 > 2, which means 2 is the lower bounds and there are no irrational numbers\n",
    "- This set is unbounded\n",
    "- It is bounded below by 2 which is included in the set as well as it is the infinum\n",
    "- So the infinum is in the set\n",
    "- The set is not bounded above as all positive rational numbers goes on for infinitum\n",
    "- This means the set does not have a suprnum\n",
    "\n",
    "I ANSWERED THIS WRONG\n",
    "\n",
    "First of all, there were two sets to answer for, just rational numbers and real numbers <br>\n",
    "The just rational number has no upper or lower bounds as no rational number is x^2 > 2 as <br> √2 is the lowest possible square that fits that range and √2 is not rational, there fore <br> there is neither bounds for the set of Q <br>\n",
    "\n",
    "For the set of real numbers, again i was correct on the upper bounds and that the inf and <br>sup dont exist or belong to the set, but here, the inf is √2 as √2 is in the set of <br>all real numbers, but it does not beliong to the set meaning the inf isnt in the set"
   ]
  },
  {
   "cell_type": "markdown",
   "id": "02dd4e7f-9bdc-4c54-85ef-e5216a59a567",
   "metadata": {},
   "source": [
    "# Question 6"
   ]
  },
  {
   "cell_type": "markdown",
   "id": "bac7e7c1-4746-4612-a559-c6b66e61e9c1",
   "metadata": {
    "editable": true,
    "slideshow": {
     "slide_type": ""
    },
    "tags": []
   },
   "source": [
    "Consider the sequence {a(sub n)}∞n=1 = n^2 − n.\n",
    "\n",
    "a) \n",
    "- n=1 = 1^2 - 1 = 0\n",
    "- n=2 = 2^2 - 2 = 2\n",
    "- n=3 = 3^2 - 3 = 6\n",
    "- n=4 = 4^2 - 4 = 12\n",
    "\n",
    "b) For a sequence to be strictly increasing we need ∀n, an+1 ≥ an (an+1 > an), so lets sub in elements from our sequence.\n",
    "- an+1 > an = a2 + 1 > a1 = 2 > 0 (which holds true)\n",
    "- Since every element of our sequence will increase by one everytime\n",
    "- we can safely say that this sequence is increasing.\n",
    "\n",
    "Let me do that better\n",
    "- for n^2 - n: an+1 = (n+1)^2 - (n+1) = n^2 + 2n + 1 - (n + 1) = n^2 + n\n",
    "- so now\n",
    "- an+1 - an = (n^2 + n) - (n^2 - n) = 2n\n",
    "- Since 2n > 0 for all n ≥ 1 (since 2x1 would be atleast 2) we can see that the sequence<br>\n",
    "is positive and increasing as 2n > n \n",
    "\n",
    "c) The sequence is bounded below but not bounded above as it goes to infinum which has not limit. It is bounded below at 0 with 0 being the infimum and 0 also being aprt of the set."
   ]
  },
  {
   "cell_type": "markdown",
   "id": "4d9a3758-afe4-4c56-8a26-e6f87133b363",
   "metadata": {},
   "source": [
    "# Question 7 "
   ]
  },
  {
   "cell_type": "markdown",
   "id": "d287b873-b30c-4edf-8cca-9578a55ad4f0",
   "metadata": {},
   "source": [
    "The derived sequence of some sequence {bn} is <br>\n",
    "bn+1 − bn = 2n, <br>\n",
    "and the first element of the sequence {bn} is b0 = 0.\n",
    "\n",
    "Watch tutorial 1 for this questions answers"
   ]
  },
  {
   "cell_type": "code",
   "execution_count": null,
   "id": "23c4bfaa-bed9-4a8a-8d8a-475391512059",
   "metadata": {},
   "outputs": [],
   "source": []
  }
 ],
 "metadata": {
  "kernelspec": {
   "display_name": "Python 3 (ipykernel)",
   "language": "python",
   "name": "python3"
  },
  "language_info": {
   "codemirror_mode": {
    "name": "ipython",
    "version": 3
   },
   "file_extension": ".py",
   "mimetype": "text/x-python",
   "name": "python",
   "nbconvert_exporter": "python",
   "pygments_lexer": "ipython3",
   "version": "3.11.7"
  }
 },
 "nbformat": 4,
 "nbformat_minor": 5
}
