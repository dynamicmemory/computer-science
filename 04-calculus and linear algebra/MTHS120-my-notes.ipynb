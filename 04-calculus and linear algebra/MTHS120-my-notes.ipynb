{
 "cells": [
  {
   "cell_type": "markdown",
   "id": "ba796f60-db34-42c3-954c-480d189da3f0",
   "metadata": {
    "editable": true,
    "jp-MarkdownHeadingCollapsed": true,
    "slideshow": {
     "slide_type": ""
    },
    "tags": []
   },
   "source": [
    "# MTHS120 - Calculus and Linear Algebraah"
   ]
  },
  {
   "cell_type": "markdown",
   "id": "a0710ab9-45cf-4abd-865d-8ccdd510f20e",
   "metadata": {
    "jp-MarkdownHeadingCollapsed": true
   },
   "source": [
    "## 1 - Sets"
   ]
  },
  {
   "cell_type": "markdown",
   "id": "9a54eddc-c3d9-4c21-84e5-d3a2dcae89f1",
   "metadata": {},
   "source": [
    "Sets are collections of elements\n",
    "\n",
    "- The set of natural numbers (non-negative integers) N\n",
    "- The set of integers Z\n",
    "- The set of positive integers Z+\n",
    "- The set of rational numbers (fractions) Q\n",
    "\n",
    "For sets with large amount of numbers, we can notate like so:\n",
    "- A {X : 0 ≤ x ≤ 100} all numbers between 0 and 100\n",
    "\n",
    "The number of elements in a set is called it's <b>cardinality</b>\n"
   ]
  },
  {
   "cell_type": "markdown",
   "id": "18e1571f-4c6d-4342-bd01-29d20e8c91bb",
   "metadata": {},
   "source": [
    "### Union of sets  \n",
    "The union of two sets A and B is the set C that contains precisely the elements of A or B. <br>\n",
    "Example = {1,2,3} u {2,3,4} = {1,2,3,4} <br>"
   ]
  },
  {
   "cell_type": "markdown",
   "id": "453ae9dd-9617-40a9-8d6a-b04525d51b91",
   "metadata": {},
   "source": [
    "#### Exercise 1 "
   ]
  },
  {
   "cell_type": "markdown",
   "id": "66bd8c27-c01b-422d-a137-1d7a102a9946",
   "metadata": {},
   "source": [
    "Show that, for any two sets A and B, A ⊆ A ∪ B.\n",
    "\n",
    "The Union of A and B is made up of all elements in A and B combined, therefore set <br>\n",
    "A is a subset of the union A and B, just like B would be a subset of A u B.\n",
    "\n",
    "Textbook Proof - For any element a in set A it is the case that a in set A or a in set B <br>\n",
    "Therefore, a is in A u B.?\n",
    "\n",
    "<hr>"
   ]
  },
  {
   "cell_type": "markdown",
   "id": "e162042f-ac44-4c6e-b5da-971ec0282efc",
   "metadata": {},
   "source": [
    "### Intersection of Sets\n",
    "The intersection of sets A and B is the set C that contains preciselt the elements common<br>\n",
    "to A and B <br>\n",
    "Example = {1,2,3} ∩ {1,2,4} = {1,2} <br>"
   ]
  },
  {
   "cell_type": "markdown",
   "id": "958259d5-d854-4bac-a453-f5b623633639",
   "metadata": {
    "jp-MarkdownHeadingCollapsed": true
   },
   "source": [
    "#### Exercise 2 "
   ]
  },
  {
   "cell_type": "markdown",
   "id": "f904f814-e845-4665-8909-b1671a24be89",
   "metadata": {},
   "source": [
    "Show that, for any two sets A and B, A ∩ B ⊆ A.\n",
    "\n",
    "- A = {1,2,3}\n",
    "- B = {1,2,4}\n",
    "\n",
    "The intersection\n",
    "- C = {1,2}\n",
    "Therefore C is a subset of A as it contains two elements that <br>\n",
    "are also common to A.\n",
    "\n",
    "To note, C is also a subset of B\n",
    "<hr>"
   ]
  },
  {
   "cell_type": "markdown",
   "id": "0ba2f053-9328-4343-ae2e-8fa0a4459138",
   "metadata": {},
   "source": [
    "### The Difference of sets\n",
    "The difference of two sets A and B is the set C that contains precisely the elements that <br>\n",
    "belong to A and not B <br>\n",
    "Example = {1,2,3} \\ {3,4,5} = {1,2}"
   ]
  },
  {
   "cell_type": "markdown",
   "id": "6f374959-cbed-47b5-85ae-b0cb9c45fece",
   "metadata": {},
   "source": [
    "#### Exercise 3"
   ]
  },
  {
   "cell_type": "markdown",
   "id": "f1b7d4ab-b5be-49b0-afd8-f1db05435f82",
   "metadata": {},
   "source": [
    "Show that, for any two sets A and B, A\\B ⊆ A\n",
    "\n",
    "The difference of A and not B would be the elements that belong to <br>\n",
    "A and A only, and not any shared with B (Not in the intersection)\n",
    "\n",
    "- A = {1,2,3}\n",
    "- B = {3,4,5}\n",
    "\n",
    "Therefore\n",
    "\n",
    "- A\\B = {1,2}\n",
    "  \n",
    "Which is a subset of A, which is\n",
    "\n",
    "- A = {1,2,3}\n",
    "- ⊆ A = {1,2}\n",
    "\n",
    "<hr>"
   ]
  },
  {
   "cell_type": "markdown",
   "id": "3b849471-4108-4e55-9a49-aebc6abf4f6b",
   "metadata": {},
   "source": [
    "### Cartesian product of sets\n",
    "\n",
    "The cartesian product of two sets A and B is the set C that consists <br>\n",
    "precisely of the pairs of elements (a,b) from sets A and B.\n",
    "\n",
    "Example = {1,2,3} x {a,b} = {(1,a),(2,a),(3,a),(1,b),(2,b),(3,b)}\n",
    "\n",
    "Final note - If A and B are finite sets of cardinality m and n respectively <br>\n",
    "then the cardinality of A x B is mn... I dont really understand what this is trying to say.."
   ]
  },
  {
   "cell_type": "markdown",
   "id": "31db8c94-cb67-40f9-b2b0-d94707bb27fb",
   "metadata": {},
   "source": [
    "#### Exercise 4"
   ]
  },
  {
   "cell_type": "markdown",
   "id": "13c5cab4-c166-44ce-8f4e-da0f4c817fcc",
   "metadata": {},
   "source": [
    "Is it True or False that A x B = B x A for two sets A and B? Justify your answer.\n",
    "\n",
    "No I would say it would be FALSE as the A x B for sets:\n",
    "- A = {1,2}\n",
    "- B = {a,b}\n",
    "\n",
    "Would produce pairs {(1,a), (2,a), (1,b), (2,b)}\n",
    "\n",
    "and B x A would achieve inverse results of (a,1) (a,2), (b,1), (b,2) <br>\n",
    "which wold be completely difference co-ordinate points. Even thought <br>\n",
    "the elements are the same, the orientation is different.\n",
    "\n",
    "<hr>"
   ]
  },
  {
   "cell_type": "markdown",
   "id": "4db48f6f-88bc-43be-b7db-c151347ab566",
   "metadata": {
    "jp-MarkdownHeadingCollapsed": true
   },
   "source": [
    "## 2 - Functions"
   ]
  },
  {
   "cell_type": "markdown",
   "id": "9dd09ba9-76a9-49de-8073-7a1af8f59974",
   "metadata": {},
   "source": [
    "Functions assign to each element of set X called the domain, an element <br>\n",
    "of set Y called the codoamin of the function. Think of elements of the <br>\n",
    "domain as inputs to a procedure which produces outputs belonging to Y <br>\n",
    "the codomain.\n",
    "\n",
    "f(x)=y\n",
    "\n",
    "Example, Consider the following function to have domain and codomain <br>\n",
    "defined by Z (set of allintegers)\n",
    "\n",
    "consider we want to find the square of any number in the domain <br>\n",
    "We would express it as:\n",
    "\n",
    "f(x) = x^2\n",
    "\n",
    "The input of the function is called the argument and the output the value\n",
    "\n",
    "The Range is the subset of the codomain that consists of the elements that <br>\n",
    "are the values of f for some argument. From above, the range of all squares <br>\n",
    "functions would be {1,4,9,16,....}\n",
    "\n"
   ]
  },
  {
   "cell_type": "markdown",
   "id": "2c2e709f-93fe-40d7-8a5e-f63c38ae13fa",
   "metadata": {},
   "source": [
    "### Surjective\n",
    "\n",
    "A surjective function or \"function onto\" is when the range R = Y <br>\n",
    "So when the range = Codomain\n",
    "\n",
    "In other words every B has at least one matchin A maybe more than one <br>\n",
    "no B or number in the codomain will be left out"
   ]
  },
  {
   "cell_type": "markdown",
   "id": "0648d450-0eda-4da4-97e0-d48ff501caff",
   "metadata": {},
   "source": [
    "#### Exercise 5"
   ]
  },
  {
   "cell_type": "markdown",
   "id": "ee83b1bb-ac3a-46a7-90f5-c172f94f8ef9",
   "metadata": {},
   "source": [
    "Give an example of a surjective function and an example of a non-surjective function\n",
    "\n",
    "surjective:\n",
    "\n",
    "f(x)=2x - with the domain restricted to positive EVEN numbers is surjective\n",
    "\n",
    "non-surjective:\n",
    "\n",
    "f(x)=2x - for all N numbers is non surjective as you can never map to 3"
   ]
  },
  {
   "cell_type": "markdown",
   "id": "b3f0a3a7-440e-413a-94db-9aae98391bf8",
   "metadata": {},
   "source": [
    "### Injective \n",
    "\n",
    "An injectuve function or \"one to one\" function is one that does not <br>\n",
    "map more then one input value to an output value or if it does not <br>\n",
    "map two different elements in the domain to the same element in the range<br>\n",
    "So we can have a B without a matching A"
   ]
  },
  {
   "cell_type": "markdown",
   "id": "2011cb73-b482-41d7-b828-3216da8c442e",
   "metadata": {},
   "source": [
    "#### Exercise 6"
   ]
  },
  {
   "cell_type": "markdown",
   "id": "238b0549-2370-4fe4-841d-ae43d1e2739c",
   "metadata": {},
   "source": [
    "Give an example of an injective function and an example of a non-injective function.\n",
    "\n",
    "injective:\n",
    "\n",
    "f(x)= x^2 (only positive numbers) - Because there is a one to one relationsihp when you take the neg numbers away.\n",
    "\n",
    "non-injective:\n",
    "\n",
    "f(x)= x^2 (for all real numbers) - Because -2 and 2 will both give 4 as an output value, which breaks the rule"
   ]
  },
  {
   "cell_type": "markdown",
   "id": "ddc8081f-b3a4-4c15-b7bb-98f76aa54668",
   "metadata": {},
   "source": [
    "### Bijective \n",
    "\n",
    "A function that is both injective and surjective... the class notes give no more then this"
   ]
  },
  {
   "cell_type": "markdown",
   "id": "60f338b8-54d7-4de6-9968-209fcd7a35ba",
   "metadata": {},
   "source": [
    "### Inverse functions\n",
    "\n",
    "Not all functions have an inverse. Only functions that are Bijective, meaning they have <br>\n",
    "both a y values that has a unique x values (injective) and for any y value there exist an x value<br>\n",
    "(surjective)\n",
    "\n",
    "\n",
    "Bro imma be honest.... I don't even believe what I am typing here... surjective, <br>\n",
    "injective, bijective... I don't get it, I thought I knew functions but this makes it all confusing now."
   ]
  },
  {
   "cell_type": "markdown",
   "id": "301e60bc-2daf-45e6-a6a4-85d7bae22149",
   "metadata": {
    "jp-MarkdownHeadingCollapsed": true
   },
   "source": [
    "## 3 - Numbers"
   ]
  },
  {
   "cell_type": "markdown",
   "id": "f2e68a9e-3142-4dde-803e-4be99e537909",
   "metadata": {},
   "source": [
    "The natural numbers are defined by Peano’s axioms:\n",
    "1. 0 is a natural number\n",
    "2. Each natural number has exactly one successor.\n",
    "3. Each natural number, except 0 is the successor of exactly one natural number. 0 is not the successor of any natural number\n",
    "4. (Principle of mathematical induction) A statement is true for all natural num- bers if we can show that it is true for n = 0 <br>\n",
    "(the first natural number) and that it is true for any n, assuming that it is true for its predecessor n − 1.\n"
   ]
  },
  {
   "cell_type": "markdown",
   "id": "4e966495-928c-42e3-bf7d-7dcc4e3f5db5",
   "metadata": {},
   "source": [
    "### Methods of induction\n",
    "\n",
    "1) For each a,b, c ∈ Q we have a+b = b+a, (a+b) + c = a+(b+c), 0+a = a+0 = a, ab = ba, (ab)c = a(bc), 1a = a1 = a, (a+b)c = ac+bc.\n",
    "2) For each a ∈ Q there exists y ∈ Q such that a+y = 0.\n",
    "3) For each a(̸=0) ∈ Q there exists y ∈ Q such that a y = 1(the reciprocal of a).\n",
    "4) For every a, b ∈ Q one and only one of a>b, a=b, a<b is true.\n",
    "5) If a>b and b>c, then a>c.\n",
    "6) If a>b, then a+c > b+c.\n",
    "7) If a>b and c>0, then ac>bc."
   ]
  },
  {
   "cell_type": "markdown",
   "id": "d7c3642f-2252-44a2-9ae7-b6201d9cf1a9",
   "metadata": {},
   "source": [
    "#### Show that the product of two positive rational numbers is a positive rational number."
   ]
  },
  {
   "cell_type": "markdown",
   "id": "b5da47c5-9578-4f95-a1c0-ac309a041ac1",
   "metadata": {},
   "source": [
    "Let a and c be two positive rational numbers, using the 7th property above, if b = 0 and a > 0 and c > 0 <br>\n",
    "we multiply both sides of the inequality a > 0 and get ac > 0c which = ac > 0."
   ]
  },
  {
   "cell_type": "markdown",
   "id": "5455225f-6237-4b7b-bfa4-b4113aff3824",
   "metadata": {},
   "source": [
    "#### Show that ther average c = (a+b)/2 of two rational numbers is a rational number."
   ]
  },
  {
   "cell_type": "markdown",
   "id": "47259f19-d647-4aba-bcd8-edeb23233f32",
   "metadata": {},
   "source": [
    "The average is a combination of addtition a+b followed by multiplication by the rational number 1/2 so the result is a rational number."
   ]
  },
  {
   "cell_type": "markdown",
   "id": "085e165c-d992-4119-a0d4-668c3bf9cb65",
   "metadata": {},
   "source": [
    "#### Proposition 1. \n",
    "For any two distinct rational numbers a and b there are infinitely many rational numbers between them.\n",
    "\n",
    "#### Proof. \n",
    "First we show that between a and b there is a least one other rational number, namely its average\n",
    "c = (a + b) / 2"
   ]
  },
  {
   "cell_type": "markdown",
   "id": "5babb6a6-4147-48a8-ba0f-1cabf7c04b8f",
   "metadata": {},
   "source": [
    "#### Exercise 7 **UNABLE TO ASNWER YET"
   ]
  },
  {
   "cell_type": "markdown",
   "id": "0a5eaf27-a5c8-421c-b864-e2a721b89daa",
   "metadata": {},
   "source": [
    "Show that the distance between the numbers a and c(small n) from the proof above equals (b-a)/2^n\n",
    "\n",
    "I CANT PROVE IT, IM A FUCKING IDIOT\n",
    "\n",
    "- So take the average between a and b with a < b and we get b-a/2 = c = the average\n",
    "- Now we want to find the average between a and c with a < c, we get c-a/2 = d = the average.\n",
    "- Conversely we could just do b-a/2^2 to find d instead of the above sum, and for any step<br>\n",
    "further we could just continue to add 1 to the power of the denominator.. this is as far as i can exlpain\n",
    "\n"
   ]
  },
  {
   "cell_type": "markdown",
   "id": "9fbb4554-f194-4e35-8fc2-f02a7d37a1b3",
   "metadata": {},
   "source": [
    "Irrational numbers cannot be expressed as a fraction. An irrational number is a non-terminating, non-repeating decimal number."
   ]
  },
  {
   "cell_type": "markdown",
   "id": "68b6c067-f5ba-4cc6-bf58-74563b6240be",
   "metadata": {},
   "source": [
    "#### Exercise 8 **UNABLE TO ANSWER YET"
   ]
  },
  {
   "cell_type": "markdown",
   "id": "d866ae88-a372-4aa9-9e46-70d3634b94ab",
   "metadata": {},
   "source": [
    "Show  that the sum a + b of a rational number a and an irrational number b is irrational.\n",
    "\n",
    "If we take a = 7(rational) and b to = Pi(irrational) and we say 7 + Pi, all we are doing is adding 7 to Pi <br>\n",
    "it's still an irrational number with just another operation done to it.....\n",
    "\n",
    "I don't think this proves anything nor answers the question\n",
    "\n"
   ]
  },
  {
   "cell_type": "markdown",
   "id": "5a1285bf-61af-4981-954b-f5a80b23281b",
   "metadata": {},
   "source": [
    "#### Exercise 9 **UNABLE TO ANSWER YET"
   ]
  },
  {
   "cell_type": "markdown",
   "id": "babe838c-a203-4173-a876-a98f42f14502",
   "metadata": {},
   "source": [
    "Given an irrational number b. For which rational numbers a is the product ab rational?\n",
    "\n",
    "<hr>"
   ]
  },
  {
   "cell_type": "markdown",
   "id": "f0093361-4ee8-4659-b6a7-0cb4771910b8",
   "metadata": {},
   "source": [
    "### Absolute value"
   ]
  },
  {
   "cell_type": "markdown",
   "id": "cd5cc5ce-9fc0-4df9-a23e-af1ec1287a52",
   "metadata": {},
   "source": [
    "abs(x) = |x| = x if x≥0 & −x if x<0.\n",
    "\n",
    "This function is defined for all real numbers x and takes non negative real values. <br>\n",
    "Geometrically, it expresss the distancve from x to the origin 0 on the number line. <br>\n",
    "This function can also be used to express the distanve between two real numbers <br>\n",
    "a, b in the set of R numbers.\n",
    "\n",
    "dist(a,b) = |a - b|\n",
    "\n",
    "For a given positive number ε(Epsilon) we will say that x is ε-close to A if \n",
    "- |x - A| < ε <br>\n",
    "\n",
    "In this case we will also say that x is within an E-neighbourhood of A\n",
    "\n",
    "#### Example\n",
    "x = 5/4 is 1/2-close to A = 1; x = 3/2 is not 1/2-close to A = 1\n"
   ]
  },
  {
   "cell_type": "markdown",
   "id": "60976e30-de32-4f4a-9829-bec32973c037",
   "metadata": {},
   "source": [
    "#### Exercise 10"
   ]
  },
  {
   "cell_type": "markdown",
   "id": "ae804981-b28c-46eb-8b0f-7374f99f1a8c",
   "metadata": {},
   "source": [
    "Show that x is E-close to a if and only if a is E-close to x, for any x, a in the set of Real numbers.\n",
    "\n",
    "Using absolute value we see that for a given x and a, they are E-close to one another.\n",
    "- a = 1\n",
    "- b = 2\n",
    "\n",
    "- |a-b| == |1-2| == |-1| = 1\n",
    "- |b-a| == |2-1| == |1| = 1\n",
    "\n",
    "I'm not sure that I proved anything once again."
   ]
  },
  {
   "cell_type": "markdown",
   "id": "5eced51b-3791-4800-b716-bb8248b54009",
   "metadata": {},
   "source": [
    "#### Exercise 11 "
   ]
  },
  {
   "cell_type": "markdown",
   "id": "f1f913ab-1b99-4fcf-a29c-cdb7d46b3066",
   "metadata": {},
   "source": [
    "Show that the inequality |x - a| < E is equivalent to the two simultaneous inequalities:\n",
    "\n",
    "- x < a + E\n",
    "- a - E < x\n",
    "\n",
    "if x > a then .... I cant do it???"
   ]
  },
  {
   "cell_type": "markdown",
   "id": "32f4afcc-5cca-470e-a158-fd4d428dd307",
   "metadata": {},
   "source": [
    "#### Proposition 2 "
   ]
  },
  {
   "cell_type": "markdown",
   "id": "84c1f2b1-272b-48f4-ab27-6e1977bce6e9",
   "metadata": {},
   "source": [
    "The absolute value has the following properties:\n",
    "\n",
    "1. |A| ≥ 0 for all A in all Real numbers and |A| = 0 if and only if A = 0.\n",
    "2. |AB|= |A|*|B|, for all A,B in all Real numbers.\n",
    "3. |A|^2 = A^2, for all A in real numbers\n",
    "4. |A+B| ≤ |A| + |B|, for all A,B in all Real numbers. This is the so-called triangle inequality.\n",
    "5. |A-B| ≥ ||A|-|B||, for all A,B in all Real numbers. This is called the reverse triangle inequality."
   ]
  },
  {
   "cell_type": "markdown",
   "id": "58da74a7-74c3-4f07-9ff8-afa1487a2246",
   "metadata": {},
   "source": [
    "### Bounds"
   ]
  },
  {
   "cell_type": "markdown",
   "id": "21bc94cd-cb6c-41a3-a8dc-25b979c26edf",
   "metadata": {},
   "source": [
    "A subset S from the set or all Real Numbers is called:\n",
    "- BOUNDED ABOVE if there exits a number K such that for any x in S, x ≤ K. The number K is called the UPPER BOUND of set S\n",
    "- BOUNDED BELOW if there exists a number k such that, for any x in s k ≤ x. The number k is called the LOWER BOUND of set S\n",
    "\n",
    "We can simplify the above statements as follows:\n",
    "- ∃ = \"There exists\"\n",
    "- ∀ = \"For all\"\n",
    "- ∃K such that ∀ x ∈ S, x ≤ K.\n",
    "\n",
    "Notice that whenever K is an upper bound of a set S then any number K' > K is also an upper bound of S <br>\n",
    "Similarly, whenever k is a lower bound of a set S then any number k' < k is also a lower bound of S\n",
    "\n",
    "If a set S of subset of all Real numbers  contains an element which is an upper(lower bound) then this <br>\n",
    "element is called the maximum (minimum) of S."
   ]
  },
  {
   "cell_type": "markdown",
   "id": "2229b0c5-89b5-4708-81c8-99ca2404f7be",
   "metadata": {},
   "source": [
    "#### Exercise 12"
   ]
  },
  {
   "cell_type": "markdown",
   "id": "45ded819-bb4c-4d2e-b500-06639941cb89",
   "metadata": {},
   "source": [
    "Show that the intersection of two intervals is again an interval.\n",
    "\n",
    "- a = [-∞, a)\n",
    "- b = (b, ∞]\n",
    "- new interval of (a, b)\n",
    "\n",
    "Interval ception\n",
    "\n",
    "<hr>"
   ]
  },
  {
   "cell_type": "markdown",
   "id": "1b202399-5070-45b5-a51b-53cfa8d463b0",
   "metadata": {},
   "source": [
    "#### Exercise 13"
   ]
  },
  {
   "cell_type": "markdown",
   "id": "de35c829-9b48-4f7c-bc77-f02c4eaf413f",
   "metadata": {},
   "source": [
    "Show that any finite set is bounded.\n",
    "\n",
    "A finite set has a finite amount of numbers so let...\n",
    "- M be the max of the set\n",
    "- m be the min of the set\n",
    "\n",
    "and we get m ≤ x ≤ M, show that there is an upper and lower bounds to the finite set, meaning it is bounded.\n",
    "\n",
    "<hr>"
   ]
  },
  {
   "cell_type": "markdown",
   "id": "fe4b80cc-4c4e-4b4c-8308-ab19b58b8301",
   "metadata": {},
   "source": [
    "### Supremum & Infimum"
   ]
  },
  {
   "cell_type": "markdown",
   "id": "2a27fe0a-8b05-4373-a043-585cb28c77c8",
   "metadata": {},
   "source": [
    "Given the set S ⊆ R.\n",
    "\n",
    "- We define the supremum (or least upper bound) of S to be the number s = sup S such that\n",
    "1. s is an upper bound of S\n",
    "2. for any upper bound K of S we have s ≤ K\n",
    "\n",
    "- We define the infimum (or largest lower bound) of S to be the number t = inf S such that\n",
    "1. t is a lower bound of S\n",
    "2. for any upper lower bound k of S we have k ≤ t"
   ]
  },
  {
   "cell_type": "markdown",
   "id": "868bf3b0-9414-40bf-8d97-98700a0976fe",
   "metadata": {},
   "source": [
    "### Axiom of completeness"
   ]
  },
  {
   "cell_type": "markdown",
   "id": "8816520d-a825-4d8e-8234-6cf5d2e6b178",
   "metadata": {},
   "source": [
    "Any non-empy subset S ⊆ R that is bounded above has a supremum."
   ]
  },
  {
   "cell_type": "markdown",
   "id": "f330c4c2-5921-4027-b6ff-7b3b110243ea",
   "metadata": {},
   "source": [
    "### Archimedean axiom"
   ]
  },
  {
   "cell_type": "markdown",
   "id": "93817052-b323-49c7-b97f-c77d0b57f892",
   "metadata": {},
   "source": [
    "For any two positive real numbers x,y there is a natural number n such that nx > y."
   ]
  },
  {
   "cell_type": "markdown",
   "id": "9a9634d3-ccbb-4253-ba91-57e154ec072a",
   "metadata": {},
   "source": [
    "### Stronger density property"
   ]
  },
  {
   "cell_type": "markdown",
   "id": "8f30c4bd-5083-4cbe-84be-79194b72789d",
   "metadata": {},
   "source": [
    "\n",
    "For any two real numbers a < b there infinitely many rational numbers x such that a<x<b."
   ]
  },
  {
   "cell_type": "markdown",
   "id": "0ae81025-5809-4ae7-938a-843e26561091",
   "metadata": {},
   "source": [
    "#### Exercise 14"
   ]
  },
  {
   "cell_type": "markdown",
   "id": "0d94a1e6-c375-4392-b6c6-67b299bb023c",
   "metadata": {},
   "source": [
    "Show that the Archimedean axiom is automatically satisfied for rational numbers, i.e., <br>\n",
    "for any two positive rational numbers x, y there is a natural number n such that nx > y.\n",
    "\n",
    "?????????\n",
    "\n",
    "<hr>"
   ]
  },
  {
   "cell_type": "markdown",
   "id": "c104b12a-6b4a-45db-aa8a-8196b3d87de1",
   "metadata": {},
   "source": [
    "Exercise 15"
   ]
  },
  {
   "cell_type": "markdown",
   "id": "1147197b-aebd-477d-92d3-9c97ffe4f4f3",
   "metadata": {},
   "source": [
    "Use the Archimedean axiom to show that for any positive real number ε there exists a <br>\n",
    "rational number mn such that 0 < mn < ε.\n",
    "\n",
    "???????\n",
    "\n",
    "<hr>"
   ]
  },
  {
   "cell_type": "markdown",
   "id": "157dd20d-15fa-4ef0-a6de-9befb6989519",
   "metadata": {
    "jp-MarkdownHeadingCollapsed": true
   },
   "source": [
    "## 4 - Sequences"
   ]
  },
  {
   "cell_type": "markdown",
   "id": "d9a5c144-c1c5-4bba-b175-9899c8c8ff5d",
   "metadata": {
    "editable": true,
    "slideshow": {
     "slide_type": ""
    },
    "tags": []
   },
   "source": [
    "Sequences are used in mathematical modelling for recording consecutive measurements<br> \n",
    "in regular time steps over a potentiallu unrestructed period."
   ]
  },
  {
   "cell_type": "markdown",
   "id": "0c73b759-4eb4-43a9-ab51-4938db927471",
   "metadata": {},
   "source": [
    "Some examples are:\n",
    "\n",
    "1. (n2)∞n=0 = (0,1,4,9,...) – the sequence of squares\n",
    "2. (2,3,5,7,11,...) – the sequence of primes\n",
    "3. ( n1 )∞n=1 – the sequence of reciprocals\n",
    "4. (2n)∞n=0 – the sequence of even natural numbers\n",
    "5. (2n + 1)∞n=0 – the sequence of odd natural numbers\n",
    "6. ((−1)n)∞n=0 = (1, −1, 1, . . . ) – the sequence of alternating 1 and −1."
   ]
  },
  {
   "cell_type": "markdown",
   "id": "a80e2673-0587-4aad-888c-73e9499d4746",
   "metadata": {},
   "source": [
    "### Arithmetic Progressions"
   ]
  },
  {
   "cell_type": "markdown",
   "id": "aa4b534d-e4bf-40f0-98b4-98615f43733e",
   "metadata": {},
   "source": [
    "Sequences of the form C(small n) = an+b, where a,b are some given numbers/parameters"
   ]
  },
  {
   "cell_type": "markdown",
   "id": "62efdd44-37c1-4969-ba72-575d7d256bc7",
   "metadata": {},
   "source": [
    "### Geometric Progressions"
   ]
  },
  {
   "cell_type": "markdown",
   "id": "a6f8bd69-f434-435d-9e86-54bfc91c8621",
   "metadata": {},
   "source": [
    "Sequences of the form C(small n) = aq^n, where a≠0 is a real parameter and q≠1 is a positive real parameter"
   ]
  },
  {
   "cell_type": "markdown",
   "id": "a6d88046-d685-4dc4-855b-33f188e6670f",
   "metadata": {},
   "source": [
    "A sequence (a(small n))∞n=0 is called (The notation is a litte screwy due to not being able to same characterss as ub tge text)\n",
    "\n",
    "1. constantif∃c∈Rsuchthat∀n,an =c,\n",
    "2. positive (non-negative) if ∀n, an > 0 (an ≥ 0),\n",
    "3. negative (non-positive) if ∀n, an < 0 (an ≤ 0),\n",
    "4. (strictly) increasing if ∀n, an+1 ≥ an (an+1 > an),\n",
    "5. (strictly) decreasing if ∀n, an+1 ≤ an (an+1 < an).\n",
    "\n",
    "We can form new sequences from given sequences in several ways:\n",
    "1. We scale the sequence (bn) by a real number a to produce the sequence (cn)\n",
    "with cn = abn.\n",
    "2. We add two sequences (an) and (bn) to produce the sequence (cn) with cn =\n",
    "an +bn.\n",
    "\n",
    "For any sequence (an)∞n=0 = (a0, a1, a2, . . . ) we can form the derived sequence\n",
    "\n",
    "(also known as “sequence of consecutive differences”)\n",
    "\n",
    "(a′n)∞n=0 =(an+1 −an)∞n=0 =(a1 −a0,a2 −a1,a3 −a2,...).\n"
   ]
  },
  {
   "cell_type": "markdown",
   "id": "fc4a9594-c725-45ec-8c6b-9040ad8c744b",
   "metadata": {},
   "source": [
    "#### Exercise 16"
   ]
  },
  {
   "cell_type": "markdown",
   "id": "4a7cf4e9-fc60-4eb2-85ea-de04d8be62b7",
   "metadata": {},
   "source": [
    "Show that the derived sequence of the sum of two sequences (an) and (bn) equals to the sum of their derived <br>\n",
    "sequences (a′n) and (b′n), and that the derived sequence of (kan) is the derived sequence (a′n) scaled by k.\n",
    "\n",
    "- a of n + b of n = c of n\n",
    "- Therefore c of n+1 - c of n = (a of n+1 + b of n+1) - (a of n + b of n)\n",
    "- (a of n+1 - a of n) + (b of n+1 - b of n)\n",
    "- cn+1 - c of n\n",
    "- Therefore they equal their derived sequence\n",
    "\n",
    "We prove timings the sequence or scaling it by k in a similar way\n",
    "\n",
    "- let c of n = k * a of n\n",
    "- then the derived sequence of c of n = k*a of n = c of n+1 = k*a of n+1...\n",
    "\n",
    "Fuck man why do we have to explain things like this.... if we are just scalling a and drived a by the same constant <br>\n",
    "k... then guess what, they are equal... wow amazing. It doesnt matter when you times it by k"
   ]
  },
  {
   "cell_type": "markdown",
   "id": "bff7fcfe-a9d5-46b5-aa1b-a73a4b489e99",
   "metadata": {},
   "source": [
    "#### Exercise 17"
   ]
  },
  {
   "cell_type": "markdown",
   "id": "06585e5f-4adf-4e9c-a625-f1226704411c",
   "metadata": {},
   "source": [
    "Compute the derived sequence for the sequence of reciprocals an = n1. Here we assume that n ≥ 1.\n",
    "\n",
    "a of n = 1/n, and we know that to derive the sequence we: a of n+1 - a of n\n",
    "\n",
    "so\n",
    "- 1/n+1 - 1/n\n",
    "- n*1/n(n+1) - n+1*1/n(n+1)\n",
    "- n/n(n+1) - n+1/n(n+1)\n",
    "- Numerator = n-(n+1) = n-n-1 = -1\n",
    "- Therefore -1/n(n+1)\n",
    "- ta daa"
   ]
  },
  {
   "cell_type": "code",
   "execution_count": null,
   "id": "5ed67665-3beb-433a-ab1c-f86d9516592a",
   "metadata": {},
   "outputs": [],
   "source": []
  },
  {
   "cell_type": "markdown",
   "id": "83c7d1ac-b8ce-4a01-8445-57daa168bb7b",
   "metadata": {},
   "source": [
    "# Daves Class notes"
   ]
  },
  {
   "cell_type": "markdown",
   "id": "7c882b7d-4858-4ebb-8c0b-77103b875531",
   "metadata": {
    "jp-MarkdownHeadingCollapsed": true
   },
   "source": [
    "## Sets"
   ]
  },
  {
   "cell_type": "markdown",
   "id": "daded173-60eb-4c3c-bbad-bfb8739a480b",
   "metadata": {},
   "source": [
    "A set is a collection of elements. The elements will be mathematical \"Things\" <br>\n",
    "eg. Numbers, functions, etc\n",
    "\n",
    "### Example:\n",
    "- A = {1,2,3} = {3,2,1} = {1,2,1,3,2,3,2,1}\n",
    "- B = {X : 0 ≤ x ≤ 100} for all numbers between 0 and 100\n",
    "\n",
    "<hr>\n",
    "The order of elements in a set doesn't matter.<br>\n",
    "An element can only be in a set once <br>\n",
    "\n",
    "The number of elements in a set is the CARDINALITY, written as |A| (not abs value) <br>\n",
    "\n",
    "### Example: \n",
    "|{1,2,3}| = 3 = |{1,1,1,2,3}| <br>\n",
    "Many sets have infinite cardinatlity\n",
    "\n",
    "<hr>\n",
    "\n",
    "Important sets inclkude:\n",
    "- N = {0,1,2,3,....} the natural numbers\n",
    "- Z = {....,-2,-1,0,1,2,......} the integers\n",
    "- Q = {p/q : P,Q e Z, q≠0} the rational numbers **e = symbol for \"Element of\"\n",
    "- R = the real numbers, rational and irrational numbers\n",
    "\n",
    "<hr>\n",
    "\n",
    "Given sets A, B we say A is a subset of B written. <br>\n",
    "A ⊆ B if any element of A is also an element of B\n",
    "\n",
    "### Example:\n",
    "N ⊆ Z ⊆ Q ⊆ R <br>\n",
    "There is a set with no elements called the empty set: ø or {} |ø| = 0\n",
    "\n",
    "<hr>\n",
    "\n",
    "The UNION of sets A & B is: <br>\n",
    "A u B = {X : x e A OR x e B}\n",
    "\n",
    "### Example:\n",
    "- {1,2,3}u{2,3,4} = {1,2,3,2,3,4} = {1,2,3,4}\n",
    "- A u ø = A\n",
    "\n",
    "The INTERSECTION of A & B is : <br>\n",
    "A n B = {x : x e A AND x e B}\n",
    "\n",
    "### Example:\n",
    "- {1,2,3} n {2,3,4} = {2,3}\n",
    "- A n ø = ø\n",
    "\n",
    "<hr>\n",
    "\n",
    "The difference of A & B is: <br>\n",
    "A \\ B = {x : x e A and x not e B} \n",
    "\n",
    "### Example\n",
    "{1,2,3} \\ {2,3,4} = {1} <br>\n",
    "Note - A \\ B is different to B \\ A\n",
    "\n",
    "<hr>\n",
    "\n",
    "The Cartesian product of A & B is the set: <br>\n",
    "A x B = {(a,b) : aeA, beB}\n",
    "\n",
    "### Example:\n",
    "- A = {1,2,3}\n",
    "- B = {x, y}\n",
    "- A x B = {(1,x),(1,y),(2,x),(2,x),...etc}\n",
    "- |A x B| = |A| x |B| (A = 3, B = 2 == 6)\n",
    "\n",
    "### Example:\n",
    "R x R = {(x,y) : x,y eR} is a 2-dimesnional space\n",
    "\n",
    "<hr>"
   ]
  },
  {
   "cell_type": "markdown",
   "id": "8f33227b-a81a-4850-9ccc-3044f9b84e00",
   "metadata": {
    "editable": true,
    "jp-MarkdownHeadingCollapsed": true,
    "slideshow": {
     "slide_type": ""
    },
    "tags": []
   },
   "source": [
    "## Functions"
   ]
  },
  {
   "cell_type": "markdown",
   "id": "f1c489a8-063c-4da5-a99f-4d9efef5a657",
   "metadata": {},
   "source": [
    "A function f : X -> Y is a rule which takes elements x from a set X & assigns them a value f(x) in the set of Y"
   ]
  },
  {
   "cell_type": "markdown",
   "id": "f088bf7a-adb2-44f7-9d15-6f54af18d2c5",
   "metadata": {},
   "source": [
    "We call x the domain <br>\n",
    "We call y the codomain <br>\n",
    "Domain is where we are coming from and codoamin is where we are going to\n",
    "\n",
    "### Example:\n",
    "f : Z -> Z defined by f(x) = x^2\n",
    "- f(0) = 0^2 = 0\n",
    "- f(1) = 1^2 = 1\n",
    "- f(2) = 2^2 = 2\n",
    "- etc\n",
    "\n",
    "Backnote - the range of f is {0,1,4,9,...} subset Z\n",
    "\n",
    "<hr>\n"
   ]
  },
  {
   "cell_type": "markdown",
   "id": "b4fcd4ab-8777-4390-9fdf-3790dc37e488",
   "metadata": {},
   "source": [
    "The RANGE of f is the subset of Y <br>\n",
    "- Not the codamin, subset of the codmain or Y\n",
    "- Set of values that the function actually takes\n",
    "  \n",
    "{f(x) : x e X } ≤ Y\n",
    "\n",
    "This is different to the codoamin... to reiterate onces more\n",
    "\n",
    "<hr>"
   ]
  },
  {
   "cell_type": "markdown",
   "id": "a0839bec-e917-42ca-ab79-5175bf0f51e3",
   "metadata": {},
   "source": [
    "(Lecture 1, around 35mins in)\n",
    "\n",
    "A function  f : x -> y is SURJECTIVE (\"onto\") <br>\n",
    "if the range & codomain are equal.\n",
    "\n",
    "We say f is INJECTIVE (\"one-to-one\")  if different <br>\n",
    "inputs result in different outputs. In other words <br>\n",
    "if x, e X, x≠y, then f(x)≠f(y)\n",
    "\n",
    "### Example:\n",
    "- f : Z -> Z, f(x)=x^2 is not INJECTIVE or SURJECTIVE \n",
    "- f(1) = f(-1) (1^2) but -1 ≠ 1 therefore not injective\n",
    "- 2, 3, -1 are in the codomain(y) but not in the range(values of x^2) <br>\n",
    "no square =s 2, 3, -1 therefore not surjective.\n",
    "\n",
    "<hr>"
   ]
  },
  {
   "cell_type": "markdown",
   "id": "d339da0f-9932-4ba0-a062-c0703f81be88",
   "metadata": {},
   "source": [
    "Composition\n",
    "\n",
    "Given f : x -> y & g : y -> Z We can compose g with f <br>\n",
    "g o f (g composed of f) : X -> Z <br>\n",
    "(gof)(x) = g(f(x)) - reads from inside out, f first then g in terms of doing the functions\n"
   ]
  },
  {
   "cell_type": "markdown",
   "id": "40b09216-c3cf-4ac8-a463-0e4307bf47d5",
   "metadata": {},
   "source": [
    "Inverse\n",
    "\n",
    "If f is BIJECTIVE (both injextive and surjective) then it has an inverse <br>\n",
    "f^-1 (visually it looks like f risen to the neg 1 power) = inverse function <br>\n",
    "f^-1 : Y -> X <br>\n",
    "which satifies <br>\n",
    "(f^-1 o f)(x) = x of any x e X <br>\n",
    "(f o f^-1)(y) = y for any y e Y <br>\n",
    "\n",
    "### Example:\n",
    "f : R -> R, f(x) = 2x+5 <br>\n",
    "Then f is bijective & <br>\n",
    "f^-1(x) = 1/2(x-5) or (x-5)/2 <br>\n",
    "\n",
    "(f^-1 o f)(x) =\n",
    "- f^-1(f(x)) =\n",
    "- f^-1(2x+5) =\n",
    "- ((2x+5)-5) / 2 =\n",
    "- 2x / 2 =\n",
    "- 1x or just x\n",
    "- which satifies the inverse.\n",
    "\n",
    "<hr>"
   ]
  },
  {
   "cell_type": "markdown",
   "id": "d93c83b2-8e47-418d-8b46-dfca9548e1f4",
   "metadata": {
    "editable": true,
    "jp-MarkdownHeadingCollapsed": true,
    "slideshow": {
     "slide_type": ""
    },
    "tags": []
   },
   "source": [
    "## Numbers"
   ]
  },
  {
   "cell_type": "markdown",
   "id": "11a320e9-ec3a-4d5f-bf14-dd8dac584107",
   "metadata": {},
   "source": [
    "### Proposition 1\n",
    "for any two distinct (difference) rational numbers (fractions) a & b there are infinitely many<br>\n",
    "rational numbers between them.\n",
    "\n",
    "#### PROOF\n",
    "<-----a-.--.---.------b-------> <br>\n",
    "\n",
    "Without loss of generality assume a < b (could swap variables and its still true) Then<br>\n",
    "c = a+b/2 (halfway between a,b) <br>\n",
    "c is a rational number, & \n",
    "- c - a = a+b/2 - a =\n",
    "- b - a/2 > 0 because a < b\n",
    "- So a < c\n",
    "  \n",
    "Likewise\n",
    "- b - c = b - b+a/2 =\n",
    "- b-a/2 > 0\n",
    "- so c < b\n",
    "\n",
    "We have a < c < b. let c = c (subscript 1) Use the same argument to contruct <br>\n",
    "a < c(sub 2) < c(sub 1) <br>\n",
    "Then continue to find the infinite set { c(sub 1), c(sub 2),...} with a < all of them\n",
    "\n",
    "<hr>\n",
    "\n"
   ]
  },
  {
   "cell_type": "markdown",
   "id": "aa2e339b-266a-456c-bb38-1b7d8a7d8498",
   "metadata": {},
   "source": [
    "Despite this, there are still \"Holes\" in the set of rational numbers.\n",
    "\n",
    "Consider a 45,45 triangle: side a,b = 1 and hyp=c <br>\n",
    "we know (pythag) c^2 = 1^2 + 1^2 = 2 <br>\n",
    "It turns out that c is not a rational number, cannot be represented as a fraction... how on earth do you show that?\n",
    "\n",
    "#### PROOF\n",
    "we use the proof by contradiction <br>\n",
    "We assume, for a contradiction, that c = p/q (a rational number) <br>\n",
    "where p,q e Z (this is not true so we want to prove something that shows its not true) <br>\n",
    "We use the fact that eevery integeer has a unique prime factorisation <br>\n",
    "We have <br>\n",
    "- c^2 = (p^2/q^2) = 2\n",
    "- so p^2 = 2q^2 <br>\n",
    "But p^ and q^2 both have an even number of prime factors, but 2 is a prime number so 2q^2 has an odd number of primes.\n",
    "MY-NOTE(a square has an even number of primes due to it being itself times itself, so throwing a 2 in of balances that symetry... I think its ther point here) <br>\n",
    "This is a contraction, so c cannot be written as p/q. so we prove there are irrational numbers. <br>\n",
    "\n",
    "The set of R numbers has these holes filled... and that is the point of the real numbers, all rational and irrational numbers<br>\n",
    "They include the rationals Q & the irrational numbers (e.g √2, π, e,....) <br>\n",
    "\n",
    "Every irrational can be approximated by a sequence of rational numbers\n",
    "\n"
   ]
  },
  {
   "cell_type": "markdown",
   "id": "a411595a-3062-4a39-9d29-cfa6fcac64e3",
   "metadata": {},
   "source": [
    "Properties of Numbers:\n",
    "\n",
    "1) For each a,b,c ∈ R we have a+b = b+a, (a+b) + c = a+(b+c), - Addition is commutatuve and associative so is multiplication\n",
    "   - 0+a = a+0 = a, is the additive identity\n",
    "   - ab = ba, (ab)c = a(bc) - Associative and commutive\n",
    "   - 1a = a1 = a, (a+b)c = ac+bc. - 1 is the mulitiplicitive identity\n",
    "     \n",
    "2) For each a ∈ R there exists y ∈ R such that a+y = 0. Addidtive inverse\n",
    "3) For each a(̸=0) ∈ R there exists y ∈ R such that a y = 1(the reciprocal of a). - multiplicative inverse\n",
    "   \n",
    "4) For every a, b ∈ R one and only one of a>b, a=b, a<b is true.\n",
    "5) If a>b and b>c, then a>c.\n",
    "6) If a>b, then a+c > b+c.\n",
    "7) If a>b and c>0, then ac>bc."
   ]
  },
  {
   "cell_type": "markdown",
   "id": "56509bbc-47b4-4add-b1dd-3ddce3880b37",
   "metadata": {},
   "source": [
    "### Absolute Value "
   ]
  },
  {
   "cell_type": "markdown",
   "id": "2a92ed26-9264-4d68-ae9b-645a6521c1a3",
   "metadata": {},
   "source": [
    "The absolute value is the function R -> R <br>\n",
    "x -> |x| = \n",
    "- x if x ≥ 0\n",
    "- -x if x < 0\n",
    "\n",
    "The absolute value gives us a notion of distancve on R if a,b eR <br>\n",
    "dist(a,b) = |a-b|\n",
    "<-----a<-|a-b|->b------> R\n",
    "\n",
    "The absolute value has the following properties:\n",
    "\n",
    "1. |A| ≥ 0 for all A in all Real numbers and |A| = 0 if and only if A = 0.\n",
    "2. |AB|= |A|*|B|, for all A,B in all Real numbers.\n",
    "3. |A|^2 = A^2, for all A in real numbers\n",
    "4. |A+B| ≤ |A| + |B|, for all A,B in all Real numbers. This is the so-called triangle inequality.\n",
    "5. |A-B| ≥ ||A|-|B||, for all A,B in all Real numbers. This is called the reverse triangle inequality."
   ]
  },
  {
   "cell_type": "markdown",
   "id": "8b0ef108-0450-4851-9be8-7267d71c33d2",
   "metadata": {},
   "source": [
    "### Boundedness"
   ]
  },
  {
   "cell_type": "markdown",
   "id": "269f7055-bcf9-4c62-89ea-0af9f537a282",
   "metadata": {},
   "source": [
    "A subtset of S sub R is called bounded above if there exists k eR  x≤K for all x eS. <br>\n",
    "We call K an upper bound for S<br>\n",
    "Likewise <br>\n",
    "S is bounded below if there exists k eR with x≥k for all x eS. <br>\n",
    "we call k a lower-bound<br>\n",
    "If S is bounded above & below then it is bounded\n",
    "\n",
    "Intervals are bounded set of numbers\n",
    "- if A and B eR, a < b then\n",
    "- [a,b] = {XeR : a ≤ x ≤ b} = closed interval\n",
    "- (a,b) = {XeR : a < x < b} = open interval\n",
    "\n",
    "These are bounded sets with upper bound B and lower bound A. <br>\n",
    "We also have unbounded intervals\n",
    "- (a, ∞) = {XeR : a < x} = open Ray \n",
    "- [a, ∞) = {XeR : a ≤ x} = semi-opened interval or ray\n",
    "- (-∞, b) = same as above but for ≥\n",
    "- [∞, b) = \"\"\n",
    "\n",
    "Given S subset R, the SUPREMUM (least upper bound) is the smallest possible upper bound of S <br>\n",
    "SupS\n",
    "- SupS is an upper-bound for S\n",
    "- for any other upper bound K, SupS is ≤ K\n",
    "\n",
    "Likewise\n",
    "\n",
    "Given S subset R, the INFINMUM (greatest lowerbound) is the biggest possible lower bound of S <br>\n",
    " - infS\n",
    "\n",
    "Some points:\n",
    "- Not every set of R has a sup and inf but it turns out that every bounded set of nuumbers does\n",
    "- If there is an upper bound there has to exist a least upper bound\n",
    "- If there is a lower-bound there must exist an infinum\n",
    "\n",
    "Because of this, the set of real numbers is complete <br>\n",
    "that every bounded set has an infinum and suprenum. <br>\n",
    "\n",
    "The rational numbers Q does not have this property <br>\n",
    "Consider S = {XeQ : x^2 ≤ 2} <br>\n",
    "This set is bounded, say i.e(below by -4, above by 3) <br>\n",
    "But this set has no supremum in Q as the supremum of the set is √2 and it is not a Q"
   ]
  },
  {
   "cell_type": "markdown",
   "id": "e2876910-e261-4582-9c07-0d55f9262fb0",
   "metadata": {
    "editable": true,
    "jp-MarkdownHeadingCollapsed": true,
    "slideshow": {
     "slide_type": ""
    },
    "tags": []
   },
   "source": [
    "## Sequences"
   ]
  },
  {
   "cell_type": "markdown",
   "id": "2a89bc30-5103-4f36-b54c-db616b558cf8",
   "metadata": {},
   "source": [
    "A sequence is a function with domain natural numbers and codomain real numbers, f:N->R <br>\n",
    "Instead of writing f(n) we use index notation <br>\n",
    "f(n) = a(sub n). So then a sequence looks like <br>\n",
    "(a(sub 0), a(sub 1),....) = a(n)∞,n=0 <br>\n",
    "\n",
    "A sequence may be defined using a formula\n",
    "\n",
    "### Example \n",
    "- (n^2)∞,n=0 = (0,1,4,9,16,.....) <br>\n",
    "- (1/n)∞,n=0 = (1,1/2,1/3,1/4,...) - the harmonic sequence\n",
    "- (2,3,5,7,11,13,...) - the prime numbers, not defined by a sequence we know of\n",
    "\n",
    "<hr>\n",
    "\n",
    "A sequence of the form C(n) = an+b (a,b e R) is an arithmetic sequence. <br>\n",
    "- Each term is increasing A amount more then last.\n",
    "\n",
    "A sequence of the form C(n) = aq^nm (a,b e R,  q≠0,1) is a geometric sequence\n",
    "- Each term in the sequence is increasing by a factor of q each time\n",
    "- Sequences of powers of two would be a geometric sequence\n",
    "\n",
    "### Example \n",
    "- (Cn)∞,n=0 = (2n+1) = (1,3,5,7,9,...) the sequence of odd numbers is arithmetic, a=2, b=1\n",
    "- (Cn)∞,n=0 = (2n) = (1,2,4,8,16,....) the sequence of powers of two is geometric, a=1, q=2\n",
    "\n",
    "<hr>\n",
    "\n",
    "\n"
   ]
  },
  {
   "cell_type": "markdown",
   "id": "8277ba93-ca9c-415a-b60b-c9ef4f4e225d",
   "metadata": {},
   "source": [
    "1. constant if ∃c∈R such that ∀n, an =c,\n",
    "2. positive (non-negative) if ∀n, an > 0 (an ≥ 0),\n",
    "3. negative (non-positive) if ∀n, an < 0 (an ≤ 0),\n",
    "4. (strictly) increasing if ∀n, an+1 ≥ an (an+1 > an),\n",
    "5. (strictly) decreasing if ∀n, an+1 ≤ an (an+1 < an).\n",
    "\n",
    "We can scale a sequence (Bsmalln) by a∈R to get C(smalln) = ab(smalln)<br>\n",
    "We can add two sequences (Asmalln) and (Bsmalln) to get  (Csmalln) = (Asmalln) + (Bsmalln)\n",
    "\n",
    "### Derived Sequence\n",
    "\n",
    "Given the sequence (an)∞,n=0 we can form the derived sequence, notation is:\n",
    "- (a`n)∞,n=0 =\n",
    "- (an+1 - an)∞,n=0 =\n",
    "- (a1 - a0, a2-a1, a3-a2,....)\n",
    "\n",
    "The derived sequence measures the rate of change of a sequence <br> \n",
    "This is all caculating the rate of change in sequences.\n",
    "\n",
    "#### Proposition 4\n",
    "\n",
    "- A sequence is constant if and only if its derived sequence is identically 0\n",
    "- A sequence is (strictly) increasing if and only its derived sequence is non-negative (positive)\n",
    "- A sequence is (strictly) decreasing if and only if  its derived sequence is a non-positive (negative)\n",
    "\n",
    "If & only if : if P and Q are logically equuvalent, then P if and only if Q means, P implies Q and Q implies P <br>\n",
    "Notation is a double ended arrow <--> and implies is a single ended arrow.\n",
    "\n",
    "#### PROOF\n",
    "Assume an = C for all n, where c∈R. <br>\n",
    "Then,\n",
    "- a`n = a(n+1) - a(n) = C - C = 0\n",
    "\n",
    "Now assume a`n = 0 for all n, <br>\n",
    "Let a(0) = C, Then <br>\n",
    "- a(1) = a(0) + (a1 - a0)\n",
    "- = a0 + a`0\n",
    "- = a0\n",
    "- = C\n",
    "\n",
    "Suppose an = C, then <br>\n",
    "- an+1 = an+(an+1 - an)\n",
    "- = an + a`n\n",
    "- an + 0\n",
    "- C\n",
    "\n",
    "So by induction, an = c for all n\n",
    "\n",
    "Lets derive the sequence of squares <br>\n",
    "Let cn = n^2, then <br>\n",
    "- C`n = Cn+1 - Cn\n",
    "- = (n+1)^2 - n^2\n",
    "- = n^2 + 2n + 1 - n^2 (expande brackets)\n",
    "- = 2n + 1"
   ]
  },
  {
   "cell_type": "markdown",
   "id": "02a35eb7-eea0-44cf-8364-30cbaea47c05",
   "metadata": {},
   "source": [
    "### Find a sequence knowing only its Derived Seq"
   ]
  },
  {
   "cell_type": "markdown",
   "id": "57dcfba7-a0c5-499f-8690-e25433b06859",
   "metadata": {},
   "source": [
    "We might like to find a sequence An only given the derived sequence A`n\n",
    "\n",
    "We have  <br>\n",
    "- a0 = c for some c\n",
    "- a1 = c + a`0\n",
    "- a2 = a1 + a`1\n",
    "- = c + a`0 + a`1\n",
    "- ...\n",
    "- an = c + a`0 + a`1 +.....an`1\n",
    "- = c+SigmaNotation..\n",
    "\n",
    "A personal note here.... im pretty lost at this point of the lecture\n",
    "\n",
    "#### Example\n",
    "Suppose a`n = n, Then <br>\n",
    "- an = C+SigmaNotation\n",
    "\n",
    "I cant really finish this example.... lecture video 2 45mins\n",
    "\n",
    "There is a different approachL we know the derived sequence of (n2) is (2n+1) and the derived sequence of (n) is (1) constant sequence<br>\n",
    "\n"
   ]
  },
  {
   "cell_type": "markdown",
   "id": "f78eadd6-4acf-4e45-90f7-def6cea3e163",
   "metadata": {
    "jp-MarkdownHeadingCollapsed": true
   },
   "source": [
    "## Limits of Sequences"
   ]
  },
  {
   "cell_type": "markdown",
   "id": "7972295c-fa37-4f0d-baf1-43c476ed59ad",
   "metadata": {},
   "source": [
    "The limit of a sequence (an)∞n=1 describes the long term behaviour. In other words <br>\n",
    "what happens to a(n) as n gets big --> ∞ (n goes to infinity)\n",
    "\n",
    "Definition: <br>\n",
    "Let a(n)∞n=1 be a sequence and let L be some real number. (L is our limit) <br>\n",
    "Then L is the limit of a(n) or we say that a(n) converges to L.\n",
    "<br>\n",
    "∀ε > 0 ∃N such that ∀n > N, |a(n) − L| < ε\n",
    "\n",
    "ε = epsilon = small but positive number... normally smaller, but actually just a positive number. <br>\n",
    "\n",
    "Lecture 3: limits of sequence, 10 - 15mins in explains this statement <br>\n",
    "Think of it like a gameL given a value of epsilon > 0 <br>\n",
    "We have to find N satisfying the definition <br>\n",
    "\n",
    "### Example\n",
    "Consider the sequence a(n) = 1/n (the harmonic sequence) <br>\n",
    "(a(n))∞n=1 = (1, 1/2, 1/3,1/4,... ) <br>\n",
    "The limit is L = 0. How do we prove it? <br>\n",
    "fix ε > 0. We have to find N (positive whole number) such that n > N <br>\n",
    "implies: <br>\n",
    "|a(n) - L| < ε <br>\n",
    "|1/n - 0 | = |1/n| = 1/n < ε <br>\n",
    "\n",
    "Basically w have to solve the inequality 1/n < ε for n <br>\n",
    "1/n < ε <-> n > 1/ε <br>\n",
    "\n",
    "Let N be any whole number  bigger then 1/ε <br>\n",
    "Say N = ceiling function of 1/ε (the ceiling function just takes the next biggest whole number, brackets are [] but not bottom part) <br>\n",
    "So any whole number bigger then 1/ε <br>\n",
    "Then n > N = n > 1/ε <br>\n",
    " <-> 1/n < ε <br>\n",
    " <-> |a(n) - L| < ε\n"
   ]
  },
  {
   "cell_type": "markdown",
   "id": "a607786b-6c4c-49bb-8bb7-80663a6ff112",
   "metadata": {},
   "source": [
    "### Showing something doesnt have a limit"
   ]
  },
  {
   "cell_type": "markdown",
   "id": "917a2d07-7abc-49e2-9e8d-1180c537c43e",
   "metadata": {},
   "source": [
    "Most dequences dont't convergve to a limit L <br>\n",
    "How do we prive it? We have to show that any <br>\n",
    "Possible L fails the definition. <br>\n",
    "\n",
    "### Example\n",
    "\n",
    "Let sequence a(n) = (-1)^n. Then <br>\n",
    "- a(n)∞ n=0 = (1,-1,1,-1,1,-1,1,-1....)\n",
    "\n",
    "Lets show this doesn't converge <br>\n",
    "fix L in all R<br>\n",
    "Suppose |L - 1| < 1. Then L > 0. <br>\n",
    "Then for n = 2m for some m≥1 (n is even) <br>\n",
    "we have a(n) = -1. So |a(n) - L| = |-1 - L| = L + 1 ≥ 1 = ε<br>\n",
    "The other case is when L is negative |L - 1| ≥ 1. Then for <br>\n",
    "n = 2, + 1, M ≥ 1 (n is odd) <br>\n",
    "a(n) = 1 and |a(n) - L| = |1 - L| = |L - 1| ≥ ε.\n",
    "\n",
    "So the definition fails when ε = 1 for any L."
   ]
  },
  {
   "cell_type": "markdown",
   "id": "8754a2ac-4e05-456c-88ca-ec062a29404f",
   "metadata": {},
   "source": [
    "### Properties"
   ]
  },
  {
   "cell_type": "markdown",
   "id": "94b03c3a-786c-44e7-8d06-7fb1188970af",
   "metadata": {},
   "source": [
    "1. If a sequence (an) converges to the limit L then the sequence of absolute values (|an|) converges to |L|.\n",
    "2. If the sequence (an) is convergent then it is bounded, i.e. there exists a number M such that ∀n∈N, |an|<M.\n",
    "3. If a sequence(an) has a limitL > 0(L<0) then ∃N 0 such that,for n > N0, an > L2 (an < L2)."
   ]
  },
  {
   "cell_type": "markdown",
   "id": "fb363856-3837-4894-b4b7-200af5c2c8cf",
   "metadata": {},
   "source": [
    "### Proving property 2"
   ]
  },
  {
   "cell_type": "markdown",
   "id": "1c2bb181-41e8-43c8-aeee-cd0487f83b08",
   "metadata": {},
   "source": [
    "Suppose a(n) converges to L <br>\n",
    "We have to fina an upperbound for |a(n)| <br>\n",
    "let ε = 1. Then there exists N such n > N <br>\n",
    "that imples |a(n) - L| < 1, which impies <br>\n",
    "|a(n)|<|L| + 1 <br>\n",
    "\n",
    "Let m = max {a1,a2......a(n), |L|+1} <br>\n",
    "Then |a(n)| ≤ M for all n"
   ]
  },
  {
   "cell_type": "markdown",
   "id": "7dbefdc3-742d-4763-a9af-e4e39eb13112",
   "metadata": {},
   "source": [
    "Theorem 1. Let (an) and (bn) be convergent sequences with limits K and L respectively.\n",
    "\n",
    "1. The sum and the difference of the sequences (an ±bn) are convergent and have the limit K ± L. (exercise to do)\n",
    "2. The scaled sequence (ca(n)) is convergent and has the limit cK. (exercise to do)\n",
    "3. The product of the sequences a(n)b(n) is convergent and has the limit KL.\n",
    "4. If L≠0 then the quotient of the sequences a(n)/b(n) is convergent and has the limit K/L <br>\n",
    "In particular, there exists a number N(0), such that, for n > N(0), b(n) ≠ 0 and the quotient <br>\n",
    "sequence is well defined for n > N(0).\n",
    "\n",
    "### Proof (1) and (2) are an exercise\n",
    "\n",
    "3) fix ε > 0. We need to find a value of N such that n > N |a(n)b(n) - KL| < ε <br>\n",
    "- We have |a(n)b(n) - KL|\n",
    "- = |a(n)b(n) + a(n)L + a(n)L - KL|\n",
    "- = |a(n)(b(n)-L) + (a(n)-K)L| ≤ |a(n)(b(n)-L) + (a(n)-K)L|\n",
    "- by the triangle inequality\n",
    "- |a(n)||b(n) - L| + |a(n)-K||L|\n",
    "\n",
    "\n",
    "Now apply definition of convergencve for an and bn there exist N1 and N2 such that <br>\n",
    "n > N1 -> |an - k| < ε/2|L| <br>\n",
    "n > N2 -> |bn - L| < ε/2M  <br>\n",
    "Where M is the upper bound for |an| <br>\n",
    "Let N = max {N1, N2} (so that both conditions hold) <br>\n",
    "Then <br>\n",
    "n > N -> |anbn - KL| ≤ |an||bn - L| + |an - K||L| < |an| ε/2m + ε/2|L| |L| ≤ Mε/2m + ε/2|L| |L| <br>\n",
    "everything cancels to ε\n",
    "\n",
    "I UNDERSTOOD NONE OF THIS"
   ]
  },
  {
   "cell_type": "markdown",
   "id": "384e1335-bafa-484c-a28d-405906e6342a",
   "metadata": {
    "jp-MarkdownHeadingCollapsed": true
   },
   "source": [
    "## Limits and Supremum"
   ]
  },
  {
   "cell_type": "markdown",
   "id": "694505a2-c6e5-4c59-bb2f-1a9355be2d9c",
   "metadata": {},
   "source": [
    "Let S ⊂ R be a nonempty bounded set and α = sup S. Then there is an increasing sequence (an) of elements of S that converges to α."
   ]
  },
  {
   "cell_type": "markdown",
   "id": "3885955c-a32f-47ac-a124-aaf6c5956b9b",
   "metadata": {},
   "source": [
    "Proof - we want to construct a sequence (an)∞n=1 such that an -> α as n -> ∞. <br>\n",
    "fix n≥1 <br>\n",
    "Then α - 1/n is not an upper bound for S <br>\n",
    "So there exists an with α - 1/n < an ≤ α"
   ]
  },
  {
   "cell_type": "markdown",
   "id": "85bc6cc5-2241-4d88-bd9e-f3c93ef72f18",
   "metadata": {},
   "source": [
    "Any increasing bounded above sequence (an) converges and lim an = sup{an}.\n",
    "\n",
    "Proof  - Let s = our set of numbers, then S is bounded above so it has a supremum α = supS. <br>\n",
    "We want to show thatα is the limit of (an). <br>\n",
    "Fix e > 0. We need to find N such that n > N -> |an-α| < e <br>\n",
    "We know α - e < α. So there exists a term in the sequence aN <br>\n",
    "with α - e < aN ≤ α <br>\n",
    "Since the sequence is increasing n > N impoers <br>\n",
    "α - e < an ≤ α <br>\n",
    "so n > N -> |an - α| < e <br>\n",
    "hence an -> α as n -> ∞ <br>\n",
    "\n",
    "#### Example\n",
    "Lets take the sequence an = (1 + 1/n)^2. Then  <br>\n",
    "- a1 = (1 + 1/1)^1 = 2\n",
    "- a2 = (1 + 1/2)^2 = 9/4 > a1\n",
    "- a3 = (1 + 1/3)^3 = 64/27 > a2\n",
    "- This is the sequence of e or eulers number... my boy\n",
    "\n",
    "We will show that an is increasing and that it is bounded above and therefore converges <br>\n",
    "lecture 3: limits of sequences 1hour 20 minutes in, very detailed the answer is\n",
    "\n",
    "lim as n -> ∞ = (1 + 1/n)^n = e = 2.71828"
   ]
  },
  {
   "cell_type": "markdown",
   "id": "7d90d1b7-7794-410e-8903-7ded9e593f89",
   "metadata": {},
   "source": [
    "### Euler time baby"
   ]
  },
  {
   "cell_type": "markdown",
   "id": "4014de83-2c68-4b82-af14-3c971b14e700",
   "metadata": {},
   "source": [
    "Thought experiment, related to eulers number fro the proof above\n",
    "\n",
    "Lets imagine some event is \"one in a million\" <br>\n",
    "What happens if we try a million times. <br>\n",
    "The probability the event doesn't happen is: <br>\n",
    "- (999,999/1,000,000)^1,000,000 == (1-1/1,000,000)^1,000,000\n",
    "- = (1 - 1/n)^n as n -> ∞\n",
    "- e^-1 = 1/e\n",
    "- = 0.367879 (That it doesnt happen)\n",
    "\n",
    "The probability of success is 1-e^-1 = 63.2%"
   ]
  },
  {
   "cell_type": "markdown",
   "id": "f440e028-2888-4ce5-ac29-870a1e973f13",
   "metadata": {},
   "source": [
    "### Therom 3\n",
    "\n",
    "Theorem 3 (Comparison principle). Let (an) and (bn) be sequences with an ≤ bn\n",
    "(for all but finitely many n ) and such that lim an=L and lim bn=K,\n",
    "n→∞ n→∞\n",
    "\n",
    "exercise proof it"
   ]
  },
  {
   "cell_type": "markdown",
   "id": "45584e30-0ff7-4477-ab8c-8d99a581a6e6",
   "metadata": {},
   "source": [
    "### Theorem 4 (Squeeze theorem). \n",
    "Let (an), (bn) and (cn) be sequences with an ≤ bn ≤ cn (for all but finitely many n ) and such that <br>\n",
    "lim an = lim cn = L, <br>\n",
    "then (bn) also converges and <br>\n",
    "n→∞ n→∞ <br>\n",
    "lim bn = L. n→∞\n",
    "\n",
    "### Proof\n",
    "\n",
    "Fix ε > 0. we need to find N ssuch that <br>\n",
    "n>N -> |bn - L| < ε <br>\n",
    "There exist N1, N2 such that <br>\n",
    "n > N -> |an - L| < ε <br>\n",
    "n > N2 - > |cn - L| < ε <br>\n",
    "\n",
    "Let N = max{N1,N2}. Then if n > N <br>\n",
    "L - ε < an < bn < cn < L + ε <br>\n",
    "So the |bn - L|  < ε. Hence the lim n -> ∞ bn = L\n",
    "\n",
    "This appears in week 2 tutorial, Lectuce 3 1hr 50 minutes deep."
   ]
  },
  {
   "cell_type": "markdown",
   "id": "6ec51491-3f06-4905-8624-0bb7df71ca5a",
   "metadata": {
    "jp-MarkdownHeadingCollapsed": true
   },
   "source": [
    "## Infinity as a limit"
   ]
  },
  {
   "cell_type": "markdown",
   "id": "f8c526b0-5689-4f3f-8d67-21b000e7a205",
   "metadata": {},
   "source": [
    "Consider a sequence (an)∞n=0 defined in the following way (recurrance relationsihp)<br>\n",
    "\n",
    "a0 = 1\n",
    "a(n+1) = an+2/an+1 (Note the n+1 in the index, vs the +2 and +1 in the sum just adding those nubers to the sum) <br>\n",
    "\n",
    "This is a recurrence relation <br>\n",
    "a0 = 1\n",
    "a1 = a0+2/a0+1 = 1+2/1+1 = 3/2 = 1.5 <br>\n",
    "a2 = a1+2/a1+1 = 3/2+2 / 3/2+1 = 7/2 / 5/2 = 7/5 = 1.4 <br>\n",
    "a3 = 17/12 = 1.417...<br>\n",
    "a4 = 41/29 = 1.4138...<br>\n",
    "\n",
    "it looks like maybe an -> √2 as n -> ∞ <br>\n",
    "How could we prove this? let L = lim an n-> ∞ <br>\n",
    "\n",
    "Then \n",
    "L = lim an n -> ∞ = Lim n-> ∞ an+1 = (lim) an+2/an+1 <br>\n",
    "- = (lim) an+2/an+1\n",
    "- = L+2 / L+1 <br>\n",
    "\n",
    "Lets solve this <br>\n",
    "- L(L+1) = L + 2\n",
    "- L^2 + L = L + 2\n",
    "- L^2-L = 0\n",
    "- L = √2 and -√2\n",
    "- we can rule out neg √2 as its posititive <br>\n",
    "\n",
    "The problem is we dont acutally know is an convergers or not, we just assumedf it did <br>\n",
    "Watch lecture 4 from 15 mintutes for example "
   ]
  },
  {
   "cell_type": "markdown",
   "id": "e5a29f2f-1cd7-4c77-aa41-f4ce6688d35e",
   "metadata": {},
   "source": [
    "#### Infinity as a limit"
   ]
  },
  {
   "cell_type": "markdown",
   "id": "2e8bae02-c6ad-4110-ae8a-922d18e9e686",
   "metadata": {},
   "source": [
    "If a sequence doesnt converge we sat it divergess. If the terms get arbitrarily large, we say the limit is infinity and write <br>\n",
    "lim n-> ∞ an = ∞ <br>\n",
    "more precisely, For all M in N, such that n > N -> an > M <br>\n",
    "In other words, for any value of M (think big number) <br>\n",
    "The sequence is eventually bigger than M.\n",
    "\n",
    "#### Example \n",
    "\n",
    "let an = n^2, so (an)n=0 ∞ = (0,1,4,9,16,25,36....) <br>\n",
    "lets prove an -> ∞ as n -> ∞. <br>\n",
    "Fix M > 0 Then. <br>\n",
    "- an > M <-> n^2 > M\n",
    "- <- n > √m <br>\n",
    "\n",
    "Let N be any whole number bigger than √m <br>\n",
    "n > N -> n > √m -> n^2 M <-> an > M <br>\n",
    "we say an -> -∞ as n -> ∞ if -an -> ∞ <br>\n",
    "\n",
    "seqeunces can diverge in other ways, for example <br>\n",
    "an = (-1)^n = (-1,1,-1,1.....) has no limit."
   ]
  },
  {
   "cell_type": "markdown",
   "id": "9bb662e8-3669-4961-a548-f19690dc9c7f",
   "metadata": {},
   "source": [
    "If we have seqeucnes (an) and (bn) both diverge to infinity , it can be interesting <br>\n",
    "to compare how \"fast\" they diverge. This is useful when comparing algos for example. <br>\n",
    "\n",
    "Lets show that a geometric sequence <br>\n",
    "an = cr^n (c >0, r>1) diverges fast then any linear sequence bn= ∂,ß e R,∂ > 0 <br>\n",
    "\n",
    "an/bn -> ∞ as n -> ∞ <br>\n",
    "\n",
    "The derived sequence of an is a`n = c/r-1*r^n-1 <br>\n",
    "so an = a0 + a... just watch lecture 40mins in lecture 4..."
   ]
  },
  {
   "cell_type": "markdown",
   "id": "8d04b47f-2779-48c8-b0b4-ac68b5739589",
   "metadata": {},
   "source": [
    "## Functions"
   ]
  },
  {
   "cell_type": "markdown",
   "id": "c6735df6-b518-43a6-a23a-84356ba9f4f7",
   "metadata": {
    "jp-MarkdownHeadingCollapsed": true
   },
   "source": [
    "#### Intro"
   ]
  },
  {
   "cell_type": "markdown",
   "id": "e0f1615c-fefb-494e-8c3c-6d0caa8159b8",
   "metadata": {},
   "source": [
    "Lets consider functions f:x -> R where x is a subset of R and is usually and interval or Union of intervals<br>\n",
    "\n",
    "If f is defined by an algebraic formula, for example <br>\n",
    "f(x) = 1/x, the X(domain) will be the largest set on which the formula is defined.<br>\n",
    "For this example, here 1/x is not defined at x=0, so X=everything by 0 (-infinity, 0)U(0, infinity+) <br>\n",
    "or X = R\\{0} <br>\n",
    "\n",
    "The graph of f is the set of points <br>\n",
    "{(x,f(x)): x for all X} subset RxR.... <- the cartian plane\n",
    "<br>\n",
    "If f has an inverse, the graph of f inverse is the reflection of the graph of f in the line y=x.\n",
    "<br>\n"
   ]
  },
  {
   "cell_type": "markdown",
   "id": "4ed190f6-da05-45c3-87f9-eba0961d3379",
   "metadata": {
    "jp-MarkdownHeadingCollapsed": true
   },
   "source": [
    "### Linear Functions"
   ]
  },
  {
   "cell_type": "markdown",
   "id": "706f78fe-5209-4bcd-ad5f-c40b6f269db7",
   "metadata": {},
   "source": [
    "f(x) = mx + b, where m and b are fixed real numbers.<br>\n",
    "- m is the gradient or the slope\n",
    "- b is the y intercept"
   ]
  },
  {
   "cell_type": "markdown",
   "id": "d2d1a68c-a64b-45eb-aa40-76ad758d15c6",
   "metadata": {},
   "source": [
    "### Increasing and Decreasing functions"
   ]
  },
  {
   "cell_type": "markdown",
   "id": "935420eb-22d8-466e-a560-e374dcfdb151",
   "metadata": {},
   "source": [
    "A function f is called (strictly) increasing if for any two arguments <br>\r\n",
    "x1 < x2 from the domain f(x1) ≤ f(x2) (f(x1) < f(x2)) <br>.\r\n",
    "A function f is called (strictly) decreasing if for any two arguments x1 < x2 fr <br>om\r\n",
    "the domain f(x1) ≥ f(x2) (f(x1) > f(x2 <br>)).\r\n",
    "A function is called monotone if it is either increasing or decreas <r>\n",
    "i#ng.\r\n",
    "Propoitio\n",
    "\n",
    "n 8. If a function is strictly monotone, i.e. strictly increasing o <br> <br>ictly\r\n",
    "decreasing, then it ictives inj <br>c\n",
    "#### Proof\n",
    "Suppose f is strictly increasing. fix x != to x2 in the domain of X without loss of generality, x < x2. <br>\n",
    "Then f(x1) < f(x2), <br>\n",
    "In particular , f(x1) != f(x2). So f is injective, linear functions are always injective provided the slope is not 0<br>\n",
    "\n",
    "tive.\r"
   ]
  },
  {
   "cell_type": "markdown",
   "id": "7f6d2774-51e6-4311-8721-f7d401e74b84",
   "metadata": {
    "jp-MarkdownHeadingCollapsed": true
   },
   "source": [
    "### Power Functions"
   ]
  },
  {
   "cell_type": "markdown",
   "id": "8426a27b-a996-4cb5-91f0-7ba60dad7ec7",
   "metadata": {},
   "source": [
    "f(x) = x^n, wwhere n  > 1 (positive whole number) <br>\n",
    "\n",
    "The behaviour of these functions depends on whether n is even or odd <br>\n",
    "\n",
    "Even power functions are parabolas and not injective, if we restrict the domain of f(x) = x^2n to X = 0, infinity+ <br>\n",
    "then f is injective  and the inverse is g(x) = 2nsqrt(x) or x^1/2n <br>\n",
    "\n",
    "Odd power functions are s shaped and always injective.the inverse of f(x)=x^2n+1.\n",
    "<br>\n",
    "We can define power functions for any rational exponent p/q by x^p/q = (x^1/q)p or qsqrt(x)p<br>\n",
    "\n",
    "If n is negative, then we define x to the neg n to be 1 over x to the power positive n <br>\n",
    "#### Ex\n",
    "f(x)= x^-5/2=(x^1/2)-5 = 1/(x^1/2)5 = 1/sqrt(x^5)\n",
    "\n"
   ]
  },
  {
   "cell_type": "markdown",
   "id": "4dfdb388-0dd9-4453-b210-760e865be38f",
   "metadata": {
    "jp-MarkdownHeadingCollapsed": true
   },
   "source": [
    "### Polynomials"
   ]
  },
  {
   "cell_type": "markdown",
   "id": "208cd4e0-ccef-4e3f-a1b9-8e2eb9e939c6",
   "metadata": {},
   "source": [
    "f(x) = a^xn + a^xn-1 + ...... + a^x + a <br>\n",
    "\n",
    "The terms a0,a1,a2,a3 in the set of R are all called coefficients. <br>\n",
    "We call n (the highest power of x) We call the index of degree of the polyboi <br>\n",
    "an which is not 0 is the leading coeffiecent. <br>\n",
    "\n",
    "If f is a polynomial and we have f(x) = 0 we call x a roots<br>\n",
    "\n",
    "If f is a polynomial f x0 is a root of (f(x0)=0) <br>\n",
    "then, f(x) = (x-x0)g(x) <br>\n",
    "Where g(x) is another polynomial of degree one less than f.<br>\n",
    "\n",
    "A degree n polynomial can have at most n roots<br>\n",
    "\n",
    "#### Example \n",
    "f(x) = x^2 - 1 = (x-1)(x+1) has two roots <br>\n",
    "g(x) = x^2 + 1 = has no (real) roots\n",
    "k "
   ]
  },
  {
   "cell_type": "markdown",
   "id": "e2fbcd5b-229d-4d84-8f72-018860c4c72d",
   "metadata": {
    "jp-MarkdownHeadingCollapsed": true
   },
   "source": [
    "### Rational Functions"
   ]
  },
  {
   "cell_type": "markdown",
   "id": "0054aa9a-d722-466d-81dc-7f9b3b465a26",
   "metadata": {},
   "source": [
    "are ratios of polynomials <br>\n",
    "f(x) = p(x)/q(x) where p and q are polynomails. <br>\n",
    "The natural doamin is all real numbers except the roots of q <br>\n",
    "\n"
   ]
  },
  {
   "cell_type": "markdown",
   "id": "b3af401b-421b-4223-9bcf-0bfd01e56fb0",
   "metadata": {
    "jp-MarkdownHeadingCollapsed": true
   },
   "source": [
    "### Transcendtal functions"
   ]
  },
  {
   "cell_type": "markdown",
   "id": "20e25e92-e5e5-4f06-8263-506ff976943c",
   "metadata": {},
   "source": [
    "A function that can be defined using \"basic \" algebra, +,-,*,/, x^p/q, are called algebraic functions<br>\n",
    "\n",
    "Where as anything that is not call algebraic is called transcendental functions... you cannot define it using basic algebra<br>\n",
    "They behave like a blackbox"
   ]
  },
  {
   "cell_type": "markdown",
   "id": "b3a72357-a917-4666-8efd-4dabf1ab5f8f",
   "metadata": {
    "jp-MarkdownHeadingCollapsed": true
   },
   "source": [
    "### Exponential and Logarithmic Functions "
   ]
  },
  {
   "cell_type": "markdown",
   "id": "a1b4f42f-76c9-4601-806a-202a68e6ca54",
   "metadata": {},
   "source": [
    "Given a>0 and a != 1, define the base-a exponential f(x) = a^x <br>\n",
    "\n",
    "we define a^x by taking a limit a^xn as n->infinity <br>\n",
    "Where xsubn is a sequence pf rational approximations to x <br>\n",
    "\n",
    "#### I SHOULD KNOW AND USE THESE - Dave says... ie exam\n",
    "These functions satisfy: <br>\n",
    "a^x+y = a^xa^y &  (a^x)^y = a^xy<br>\n",
    "for any x,y for Real numbers. The exponential a^x:R-> (0, infinity) is monotone increasing and injective therefore invertible <br>\n",
    "We call dez here inverse exponential functions..... LOGARITHMS.\n",
    "\n",
    "#### LOGARITHMS\n",
    "log(base a): (0,infinity)->R,<br>\n",
    "where log a(x) = y wherever a^y=x <br>\n",
    "a^logn(x) = x <br>\n",
    "longn(a^x) = x<br>\n",
    "And that is for all x <br>\n",
    "\n",
    "Logarithms satisfy: <br>\n",
    "loga(xy)= loga(x) + loga(y)<br>\n",
    "loga(x^c) = c * loga(x)<br>\n",
    "\n",
    "#### Standard notation\n",
    "ln = loge where e = 2.71828.... Eulers number is the natyral log.<br>\n",
    "log base 10 is sometimes just written log <br>\n",
    "\n",
    "#### Example\n",
    "Imagine we want to calculate the square root of 7963.2, and I had to do it by hand and it's the 1600s.... <br>\n",
    "\n",
    "- log base 10(sqrt(7963.2)) =\n",
    "- log base 10((7963.2)^1/2) =\n",
    "- 1/2 * log base 10(7963.2) =\n",
    "- 1/2 * log base 10 (1000 * 7.9632)\n",
    "- 1/2 * (log base 10(1000) + log base 10(7.9632))\n",
    "- 1/2 * (3 + log base 10(7.9632))..... look up the log in a book of logs...\n",
    "- in the lecture he literally pulled up a book of logs from the 1600s\n",
    "- 1/2 * (3 + 0.9010876)\n",
    "- 1.9505438\n",
    "- So now sqrt(7963.2) = 10^1.9505438\n",
    "- Exponent rules now\n",
    "- 10^1 x 10 ^0.9505438\n",
    "- now use the book of logs but use it backwards as logs are inverse of exponents and visa versa.....\n",
    "- he also literally did this again in the lecture\n",
    "- 10 x 8.9236(came from the book) =\n",
    "- 89.236 is the answer using da book of logs\n",
    "- and a calculator says...89.2367\n",
    "- what the fuck is this math class rn"
   ]
  },
  {
   "cell_type": "markdown",
   "id": "f19fbdce-5652-40de-acf6-6ee1a020b756",
   "metadata": {
    "jp-MarkdownHeadingCollapsed": true
   },
   "source": [
    "### Trigonometric functions"
   ]
  },
  {
   "cell_type": "markdown",
   "id": "38274d6b-ffbc-45be-81ea-c07c5ac4a93b",
   "metadata": {},
   "source": [
    "Trigonometical functions are also transandential functions <br>\n",
    "\n",
    "We take a circle and put it on a set of axis, such that the center of the circle is at the orgin <br>\n",
    "and we assume that the radius of that circle is 1, and we take a point on that circle. <br>\n",
    "The trig functsions cos and sin are the x and y coords of that point. <br>\n",
    "\n",
    "Define tan as sin/cos <br>\n",
    "which we can interpret as the slope of the line. <br>\n",
    "\n",
    "The trig functions are not injective on their natural domains, <br>\n",
    "- if we restrict sin to -pi/2, pi/2 OR -90, 90 degrees.\n",
    "- &\n",
    "- if we restrict cos to 0,pi\n",
    "- we get inverse functions better known as\n",
    "- arcsin, arccos or sin^-1, cos^-1, though the 1 istn a power, just how the notation looks.\n",
    "- arcsin = [-1 , 1] -> [-pi/2, pi/2]\n",
    "- arccos = [-1,1] -> [0,pi]\n",
    "\n",
    "To make tan injective we restrict to (-pi/2, pi/2) <br>\n",
    "to get the inverse <br>\n",
    "arctan = tan^-1:R ->(-pi/2, pi/2)"
   ]
  },
  {
   "cell_type": "markdown",
   "id": "4eb94eb3-1980-4b17-80de-a4420e028d37",
   "metadata": {},
   "source": [
    "## Continuity"
   ]
  },
  {
   "cell_type": "markdown",
   "id": "9ae6ca64-10b9-42ea-81f2-ec1e57448488",
   "metadata": {},
   "source": [
    "Suppose we have a function f: x -> R and a ponit x0"
   ]
  }
 ],
 "metadata": {
  "kernelspec": {
   "display_name": "Python 3 (ipykernel)",
   "language": "python",
   "name": "python3"
  },
  "language_info": {
   "codemirror_mode": {
    "name": "ipython",
    "version": 3
   },
   "file_extension": ".py",
   "mimetype": "text/x-python",
   "name": "python",
   "nbconvert_exporter": "python",
   "pygments_lexer": "ipython3",
   "version": "3.11.7"
  }
 },
 "nbformat": 4,
 "nbformat_minor": 5
}
