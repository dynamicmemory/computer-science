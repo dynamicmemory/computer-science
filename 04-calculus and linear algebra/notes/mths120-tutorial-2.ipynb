{
 "cells": [
  {
   "cell_type": "markdown",
   "id": "7ad9db10-4d73-42a6-be50-b4a814b667bb",
   "metadata": {},
   "source": [
    "Tutorial 2"
   ]
  },
  {
   "cell_type": "markdown",
   "id": "f2708b2f-1d6e-4a50-9b4b-5432bc23a2e5",
   "metadata": {
    "jp-MarkdownHeadingCollapsed": true
   },
   "source": [
    "## Question 1"
   ]
  },
  {
   "cell_type": "markdown",
   "id": "bca39306-6aa2-46bd-876f-a108649ac9ec",
   "metadata": {},
   "source": [
    "a) sn = 3\n",
    "- 3, 3, 3, 3, 3\n",
    "- the limit is 3 <br>\n",
    "\n",
    "b) sn = n^2\n",
    "- 1, 4, 9, 16, 25\n",
    "- The upper bound is endless, therefore there is no limit, as infinity is boundless <br>\n",
    "- CORRECTION POST TUTORIAL\n",
    "- Its limit diverges to infinity, so we wouldnt say it doesnt have a limit \n",
    "\n",
    "c) sn = (-1)^n/n^2\n",
    "- -1, 1/4, -1/9, 1/16, -1/25\n",
    "- sn = ((-1)^n/n^2) / (n^2/n^2) = 0/1 = 0\n",
    "- therefore the limit is zero"
   ]
  },
  {
   "cell_type": "markdown",
   "id": "3cc3eaf1-61b6-4154-9f8f-0e3fc99b54c0",
   "metadata": {
    "jp-MarkdownHeadingCollapsed": true
   },
   "source": [
    "## Question 2"
   ]
  },
  {
   "cell_type": "markdown",
   "id": "0d275420-740f-4ad3-ba0f-2bfd163a7f6a",
   "metadata": {},
   "source": []
  },
  {
   "cell_type": "markdown",
   "id": "888b9c42-6c77-45cc-b877-1e64b814ba08",
   "metadata": {
    "jp-MarkdownHeadingCollapsed": true
   },
   "source": [
    "## Question 3"
   ]
  },
  {
   "cell_type": "markdown",
   "id": "64311379-2211-48a0-8abf-a9d93fc800ba",
   "metadata": {},
   "source": [
    "lim n→∞ \n",
    "5n −  / \r\n",
    "n + = 5 1"
   ]
  },
  {
   "cell_type": "markdown",
   "id": "7254aef3-e02e-4262-9717-e0273b845ac0",
   "metadata": {
    "jp-MarkdownHeadingCollapsed": true
   },
   "source": [
    "## Question 4 1"
   ]
  },
  {
   "cell_type": "markdown",
   "id": "a0b7b90b-4090-486f-89fa-5683fc0b462e",
   "metadata": {},
   "source": [
    "limn→∞ n^5 + n^3 + 6 / n^2 + 1 \n",
    "- n^5/n^2 = n^3, n^3/n^2 = n, 6/n^2 = 0\n",
    "- n^2/n^2 = 1 and 1/n^2 = 0\n",
    "- therefore\n",
    "- n^3+n / 1 = infinity\n"
   ]
  },
  {
   "cell_type": "markdown",
   "id": "6724d3ec-2dad-45c7-98fe-e64cad63bdc9",
   "metadata": {
    "jp-MarkdownHeadingCollapsed": true
   },
   "source": [
    "## Question 5"
   ]
  },
  {
   "cell_type": "markdown",
   "id": "4b1167b5-bc58-409c-998a-4aa05acc2df2",
   "metadata": {},
   "source": [
    "limn→∞ 1000n^4 + 75n + 10000 / n^2 + 1\n",
    "- 0, all numerator terms reduce to 0 and denom to 1. which = 0"
   ]
  },
  {
   "cell_type": "markdown",
   "id": "f6073681-e589-43c0-87ee-c25207108631",
   "metadata": {
    "jp-MarkdownHeadingCollapsed": true
   },
   "source": [
    "## Question 6"
   ]
  },
  {
   "cell_type": "markdown",
   "id": "3144efa0-3afb-4ec5-8510-01a181edc210",
   "metadata": {},
   "source": [
    "lim n→∞ 7n^44 + n^43 - n / 14n^44 + n^2 + 6\n",
    "- all term reduce to 1+0-0 / 1+0+0 = 1/1 = 1"
   ]
  },
  {
   "cell_type": "markdown",
   "id": "19d78586-40bf-4606-886c-49a90aa40cc0",
   "metadata": {
    "jp-MarkdownHeadingCollapsed": true
   },
   "source": [
    "## Question 7"
   ]
  },
  {
   "cell_type": "markdown",
   "id": "fd73a6fd-f674-425c-8f8f-d729bf9cf8af",
   "metadata": {},
   "source": [
    "lim n→∞ cos n / n\n",
    "- 0"
   ]
  },
  {
   "cell_type": "markdown",
   "id": "2058842a-54a1-44c2-81a6-5792aafd0aed",
   "metadata": {
    "jp-MarkdownHeadingCollapsed": true
   },
   "source": [
    "## Question 8 "
   ]
  },
  {
   "cell_type": "markdown",
   "id": "7b8f2753-e67c-4bbb-9332-2fb9630103ae",
   "metadata": {},
   "source": [
    "lim n→∞ cos * 1/n\n",
    "- cos 0 = 1\r",
    "\r\n",
    "."
   ]
  },
  {
   "cell_type": "markdown",
   "id": "5db6b87d-cb17-48ca-a31c-ded7d6236489",
   "metadata": {
    "jp-MarkdownHeadingCollapsed": true
   },
   "source": [
    "## Question 9 "
   ]
  },
  {
   "cell_type": "markdown",
   "id": "b34ed664-4c07-45ab-be5d-d033dd4ab82a",
   "metadata": {},
   "source": [
    "lim n→∞ cos(Pi*n)\r",
    "- No limit as cos will occilate between -1 and 1 forever timings it by the next number in the seqn\r\n",
    "."
   ]
  },
  {
   "cell_type": "markdown",
   "id": "bdc8f9db-b594-4955-a2be-3081fac7e4de",
   "metadata": {
    "jp-MarkdownHeadingCollapsed": true
   },
   "source": [
    "## Question 10"
   ]
  },
  {
   "cell_type": "markdown",
   "id": "eeb52e96-a745-4566-8b7d-27538978dd84",
   "metadata": {},
   "source": [
    "lim n→∞\r\n",
    "cos2(πn\n",
    "- 1 as the times 2 will always give even numbers of Pi... ie, 0 , 2, 4, 6\n",
    "- therefore cosine will always be equal to 1)"
   ]
  },
  {
   "cell_type": "markdown",
   "id": "dcff943a-d23c-4eca-98cf-042faef1c110",
   "metadata": {
    "jp-MarkdownHeadingCollapsed": true
   },
   "source": [
    "## Question 11"
   ]
  },
  {
   "cell_type": "markdown",
   "id": "778ed105-ff29-4ecb-8ba1-a45d87ce080b",
   "metadata": {},
   "source": [
    "lim n→∞ \n",
    "cos \n",
    "- Like questions 9, we are just taking cosine at every number in the sequence, so it will ocsilate between 1 and -1 till infinity, therefore there is no limitn"
   ]
  },
  {
   "cell_type": "code",
   "execution_count": null,
   "id": "e22395af-eb23-44ca-8f0c-48460bd5b248",
   "metadata": {},
   "outputs": [],
   "source": []
  }
 ],
 "metadata": {
  "kernelspec": {
   "display_name": "Python 3 (ipykernel)",
   "language": "python",
   "name": "python3"
  },
  "language_info": {
   "codemirror_mode": {
    "name": "ipython",
    "version": 3
   },
   "file_extension": ".py",
   "mimetype": "text/x-python",
   "name": "python",
   "nbconvert_exporter": "python",
   "pygments_lexer": "ipython3",
   "version": "3.11.7"
  }
 },
 "nbformat": 4,
 "nbformat_minor": 5
}
